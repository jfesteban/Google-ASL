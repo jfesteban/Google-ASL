{
 "cells": [
  {
   "cell_type": "markdown",
   "metadata": {},
   "source": [
    "# Introducing the Keras Sequential API\n",
    "\n",
    "**Learning Objectives**\n",
    "  1. Build a DNN model using the Keras Sequential API\n",
    "  1. Learn how to use feature columns in a Keras model\n",
    "  1. Learn how to train a model with Keras\n",
    "  1. Learn how to save/load, and deploy a Keras model on GCP\n",
    "  1. Learn how to deploy and make predictions with at Keras model\n",
    "\n",
    "## Introduction\n",
    "\n",
    "The [Keras sequential API](https://keras.io/models/sequential/) allows you to create Tensorflow models layer-by-layer. This is useful for building most kinds of machine learning models but it does not allow you to create models that share layers, re-use layers or have multiple inputs or outputs. \n",
    "\n",
    "In this lab, we'll see how to build a simple deep neural network model using the keras sequential api and feature columns. Once we have trained our model, we will deploy it using AI Platform and see how to call our model for online prediciton.\n"
   ]
  },
  {
   "cell_type": "markdown",
   "metadata": {},
   "source": [
    "Start by importing the necessary libraries for this lab."
   ]
  },
  {
   "cell_type": "code",
   "execution_count": 1,
   "metadata": {},
   "outputs": [
    {
     "name": "stdout",
     "output_type": "stream",
     "text": [
      "2.1.1\n"
     ]
    }
   ],
   "source": [
    "import datetime\n",
    "import os\n",
    "import shutil\n",
    "\n",
    "import numpy as np\n",
    "import pandas as pd\n",
    "import tensorflow as tf\n",
    "\n",
    "from matplotlib import pyplot as plt\n",
    "from tensorflow import keras\n",
    "\n",
    "from tensorflow.keras.models import Sequential\n",
    "from tensorflow.keras.layers import Dense, DenseFeatures\n",
    "from tensorflow.keras.callbacks import TensorBoard\n",
    "\n",
    "print(tf.__version__)\n",
    "%matplotlib inline"
   ]
  },
  {
   "cell_type": "markdown",
   "metadata": {},
   "source": [
    "## Load raw data \n",
    "\n",
    "We will use the taxifare dataset, using the CSV files that we created in the first notebook of this sequence. Those files have been saved into `../data`."
   ]
  },
  {
   "cell_type": "code",
   "execution_count": 2,
   "metadata": {},
   "outputs": [
    {
     "name": "stdout",
     "output_type": "stream",
     "text": [
      "-rw-r--r-- 1 jupyter jupyter 123590 Nov 29 03:14 ../data/taxi-test.csv\n",
      "-rw-r--r-- 1 jupyter jupyter 579055 Nov 29 03:14 ../data/taxi-train.csv\n",
      "-rw-r--r-- 1 jupyter jupyter 123114 Nov 29 03:14 ../data/taxi-valid.csv\n"
     ]
    }
   ],
   "source": [
    "!ls -l ../data/*.csv"
   ]
  },
  {
   "cell_type": "code",
   "execution_count": 3,
   "metadata": {},
   "outputs": [
    {
     "name": "stdout",
     "output_type": "stream",
     "text": [
      "==> ../data/taxi-test.csv <==\n",
      "6.0,2013-03-27 03:35:00 UTC,-73.977672,40.784052,-73.965332,40.801025,2,0\n",
      "19.3,2012-05-10 18:43:16 UTC,-73.954366,40.778924,-74.004094,40.723104,1,1\n",
      "7.5,2014-05-20 23:09:00 UTC,-73.999165,40.738377,-74.003473,40.723862,2,2\n",
      "12.5,2015-02-23 19:51:31 UTC,-73.9652099609375,40.76948165893555,-73.98949432373047,40.739742279052734,1,3\n",
      "10.9,2011-03-19 03:32:00 UTC,-73.99259,40.742957,-73.989908,40.711053,1,4\n",
      "7.0,2012-09-18 12:51:11 UTC,-73.971195,40.751566,-73.975922,40.756361,1,5\n",
      "19.0,2014-05-20 23:09:00 UTC,-73.998392,40.74517,-73.939845,40.74908,1,6\n",
      "8.9,2012-07-18 08:46:08 UTC,-73.997638,40.756541,-73.973303,40.762019,1,7\n",
      "4.5,2010-07-11 20:39:08 UTC,-73.976738,40.751321,-73.986671,40.74883,1,8\n",
      "7.0,2013-12-12 02:16:40 UTC,-73.985024,40.767537,-73.981273,40.779302,1,9\n",
      "\n",
      "==> ../data/taxi-train.csv <==\n",
      "11.3,2011-01-28 20:42:59 UTC,-73.999022,40.739146,-73.990369,40.717866,1,0\n",
      "7.7,2011-06-27 04:28:06 UTC,-73.987443,40.729221,-73.979013,40.758641,1,1\n",
      "10.5,2011-04-03 00:54:53 UTC,-73.982539,40.735725,-73.954797,40.778388,1,2\n",
      "16.2,2009-04-10 04:11:56 UTC,-74.001945,40.740505,-73.91385,40.758559,1,3\n",
      "33.5,2014-02-24 18:22:00 UTC,-73.993372,40.753382,-73.8609,40.732897,2,4\n",
      "6.9,2011-12-10 00:25:23 UTC,-73.996237,40.721848,-73.989416,40.718052,1,5\n",
      "6.1,2012-09-01 14:30:19 UTC,-73.977048,40.758461,-73.984899,40.744693,2,6\n",
      "9.5,2012-11-08 13:28:07 UTC,-73.969402,40.757545,-73.950049,40.776079,1,7\n",
      "9.0,2014-07-15 11:37:25 UTC,-73.979318,40.760949,-73.95767,40.773724,1,8\n",
      "3.3,2009-11-09 18:06:58 UTC,-73.955675,40.779154,-73.961172,40.772368,1,9\n",
      "\n",
      "==> ../data/taxi-valid.csv <==\n",
      "5.3,2012-01-03 19:21:35 UTC,-73.962627,40.763214,-73.973485,40.753353,1,0\n",
      "25.3,2010-09-27 07:30:15 UTC,-73.965799,40.794243,-73.927134,40.852261,3,1\n",
      "27.5,2015-05-19 00:40:02 UTC,-73.86344146728516,40.76899719238281,-73.96058654785156,40.76129913330078,1,2\n",
      "5.7,2010-04-29 12:28:00 UTC,-73.989255,40.738912,-73.97558,40.749172,1,3\n",
      "11.5,2013-06-23 06:08:09 UTC,-73.99731,40.763735,-73.955657,40.768141,1,4\n",
      "18.0,2014-10-14 18:52:03 UTC,-73.997995,40.761638,-74.008985,40.712442,1,5\n",
      "4.9,2010-04-29 12:28:00 UTC,-73.977315,40.766182,-73.970845,40.761462,5,6\n",
      "32.33,2014-02-24 18:22:00 UTC,-73.985358,40.761352,-73.92427,40.699145,1,7\n",
      "17.0,2015-03-26 02:48:58 UTC,-73.93981170654297,40.846473693847656,-73.97361755371094,40.786983489990234,1,8\n",
      "12.5,2013-04-09 09:39:13 UTC,-73.977323,40.753934,-74.00719,40.741472,1,9\n"
     ]
    }
   ],
   "source": [
    "!head ../data/taxi*.csv"
   ]
  },
  {
   "cell_type": "markdown",
   "metadata": {},
   "source": [
    "## Use tf.data to read the CSV files\n",
    "\n",
    "We wrote these functions for reading data from the csv files above in the [previous notebook](https://github.com/GoogleCloudPlatform/training-data-analyst/blob/master/courses/machine_learning/deepdive2/introduction_to_tensorflow/labs/2_dataset_api.ipynb)."
   ]
  },
  {
   "cell_type": "code",
   "execution_count": 4,
   "metadata": {},
   "outputs": [],
   "source": [
    "CSV_COLUMNS = [\n",
    "    'fare_amount',\n",
    "    'pickup_datetime',\n",
    "    'pickup_longitude',\n",
    "    'pickup_latitude',\n",
    "    'dropoff_longitude',\n",
    "    'dropoff_latitude',\n",
    "    'passenger_count',\n",
    "    'key'\n",
    "]\n",
    "LABEL_COLUMN = 'fare_amount'\n",
    "DEFAULTS = [[0.0], ['na'], [0.0], [0.0], [0.0], [0.0], [0.0], ['na']]\n",
    "UNWANTED_COLS = ['pickup_datetime', 'key']\n",
    "\n",
    "\n",
    "def features_and_labels(row_data):\n",
    "    label = row_data.pop(LABEL_COLUMN)\n",
    "    features = row_data\n",
    "    \n",
    "    for unwanted_col in UNWANTED_COLS:\n",
    "        features.pop(unwanted_col)\n",
    "\n",
    "    return features, label\n",
    "\n",
    "\n",
    "def create_dataset(pattern, batch_size=1, mode='eval'):\n",
    "    dataset = tf.data.experimental.make_csv_dataset(\n",
    "        pattern, batch_size, CSV_COLUMNS, DEFAULTS) #JOSE: the pattern is a file path\n",
    "\n",
    "    dataset = dataset.map(features_and_labels)\n",
    "\n",
    "    if mode == 'train':\n",
    "        dataset = dataset.shuffle(buffer_size=1000).repeat()\n",
    "\n",
    "    # take advantage of multi-threading; 1=AUTOTUNE\n",
    "    dataset = dataset.prefetch(1)\n",
    "    return dataset"
   ]
  },
  {
   "cell_type": "markdown",
   "metadata": {},
   "source": [
    "## Build a simple keras DNN model\n",
    "\n",
    "We will use feature columns to connect our raw data to our keras DNN model. Feature columns make it easy to perform common types of feature engineering on your raw data. For example, you can one-hot encode categorical data, create feature crosses, embeddings and more. We'll cover these in more detail later in the course, but if you want to a sneak peak browse the official TensorFlow [feature columns guide](https://www.tensorflow.org/guide/feature_columns).\n",
    "\n",
    "In our case we won't do any feature engineering. However, we still need to create a list of feature columns to specify the numeric values which will be passed on to our model. To do this, we use `tf.feature_column.numeric_column()`\n",
    "\n",
    "We use a python dictionary comprehension to create the feature columns for our model, which is just an elegant alternative to a for loop."
   ]
  },
  {
   "cell_type": "markdown",
   "metadata": {},
   "source": [
    "**Exercise.** Create a feature column dictionary that we will use when building our deep neural network below. The keys should be the element of the `INPUT_COLS` list, while the values should be numeric feature columns."
   ]
  },
  {
   "cell_type": "code",
   "execution_count": 5,
   "metadata": {},
   "outputs": [],
   "source": [
    "INPUT_COLS = [\n",
    "    'pickup_longitude',\n",
    "    'pickup_latitude',\n",
    "    'dropoff_longitude',\n",
    "    'dropoff_latitude',\n",
    "    'passenger_count',\n",
    "]\n",
    "\n",
    "# Create input layer of feature columns\n",
    "\n",
    "feature_columns = {\n",
    "colname: tf.feature_column.numeric_column(colname)\n",
    "for colname in INPUT_COLS}\n",
    "#    tf.feature_column.numeric_column('pickup_longitude'),\n",
    "#    tf.feature_column.numeric_column('pickup_latitude'),\n",
    "#    tf.feature_column.numeric_column('dropoff_longitude'),\n",
    "#    tf.feature_column.numeric_column('dropoff_latitude'),\n",
    "#    tf.feature_column.numeric_column('passenger_count')\n",
    "#] # TODO: Your code here"
   ]
  },
  {
   "cell_type": "markdown",
   "metadata": {},
   "source": [
    "Next, we create the DNN model. The Sequential model is a linear stack of layers and when building a model using the Sequential API, you configure each layer of the model in turn. Once all the layers have been added, you compile the model. "
   ]
  },
  {
   "cell_type": "markdown",
   "metadata": {},
   "source": [
    "**Exercise.** Create a deep neural network using Keras's Sequential API. In the cell below, use the `tf.keras.layers` library to create all the layers for your deep neural network. "
   ]
  },
  {
   "cell_type": "code",
   "execution_count": 8,
   "metadata": {},
   "outputs": [],
   "source": [
    "# Build a keras DNN model using Sequential API\n",
    "model = Sequential([\n",
    "    DenseFeatures(feature_columns=feature_columns.values()),\n",
    "    Dense(units=30, activation='relu'),\n",
    "    Dense(units=10, activation='relu'),\n",
    "    Dense(units=1, activation='linear'),\n",
    "]) # TODO: Your code here ESTO LO TENÍA MASL POR LA SINTAXIS: yo ponía tf.keras.dense... "
   ]
  },
  {
   "cell_type": "markdown",
   "metadata": {},
   "source": [
    "Next, to prepare the model for training, you must configure the learning process. This is done using the compile method. The compile method takes three arguments:\n",
    "\n",
    "* An optimizer. This could be the string identifier of an existing optimizer (such as `rmsprop` or `adagrad`), or an instance of the [Optimizer class](https://www.tensorflow.org/versions/r2.0/api_docs/python/tf/keras/optimizers).\n",
    "* A loss function. This is the objective that the model will try to minimize. It can be the string identifier of an existing loss function from the [Losses class](https://www.tensorflow.org/versions/r2.0/api_docs/python/tf/keras/losses) (such as categorical_crossentropy or mse), or it can be a custom objective function.\n",
    "* A list of metrics. For any machine learning problem you will want a set of metrics to evaluate your model. A metric could be the string identifier of an existing metric or a custom metric function.\n",
    "\n",
    "We will add an additional custom metric called `rmse` to our list of metrics which will return the root mean square error. "
   ]
  },
  {
   "cell_type": "markdown",
   "metadata": {},
   "source": [
    "**Exercise.** Compile the model you created above. Create a custom loss function called `rmse` which computes the root mean squared error between `y_true` and `y_pred`. Pass this function to the model as an evaluation metric. "
   ]
  },
  {
   "cell_type": "code",
   "execution_count": 9,
   "metadata": {},
   "outputs": [],
   "source": [
    "# Create a custom evalution metric\n",
    "def rmse(y_true, y_pred):\n",
    "    return tf.sqrt(tf.reduce_mean(tf.square(y_pred-y_true))) # TODO: Your code here\n",
    "\n",
    "# Compile the keras model\n",
    "model.compile(optimizer=\"adam\", loss=\"mse\", metrics=[rmse, \"mse\"]) # TODO: Your code here"
   ]
  },
  {
   "cell_type": "markdown",
   "metadata": {},
   "source": [
    "## Train the model\n",
    "\n",
    "To train your model, Keras provides three functions that can be used:\n",
    " 1. `.fit()` for training a model for a fixed number of epochs (iterations on a dataset).\n",
    " 2. `.fit_generator()` for training a model on data yielded batch-by-batch by a generator\n",
    " 3. `.train_on_batch()` runs a single gradient update on a single batch of data. \n",
    " \n",
    "The `.fit()` function works well for small datasets which can fit entirely in memory. However, for large datasets (or if you need to manipulate the training data on the fly via data augmentation, etc) you will need to use `.fit_generator()` instead. The `.train_on_batch()` method is for more fine-grained control over training and accepts only a single batch of data.\n",
    "\n",
    "The taxifare dataset we sampled is small enough to fit in memory, so can we could use `.fit` to train our model. Our `create_dataset` function above generates batches of training examples, so we could also use `.fit_generator`. In fact, when calling `.fit` the method inspects the data, and if it's a generator (as our dataset is) it will invoke automatically `.fit_generator` for training. \n",
    "\n",
    "We start by setting up some parameters for our training job and create the data generators for the training and validation data.\n",
    "\n",
    "We refer you the the blog post [ML Design Pattern #3: Virtual Epochs](https://medium.com/google-cloud/ml-design-pattern-3-virtual-epochs-f842296de730) for further details on why express the training in terms of `NUM_TRAIN_EXAMPLES` and `NUM_EVALS` and why, in this training code, the number of epochs is really equal to the number of evaluations we perform."
   ]
  },
  {
   "cell_type": "code",
   "execution_count": 10,
   "metadata": {},
   "outputs": [],
   "source": [
    "TRAIN_BATCH_SIZE = 1000\n",
    "NUM_TRAIN_EXAMPLES = 10000 * 5  # training dataset will repeat, wrap around\n",
    "NUM_EVALS = 50  # how many times to evaluate\n",
    "NUM_EVAL_EXAMPLES = 10000  # enough to get a reasonable sample\n",
    "\n",
    "trainds = create_dataset(\n",
    "    pattern='../data/taxi-train*',\n",
    "    batch_size=TRAIN_BATCH_SIZE,\n",
    "    mode='train')\n",
    "\n",
    "evalds = create_dataset(\n",
    "    pattern='../data/taxi-valid*',\n",
    "    batch_size=1000,\n",
    "    mode='eval').take(NUM_EVAL_EXAMPLES//1000)"
   ]
  },
  {
   "cell_type": "markdown",
   "metadata": {},
   "source": [
    "There are various arguments you can set when calling the [.fit method](https://www.tensorflow.org/versions/r2.0/api_docs/python/tf/keras/Model#fit). Here `x` specifies the input data which in our case is a `tf.data` dataset returning a tuple of (inputs, targets). The `steps_per_epoch` parameter is used to mark the end of training for a single epoch. Here we are training for NUM_EVALS epochs. Lastly, for the `callback` argument we specify a Tensorboard callback so we can inspect Tensorboard after training. "
   ]
  },
  {
   "cell_type": "markdown",
   "metadata": {},
   "source": [
    "**Exercise.** In the cell below, you will train your model. First, define the `steps_per_epoch` then train your model using `.fit()`, saving the model training output to a variable called `history`."
   ]
  },
  {
   "cell_type": "code",
   "execution_count": 12,
   "metadata": {},
   "outputs": [
    {
     "name": "stdout",
     "output_type": "stream",
     "text": [
      "CPU times: user 3 µs, sys: 0 ns, total: 3 µs\n",
      "Wall time: 5.96 µs\n",
      "Train for 1 steps, validate for 10 steps\n",
      "Epoch 1/50\n",
      "1/1 [==============================] - 16s 16s/step - loss: 2596.7300 - rmse: 50.9581 - mse: 2596.7300 - val_loss: 2525.5294 - val_rmse: 50.2532 - val_mse: 2525.5293\n",
      "Epoch 2/50\n",
      "WARNING:tensorflow:Method (on_train_batch_end) is slow compared to the batch update (0.413867). Check your callbacks.\n",
      "1/1 [==============================] - 1s 828ms/step - loss: 2420.7737 - rmse: 49.2014 - mse: 2420.7737 - val_loss: 2362.9251 - val_rmse: 48.6089 - val_mse: 2362.9250\n",
      "Epoch 3/50\n",
      "1/1 [==============================] - 0s 440ms/step - loss: 2276.4104 - rmse: 47.7117 - mse: 2276.4104 - val_loss: 2201.6777 - val_rmse: 46.9201 - val_mse: 2201.6775\n",
      "Epoch 4/50\n",
      "1/1 [==============================] - 0s 387ms/step - loss: 2137.9326 - rmse: 46.2378 - mse: 2137.9326 - val_loss: 2054.4463 - val_rmse: 45.3251 - val_mse: 2054.4463\n",
      "Epoch 5/50\n",
      "1/1 [==============================] - 0s 384ms/step - loss: 2004.5123 - rmse: 44.7718 - mse: 2004.5123 - val_loss: 1906.8706 - val_rmse: 43.6671 - val_mse: 1906.8706\n",
      "Epoch 6/50\n",
      "1/1 [==============================] - 0s 490ms/step - loss: 1812.5291 - rmse: 42.5738 - mse: 1812.5291 - val_loss: 1775.1169 - val_rmse: 42.1318 - val_mse: 1775.1169\n",
      "Epoch 7/50\n",
      "1/1 [==============================] - 0s 456ms/step - loss: 1763.7963 - rmse: 41.9976 - mse: 1763.7963 - val_loss: 1643.7917 - val_rmse: 40.5429 - val_mse: 1643.7916\n",
      "Epoch 8/50\n",
      "1/1 [==============================] - 1s 514ms/step - loss: 1596.8622 - rmse: 39.9608 - mse: 1596.8622 - val_loss: 1524.0251 - val_rmse: 39.0354 - val_mse: 1524.0251\n",
      "Epoch 9/50\n",
      "1/1 [==============================] - 0s 480ms/step - loss: 1457.6354 - rmse: 38.1790 - mse: 1457.6354 - val_loss: 1401.0693 - val_rmse: 37.4287 - val_mse: 1401.0695\n",
      "Epoch 10/50\n",
      "1/1 [==============================] - 1s 504ms/step - loss: 1363.8428 - rmse: 36.9302 - mse: 1363.8428 - val_loss: 1293.7943 - val_rmse: 35.9674 - val_mse: 1293.7942\n",
      "Epoch 11/50\n",
      "1/1 [==============================] - 0s 455ms/step - loss: 1193.4403 - rmse: 34.5462 - mse: 1193.4403 - val_loss: 1192.2410 - val_rmse: 34.5269 - val_mse: 1192.2410\n",
      "Epoch 12/50\n",
      "1/1 [==============================] - 0s 366ms/step - loss: 1125.9397 - rmse: 33.5550 - mse: 1125.9397 - val_loss: 1097.5280 - val_rmse: 33.1230 - val_mse: 1097.5280\n",
      "Epoch 13/50\n",
      "1/1 [==============================] - 0s 471ms/step - loss: 1047.0059 - rmse: 32.3575 - mse: 1047.0059 - val_loss: 1006.7187 - val_rmse: 31.7257 - val_mse: 1006.7187\n",
      "Epoch 14/50\n",
      "1/1 [==============================] - 0s 429ms/step - loss: 942.3292 - rmse: 30.6974 - mse: 942.3292 - val_loss: 921.8628 - val_rmse: 30.3616 - val_mse: 921.8629\n",
      "Epoch 15/50\n",
      "1/1 [==============================] - 0s 438ms/step - loss: 899.8262 - rmse: 29.9971 - mse: 899.8262 - val_loss: 842.2963 - val_rmse: 29.0196 - val_mse: 842.2964\n",
      "Epoch 16/50\n",
      "1/1 [==============================] - 0s 490ms/step - loss: 856.6132 - rmse: 29.2680 - mse: 856.6132 - val_loss: 765.5565 - val_rmse: 27.6665 - val_mse: 765.5565\n",
      "Epoch 17/50\n",
      "1/1 [==============================] - 1s 536ms/step - loss: 738.3397 - rmse: 27.1724 - mse: 738.3397 - val_loss: 694.7025 - val_rmse: 26.3534 - val_mse: 694.7025\n",
      "Epoch 18/50\n",
      "1/1 [==============================] - 0s 490ms/step - loss: 680.6403 - rmse: 26.0891 - mse: 680.6403 - val_loss: 628.6869 - val_rmse: 25.0717 - val_mse: 628.6868\n",
      "Epoch 19/50\n",
      "1/1 [==============================] - 0s 429ms/step - loss: 575.8441 - rmse: 23.9968 - mse: 575.8441 - val_loss: 570.6437 - val_rmse: 23.8836 - val_mse: 570.6438\n",
      "Epoch 20/50\n",
      "1/1 [==============================] - 0s 408ms/step - loss: 526.6068 - rmse: 22.9479 - mse: 526.6068 - val_loss: 514.5000 - val_rmse: 22.6816 - val_mse: 514.4999\n",
      "Epoch 21/50\n",
      "1/1 [==============================] - 0s 490ms/step - loss: 470.1592 - rmse: 21.6832 - mse: 470.1592 - val_loss: 462.4217 - val_rmse: 21.5005 - val_mse: 462.4217\n",
      "Epoch 22/50\n",
      "1/1 [==============================] - 0s 477ms/step - loss: 418.9919 - rmse: 20.4693 - mse: 418.9919 - val_loss: 417.6570 - val_rmse: 20.4282 - val_mse: 417.6570\n",
      "Epoch 23/50\n",
      "1/1 [==============================] - 0s 384ms/step - loss: 410.6439 - rmse: 20.2643 - mse: 410.6439 - val_loss: 383.1262 - val_rmse: 19.5661 - val_mse: 383.1262\n",
      "Epoch 24/50\n",
      "1/1 [==============================] - 0s 403ms/step - loss: 360.7474 - rmse: 18.9934 - mse: 360.7474 - val_loss: 351.8048 - val_rmse: 18.7487 - val_mse: 351.8048\n",
      "Epoch 25/50\n",
      "1/1 [==============================] - 0s 357ms/step - loss: 346.0415 - rmse: 18.6022 - mse: 346.0415 - val_loss: 325.0355 - val_rmse: 18.0237 - val_mse: 325.0355\n",
      "Epoch 26/50\n",
      "1/1 [==============================] - 0s 470ms/step - loss: 279.3020 - rmse: 16.7123 - mse: 279.3020 - val_loss: 297.6123 - val_rmse: 17.2410 - val_mse: 297.6123\n",
      "Epoch 27/50\n",
      "1/1 [==============================] - 0s 437ms/step - loss: 329.5899 - rmse: 18.1546 - mse: 329.5899 - val_loss: 277.2662 - val_rmse: 16.6431 - val_mse: 277.2662\n",
      "Epoch 28/50\n",
      "1/1 [==============================] - 1s 673ms/step - loss: 285.5745 - rmse: 16.8989 - mse: 285.5745 - val_loss: 257.3213 - val_rmse: 16.0275 - val_mse: 257.3213\n",
      "Epoch 29/50\n",
      "1/1 [==============================] - 0s 469ms/step - loss: 245.5247 - rmse: 15.6692 - mse: 245.5247 - val_loss: 238.0286 - val_rmse: 15.4227 - val_mse: 238.0286\n",
      "Epoch 30/50\n",
      "1/1 [==============================] - 0s 424ms/step - loss: 209.8098 - rmse: 14.4848 - mse: 209.8098 - val_loss: 220.4439 - val_rmse: 14.8366 - val_mse: 220.4439\n",
      "Epoch 31/50\n",
      "1/1 [==============================] - 0s 497ms/step - loss: 210.9978 - rmse: 14.5258 - mse: 210.9978 - val_loss: 207.8048 - val_rmse: 14.4095 - val_mse: 207.8049\n",
      "Epoch 32/50\n",
      "1/1 [==============================] - 1s 503ms/step - loss: 172.8584 - rmse: 13.1476 - mse: 172.8584 - val_loss: 188.0207 - val_rmse: 13.6989 - val_mse: 188.0207\n",
      "Epoch 33/50\n",
      "1/1 [==============================] - 0s 436ms/step - loss: 166.3564 - rmse: 12.8979 - mse: 166.3564 - val_loss: 177.9881 - val_rmse: 13.3335 - val_mse: 177.9881\n",
      "Epoch 34/50\n",
      "1/1 [==============================] - 0s 452ms/step - loss: 156.7374 - rmse: 12.5195 - mse: 156.7374 - val_loss: 167.1151 - val_rmse: 12.9106 - val_mse: 167.1151\n",
      "Epoch 35/50\n",
      "1/1 [==============================] - 0s 420ms/step - loss: 174.0378 - rmse: 13.1923 - mse: 174.0378 - val_loss: 159.8164 - val_rmse: 12.6212 - val_mse: 159.8164\n",
      "Epoch 36/50\n",
      "1/1 [==============================] - 0s 435ms/step - loss: 121.9959 - rmse: 11.0452 - mse: 121.9959 - val_loss: 149.7343 - val_rmse: 12.2233 - val_mse: 149.7343\n",
      "Epoch 37/50\n",
      "1/1 [==============================] - 1s 575ms/step - loss: 98.3380 - rmse: 9.9166 - mse: 98.3380 - val_loss: 141.8639 - val_rmse: 11.9052 - val_mse: 141.8639\n",
      "Epoch 38/50\n",
      "1/1 [==============================] - 0s 373ms/step - loss: 147.3174 - rmse: 12.1374 - mse: 147.3174 - val_loss: 137.2665 - val_rmse: 11.7035 - val_mse: 137.2665\n",
      "Epoch 39/50\n",
      "1/1 [==============================] - 0s 347ms/step - loss: 113.5035 - rmse: 10.6538 - mse: 113.5035 - val_loss: 132.0849 - val_rmse: 11.4747 - val_mse: 132.0849\n",
      "Epoch 40/50\n",
      "1/1 [==============================] - 0s 406ms/step - loss: 118.5026 - rmse: 10.8859 - mse: 118.5026 - val_loss: 126.0483 - val_rmse: 11.2029 - val_mse: 126.0483\n",
      "Epoch 41/50\n",
      "1/1 [==============================] - 0s 405ms/step - loss: 100.0330 - rmse: 10.0016 - mse: 100.0330 - val_loss: 120.9560 - val_rmse: 10.9707 - val_mse: 120.9559\n",
      "Epoch 42/50\n",
      "1/1 [==============================] - 1s 552ms/step - loss: 118.6748 - rmse: 10.8938 - mse: 118.6748 - val_loss: 119.0190 - val_rmse: 10.8921 - val_mse: 119.0190\n",
      "Epoch 43/50\n",
      "1/1 [==============================] - 1s 559ms/step - loss: 117.9020 - rmse: 10.8583 - mse: 117.9020 - val_loss: 117.0643 - val_rmse: 10.8002 - val_mse: 117.0643\n",
      "Epoch 44/50\n",
      "1/1 [==============================] - 0s 415ms/step - loss: 69.5155 - rmse: 8.3376 - mse: 69.5155 - val_loss: 114.6982 - val_rmse: 10.6801 - val_mse: 114.6982\n",
      "Epoch 45/50\n",
      "1/1 [==============================] - 0s 454ms/step - loss: 83.7217 - rmse: 9.1500 - mse: 83.7217 - val_loss: 112.4523 - val_rmse: 10.5901 - val_mse: 112.4523\n",
      "Epoch 46/50\n",
      "1/1 [==============================] - 0s 378ms/step - loss: 117.1280 - rmse: 10.8226 - mse: 117.1280 - val_loss: 112.1969 - val_rmse: 10.5866 - val_mse: 112.1969\n",
      "Epoch 47/50\n",
      "1/1 [==============================] - 1s 501ms/step - loss: 75.3683 - rmse: 8.6815 - mse: 75.3683 - val_loss: 110.2031 - val_rmse: 10.4742 - val_mse: 110.2031\n",
      "Epoch 48/50\n",
      "1/1 [==============================] - 0s 494ms/step - loss: 97.1933 - rmse: 9.8587 - mse: 97.1933 - val_loss: 111.0298 - val_rmse: 10.5184 - val_mse: 111.0298\n",
      "Epoch 49/50\n",
      "1/1 [==============================] - 0s 430ms/step - loss: 113.5860 - rmse: 10.6577 - mse: 113.5860 - val_loss: 110.4339 - val_rmse: 10.4997 - val_mse: 110.4339\n",
      "Epoch 50/50\n",
      "1/1 [==============================] - 1s 506ms/step - loss: 82.0648 - rmse: 9.0590 - mse: 82.0648 - val_loss: 108.4542 - val_rmse: 10.3743 - val_mse: 108.4541\n"
     ]
    }
   ],
   "source": [
    "%time \n",
    "steps_per_epoch = NUM_TRAIN_EXAMPLES // (TRAIN_BATCH_SIZE * NUM_EVALS) # TODO: Your code here \n",
    "\n",
    "LOGDIR = \"./taxi_trained\"\n",
    "history = model.fit(x=trainds,\n",
    "    steps_per_epoch=steps_per_epoch,\n",
    "    epochs=NUM_EVALS,\n",
    "    validation_data=evalds,\n",
    "    callbacks=[TensorBoard(LOGDIR)]\n",
    ")\n",
    "# TODO: Your code here "
   ]
  },
  {
   "cell_type": "markdown",
   "metadata": {},
   "source": [
    "### High-level model evaluation\n",
    "\n",
    "Once we've run data through the model, we can call `.summary()` on the model to get a high-level summary of our network. We can also plot the training and evaluation curves for the metrics we computed above. "
   ]
  },
  {
   "cell_type": "code",
   "execution_count": 13,
   "metadata": {},
   "outputs": [
    {
     "name": "stdout",
     "output_type": "stream",
     "text": [
      "Model: \"sequential_1\"\n",
      "_________________________________________________________________\n",
      "Layer (type)                 Output Shape              Param #   \n",
      "=================================================================\n",
      "dense_features_1 (DenseFeatu multiple                  0         \n",
      "_________________________________________________________________\n",
      "dense_3 (Dense)              multiple                  180       \n",
      "_________________________________________________________________\n",
      "dense_4 (Dense)              multiple                  310       \n",
      "_________________________________________________________________\n",
      "dense_5 (Dense)              multiple                  11        \n",
      "=================================================================\n",
      "Total params: 501\n",
      "Trainable params: 501\n",
      "Non-trainable params: 0\n",
      "_________________________________________________________________\n"
     ]
    }
   ],
   "source": [
    "model.summary()"
   ]
  },
  {
   "cell_type": "markdown",
   "metadata": {},
   "source": [
    "Running `.fit` (or `.fit_generator`) returns a History object which collects all the events recorded during training. Similar to Tensorboard, we can plot the training and validation curves for the model loss and rmse by accessing these elements of the History object."
   ]
  },
  {
   "cell_type": "code",
   "execution_count": 14,
   "metadata": {},
   "outputs": [
    {
     "data": {
      "text/plain": [
       "<AxesSubplot:>"
      ]
     },
     "execution_count": 14,
     "metadata": {},
     "output_type": "execute_result"
    },
    {
     "data": {
      "image/png": "[encoded data removed]",
      "text/plain": [
       "<Figure size 432x288 with 1 Axes>"
      ]
     },
     "metadata": {
      "needs_background": "light"
     },
     "output_type": "display_data"
    }
   ],
   "source": [
    "RMSE_COLS = ['rmse', 'val_rmse']\n",
    "\n",
    "pd.DataFrame(history.history)[RMSE_COLS].plot() #JOSE: history = output of training"
   ]
  },
  {
   "cell_type": "code",
   "execution_count": 15,
   "metadata": {},
   "outputs": [
    {
     "data": {
      "text/plain": [
       "<AxesSubplot:>"
      ]
     },
     "execution_count": 15,
     "metadata": {},
     "output_type": "execute_result"
    },
    {
     "data": {
      "image/png": "[encoded data removed]",
      "text/plain": [
       "<Figure size 432x288 with 1 Axes>"
      ]
     },
     "metadata": {
      "needs_background": "light"
     },
     "output_type": "display_data"
    }
   ],
   "source": [
    "LOSS_COLS = ['loss', 'val_loss']\n",
    "\n",
    "pd.DataFrame(history.history)[LOSS_COLS].plot()"
   ]
  },
  {
   "cell_type": "markdown",
   "metadata": {},
   "source": [
    "# Making predictions with our model\n",
    "\n",
    "To make predictions with our trained model, we can call the [predict method](https://www.tensorflow.org/api_docs/python/tf/keras/Model#predict), passing to it a dictionary of values. The `steps` parameter determines the total number of steps before declaring the prediction round finished. Here since we have just one example, we set `steps=1` (setting `steps=None` would also work). Note, however, that if x is a `tf.data` dataset or a dataset iterator, and steps is set to None, predict will run until the input dataset is exhausted."
   ]
  },
  {
   "cell_type": "code",
   "execution_count": 17,
   "metadata": {},
   "outputs": [
    {
     "data": {
      "text/plain": [
       "array([[11.762495]], dtype=float32)"
      ]
     },
     "execution_count": 17,
     "metadata": {},
     "output_type": "execute_result"
    }
   ],
   "source": [
    "model.predict(x={\"pickup_longitude\": tf.convert_to_tensor([-73.982683]),\n",
    "                 \"pickup_latitude\": tf.convert_to_tensor([40.742104]),\n",
    "                 \"dropoff_longitude\": tf.convert_to_tensor([-73.983766]),\n",
    "                 \"dropoff_latitude\": tf.convert_to_tensor([40.755174]),\n",
    "                 \"passenger_count\": tf.convert_to_tensor([3.0])},\n",
    "              steps=1)"
   ]
  },
  {
   "cell_type": "markdown",
   "metadata": {},
   "source": [
    "# Export and deploy our model\n",
    "\n",
    "Of course, making individual predictions is not realistic, because we can't expect client code to have a model object in memory. For others to use our trained model, we'll have to export our model to a file, and expect client code to instantiate the model from that exported file. \n",
    "\n",
    "We'll export the model to a TensorFlow SavedModel format. Once we have a model in this format, we have lots of ways to \"serve\" the model, from a web application, from JavaScript, from mobile applications, etc."
   ]
  },
  {
   "cell_type": "markdown",
   "metadata": {},
   "source": [
    "**Exercise.** Use `tf.saved_model.save` to export the trained model to a Tensorflow SavedModel format. Reference the [documentation for `tf.saved_model.save`](https://www.tensorflow.org/api_docs/python/tf/saved_model/save) as you fill in the code for the cell below.\n",
    "\n",
    "Next, print the signature of your saved model using the SavedModel Command Line Interface command `saved_model_cli`. You can read more about the command line interface and the `show` and `run` commands it supports in the [documentation here](https://www.tensorflow.org/guide/saved_model#overview_of_commands). "
   ]
  },
  {
   "cell_type": "code",
   "execution_count": 18,
   "metadata": {},
   "outputs": [
    {
     "name": "stdout",
     "output_type": "stream",
     "text": [
      "WARNING:tensorflow:From /opt/conda/lib/python3.7/site-packages/tensorflow_core/python/ops/resource_variable_ops.py:1786: calling BaseResourceVariable.__init__ (from tensorflow.python.ops.resource_variable_ops) with constraint is deprecated and will be removed in a future version.\n",
      "Instructions for updating:\n",
      "If using Keras pass *_constraint arguments to layers.\n",
      "INFO:tensorflow:Assets written to: ./export/savedmodel/20201202133523/assets\n"
     ]
    }
   ],
   "source": [
    "OUTPUT_DIR = \"./export/savedmodel\"\n",
    "shutil.rmtree(OUTPUT_DIR, ignore_errors=True)\n",
    "EXPORT_PATH = os.path.join(OUTPUT_DIR,\n",
    "                           datetime.datetime.now().strftime(\"%Y%m%d%H%M%S\"))\n",
    "\n",
    "tf.saved_model.save(model, EXPORT_PATH) # TODO: Your code here"
   ]
  },
  {
   "cell_type": "code",
   "execution_count": 42,
   "metadata": {},
   "outputs": [
    {
     "name": "stdout",
     "output_type": "stream",
     "text": [
      "The given SavedModel SignatureDef contains the following input(s):\n",
      "  inputs['dropoff_latitude'] tensor_info:\n",
      "      dtype: DT_FLOAT\n",
      "      shape: (-1, 1)\n",
      "      name: serving_default_dropoff_latitude:0\n",
      "  inputs['dropoff_longitude'] tensor_info:\n",
      "      dtype: DT_FLOAT\n",
      "      shape: (-1, 1)\n",
      "      name: serving_default_dropoff_longitude:0\n",
      "  inputs['passenger_count'] tensor_info:\n",
      "      dtype: DT_FLOAT\n",
      "      shape: (-1, 1)\n",
      "      name: serving_default_passenger_count:0\n",
      "  inputs['pickup_latitude'] tensor_info:\n",
      "      dtype: DT_FLOAT\n",
      "      shape: (-1, 1)\n",
      "      name: serving_default_pickup_latitude:0\n",
      "  inputs['pickup_longitude'] tensor_info:\n",
      "      dtype: DT_FLOAT\n",
      "      shape: (-1, 1)\n",
      "      name: serving_default_pickup_longitude:0\n",
      "The given SavedModel SignatureDef contains the following output(s):\n",
      "  outputs['output_1'] tensor_info:\n",
      "      dtype: DT_FLOAT\n",
      "      shape: (-1, 1)\n",
      "      name: StatefulPartitionedCall:0\n",
      "Method name is: tensorflow/serving/predict\n",
      "./export/savedmodel/20201202133523\n",
      "./export/savedmodel/20201202133523/assets\n",
      "./export/savedmodel/20201202133523/saved_model.pb\n",
      "./export/savedmodel/20201202133523/variables\n",
      "./export/savedmodel/20201202133523/variables/variables.data-00000-of-00001\n",
      "./export/savedmodel/20201202133523/variables/variables.index\n"
     ]
    }
   ],
   "source": [
    "!saved_model_cli show \\\n",
    " --tag_set serve \\\n",
    "--signature_def serving_default \\\n",
    "--dir {EXPORT_PATH} # TODO: Your code here\n",
    "\n",
    "!find {EXPORT_PATH}\n",
    "os.environ['EXPORT_PATH'] = EXPORT_PATH"
   ]
  },
  {
   "cell_type": "markdown",
   "metadata": {},
   "source": [
    "### Deploy our model to AI Platform\n",
    "\n",
    "Finally, we will deploy our trained model to AI Platform and see how we can make online predicitons. "
   ]
  },
  {
   "cell_type": "markdown",
   "metadata": {},
   "source": [
    "**Exercise.** Complete the code in the cell below to deploy your trained model to AI Platform using the `gcloud ai-platform versions create` command. Have a look at [the documentation for how to create model version with gcloud](https://cloud.google.com/sdk/gcloud/reference/ai-platform/versions/create)."
   ]
  },
  {
   "cell_type": "code",
   "execution_count": 47,
   "metadata": {},
   "outputs": [
    {
     "name": "stdout",
     "output_type": "stream",
     "text": [
      "Bucket exists, let's not recreate it.\n",
      "taxifare already exists\n",
      "Creating taxifare:dnn# TODO: Your code below\n"
     ]
    },
    {
     "name": "stderr",
     "output_type": "stream",
     "text": [
      "Using endpoint [https://ml.googleapis.com/]\n",
      "Using endpoint [https://ml.googleapis.com/]\n",
      "Using endpoint [https://ml.googleapis.com/]\n",
      "Creating version (this might take a few minutes)......\n",
      "......................................................................................................................................................................................................................................................................................................................................................................................................................................................................................................................................................................................................................................................................................................................................................................................................................................................done.\n"
     ]
    }
   ],
   "source": [
    "%%bash\n",
    "\n",
    "\n",
    "PROJECT=$(gcloud config list --format 'value(core.project)' 2>/dev/null)\n",
    "BUCKET=${PROJECT}\n",
    "REGION=us-east1\n",
    "MODEL_NAME=taxifare\n",
    "VERSION_NAME=dnn\n",
    "\n",
    "## Create GCS bucket if it doesn't exist already...\n",
    "exists=$(gsutil ls -d | grep -w gs://${BUCKET}/)\n",
    "\n",
    "if [ -n \"$exists\" ]; then\n",
    "    echo -e \"Bucket exists, let's not recreate it.\"\n",
    "else\n",
    "    echo \"Creating a new GCS bucket.\"\n",
    "    gsutil mb -l ${REGION} gs://${BUCKET}\n",
    "    echo \"\\nHere are your current buckets:\"\n",
    "    gsutil ls\n",
    "fi\n",
    "\n",
    "if [[ $(gcloud ai-platform models list --format='value(name)' | grep $MODEL_NAME) ]]; then\n",
    "    echo \"$MODEL_NAME already exists\"\n",
    "else\n",
    "    echo \"Creating $MODEL_NAME\"\n",
    "    gcloud ai-platform models create --regions=$REGION $MODEL_NAME\n",
    "fi\n",
    "\n",
    "if [[ $(gcloud ai-platform versions list --model $MODEL_NAME --format='value(name)' | grep $VERSION_NAME) ]]; then\n",
    "    echo \"Deleting already existing $MODEL_NAME:$VERSION_NAME ... \"\n",
    "    echo yes | gcloud ai-platform versions delete --model=$MODEL_NAME $VERSION_NAME\n",
    "    echo \"Please run this cell again if you don't see a Creating message ... \"\n",
    "    sleep 2\n",
    "fi\n",
    "\n",
    "echo \"Creating $MODEL_NAME:$VERSION_NAME\"# TODO: Your code below\n",
    "gcloud ai-platform versions create --model=$MODEL_NAME $VERSION_NAME \\\n",
    "    --framework=tensorflow --python-version=3.7 --runtime-version=2.1 \\\n",
    "    --origin=$EXPORT_PATH --staging-bucket=gs://$BUCKET"
   ]
  },
  {
   "cell_type": "code",
   "execution_count": 48,
   "metadata": {},
   "outputs": [
    {
     "name": "stdout",
     "output_type": "stream",
     "text": [
      "Overwriting input.json\n"
     ]
    }
   ],
   "source": [
    "%%writefile input.json\n",
    "{\"pickup_longitude\": -73.982683, \"pickup_latitude\": 40.742104,\"dropoff_longitude\": -73.983766,\"dropoff_latitude\": 40.755174,\"passenger_count\": 3.0}  "
   ]
  },
  {
   "cell_type": "markdown",
   "metadata": {},
   "source": [
    "**Exercise.** Complete the code in the cell below to call prediction on your deployed model for the example you just created in the `input.json` file above."
   ]
  },
  {
   "cell_type": "code",
   "execution_count": 50,
   "metadata": {},
   "outputs": [
    {
     "name": "stdout",
     "output_type": "stream",
     "text": [
      "Using endpoint [https://ml.googleapis.com/]\n",
      "OUTPUT_1\n",
      "[11.762494087219238]\n"
     ]
    }
   ],
   "source": [
    "!gcloud ai-platform predict \\\n",
    "    --model taxifare \\\n",
    "--json-instances input.json \\\n",
    "--version dnn\n",
    "# TODO: Your code above"
   ]
  },
  {
   "cell_type": "markdown",
   "metadata": {},
   "source": [
    "Copyright 2021 Google Inc. Licensed under the Apache License, Version 2.0 (the \"License\"); you may not use this file except in compliance with the License. You may obtain a copy of the License at http://www.apache.org/licenses/LICENSE-2.0 Unless required by applicable law or agreed to in writing, software distributed under the License is distributed on an \"AS IS\" BASIS, WITHOUT WARRANTIES OR CONDITIONS OF ANY KIND, either express or implied. See the License for the specific language governing permissions and limitations under the License"
   ]
  }
 ],
 "metadata": {
  "environment": {
   "name": "tf2-gpu.2-1.m59",
   "type": "gcloud",
   "uri": "gcr.io/deeplearning-platform-release/tf2-gpu.2-1:m59"
  },
  "kernelspec": {
   "display_name": "Python 3",
   "language": "python",
   "name": "python3"
  },
  "language_info": {
   "codemirror_mode": {
    "name": "ipython",
    "version": 3
   },
   "file_extension": ".py",
   "mimetype": "text/x-python",
   "name": "python",
   "nbconvert_exporter": "python",
   "pygments_lexer": "ipython3",
   "version": "3.7.8"
  }
 },
 "nbformat": 4,
 "nbformat_minor": 4
}
