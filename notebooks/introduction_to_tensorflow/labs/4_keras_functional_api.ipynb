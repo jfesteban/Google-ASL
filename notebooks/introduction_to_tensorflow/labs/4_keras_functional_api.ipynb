{
 "cells": [
  {
   "cell_type": "markdown",
   "metadata": {},
   "source": [
    "# Introducing the Keras Functional API\n",
    "\n",
    "**Learning Objectives**\n",
    "  1. Understand embeddings and how to create them with the feature column API\n",
    "  1. Understand Deep and Wide models and when to use them\n",
    "  1. Understand the Keras functional API and how to build a deep and wide model with it\n",
    "\n",
    "## Introduction\n",
    "\n",
    "In the last notebook, we learned about the Keras Sequential API. The [Keras Functional API](https://www.tensorflow.org/guide/keras#functional_api) provides an alternate way of building models which is more flexible. With the Functional API, we can build models with more complex topologies, multiple input or output layers, shared layers or non-sequential data flows (e.g. residual layers).\n",
    "\n",
    "In this notebook we'll use what we learned about feature columns to build a Wide & Deep model. Recall, that the idea behind Wide & Deep models is to join the two methods of learning through memorization and generalization by making a wide linear model and a deep learning model to accommodate both. You can have a look at the original research paper here: [Wide & Deep Learning for Recommender Systems](https://arxiv.org/abs/1606.07792).\n",
    "\n",
    "<img src='assets/wide_deep.png' width='80%'>\n",
    "<sup>(image: https://ai.googleblog.com/2016/06/wide-deep-learning-better-together-with.html)</sup>\n",
    "\n",
    "The Wide part of the model is associated with the memory element. In this case, we train a linear model with a wide set of crossed features and learn the correlation of this related data with the assigned label. The Deep part of the model is associated with the generalization element where we use embedding vectors for features. The best embeddings are then learned through the training process. While both of these methods can work well alone, Wide & Deep models excel by combining these techniques together. "
   ]
  },
  {
   "cell_type": "markdown",
   "metadata": {},
   "source": [
    "Start by importing the necessary libraries for this lab."
   ]
  },
  {
   "cell_type": "code",
   "execution_count": 229,
   "metadata": {},
   "outputs": [
    {
     "name": "stdout",
     "output_type": "stream",
     "text": [
      "2.1.1\n"
     ]
    }
   ],
   "source": [
    "import datetime\n",
    "import os\n",
    "import shutil\n",
    "\n",
    "import numpy as np\n",
    "import pandas as pd\n",
    "import tensorflow as tf\n",
    "\n",
    "from matplotlib import pyplot as plt\n",
    "from tensorflow import keras\n",
    "\n",
    "from tensorflow import feature_column as fc\n",
    "\n",
    "from tensorflow.keras import Model\n",
    "from tensorflow.keras.layers import (\n",
    "    Input, Dense, DenseFeatures, concatenate)\n",
    "from tensorflow.keras.callbacks import TensorBoard\n",
    "\n",
    "print(tf.__version__)"
   ]
  },
  {
   "cell_type": "code",
   "execution_count": 230,
   "metadata": {},
   "outputs": [],
   "source": [
    "%matplotlib inline"
   ]
  },
  {
   "cell_type": "markdown",
   "metadata": {},
   "source": [
    "## Load raw data \n",
    "\n",
    "We will use the taxifare dataset, using the CSV files that we created in the first notebook of this sequence. Those files have been saved into `../data`."
   ]
  },
  {
   "cell_type": "code",
   "execution_count": 231,
   "metadata": {},
   "outputs": [
    {
     "name": "stdout",
     "output_type": "stream",
     "text": [
      "-rw-r--r-- 1 jupyter jupyter 123590 Nov 29 03:14 ../data/taxi-test.csv\n",
      "-rw-r--r-- 1 jupyter jupyter 579055 Nov 29 03:14 ../data/taxi-train.csv\n",
      "-rw-r--r-- 1 jupyter jupyter 123114 Nov 29 03:14 ../data/taxi-valid.csv\n"
     ]
    }
   ],
   "source": [
    "!ls -l ../data/*.csv"
   ]
  },
  {
   "cell_type": "markdown",
   "metadata": {},
   "source": [
    "## Use tf.data to read the CSV files\n",
    "\n",
    "We wrote these functions for reading data from the csv files above in the [previous notebook](2_dataset_api.ipynb). For this lab we will also include some additional engineered features in our model. In particular, we will compute the difference in latitude and longitude, as well as the Euclidean distance between the pick-up and drop-off locations. We can accomplish this by adding these new features to the features dictionary with the function `add_engineered_features` below. \n",
    "\n",
    "Note that we include a call to this function when collecting our features dict and labels in the `features_and_labels` function below as well. "
   ]
  },
  {
   "cell_type": "code",
   "execution_count": 232,
   "metadata": {},
   "outputs": [],
   "source": [
    "CSV_COLUMNS = [\n",
    "    'fare_amount',\n",
    "    'pickup_datetime',\n",
    "    'pickup_longitude',\n",
    "    'pickup_latitude',\n",
    "    'dropoff_longitude',\n",
    "    'dropoff_latitude',\n",
    "    'passenger_count',\n",
    "    'key'\n",
    "]\n",
    "LABEL_COLUMN = 'fare_amount'\n",
    "DEFAULTS = [[0.0], ['na'], [0.0], [0.0], [0.0], [0.0], [0.0], ['na']]\n",
    "UNWANTED_COLS = ['pickup_datetime', 'key']\n",
    "\n",
    "\n",
    "def features_and_labels(row_data):\n",
    "    label = row_data.pop(LABEL_COLUMN)\n",
    "    features = row_data\n",
    "        \n",
    "    for unwanted_col in UNWANTED_COLS:\n",
    "        features.pop(unwanted_col)\n",
    "\n",
    "    return features, label\n",
    "\n",
    "\n",
    "def create_dataset(pattern, batch_size=1, mode='eval'):\n",
    "    dataset = tf.data.experimental.make_csv_dataset(\n",
    "        pattern, batch_size, CSV_COLUMNS, DEFAULTS)\n",
    "\n",
    "    dataset = dataset.map(features_and_labels)\n",
    "    \n",
    "    if mode == 'train':\n",
    "        dataset = dataset.shuffle(buffer_size=1000).repeat()\n",
    "\n",
    "    # take advantage of multi-threading; 1=AUTOTUNE\n",
    "    dataset = dataset.prefetch(1)\n",
    "    return dataset"
   ]
  },
  {
   "cell_type": "markdown",
   "metadata": {},
   "source": [
    "## Feature columns for Wide and Deep model\n",
    "\n",
    "For the Wide columns, we will create feature columns of crossed features. To do this, we'll create a collection of Tensorflow feature columns to pass to the `tf.feature_column.crossed_column` constructor. The Deep columns will consist of numeric columns and the embedding columns we want to create. "
   ]
  },
  {
   "cell_type": "markdown",
   "metadata": {},
   "source": [
    "**Exercise.** In the cell below, create feature columns for our wide-and-deep model. You'll need to build \n",
    "1. bucketized columns using [tf.feature_column.bucketized_column](https://www.tensorflow.org/api_docs/python/tf/feature_column/bucketized_column) for the pickup and dropoff latitude and longitude,\n",
    "2. crossed columns using [tf.feature_column.crossed_column](https://www.tensorflow.org/api_docs/python/tf/feature_column/crossed_column) for those bucketized columns, and \n",
    "3. embedding columns using [tf.feature_column.embedding_column](https://www.tensorflow.org/api_docs/python/tf/feature_column/embedding_column) for the crossed columns."
   ]
  },
  {
   "cell_type": "code",
   "execution_count": 233,
   "metadata": {},
   "outputs": [],
   "source": [
    "# 1. Bucketize latitudes and longitudes\n",
    "NBUCKETS = 16\n",
    "latbuckets = np.linspace(start=38.0, stop=42.0, num=NBUCKETS).tolist()\n",
    "lonbuckets = np.linspace(start=-76.0, stop=-72.0, num=NBUCKETS).tolist()\n",
    "\n",
    "fc_bucketized_plat = fc.bucketized_column(\n",
    "    source_column=fc.numeric_column(\"pickup_latitude\"),\n",
    "    boundaries=latbuckets)# TODO: Your code goes here.\n",
    "fc_bucketized_plon = fc.bucketized_column(\n",
    "    source_column=fc.numeric_column(\"pickup_longitude\"),\n",
    "    boundaries=lonbuckets)# TODO: Your code goes here.\n",
    "fc_bucketized_dlat = fc.bucketized_column(\n",
    "    source_column=fc.numeric_column(\"dropoff_latitude\"),\n",
    "    boundaries=latbuckets)# TODO: Your code goes here.\n",
    "fc_bucketized_dlon = fc.bucketized_column(\n",
    "    source_column=fc.numeric_column(\"dropoff_longitude\"),\n",
    "    boundaries=lonbuckets)# TODO: Your code goes here.\n",
    "\n",
    "# 2. Cross features for locations\n",
    "fc_crossed_dloc = fc.crossed_column([fc_bucketized_dlat, fc_bucketized_dlon],\n",
    "                                   hash_bucket_size=NBUCKETS * NBUCKETS)# TODO: Your code goes here.\n",
    "fc_crossed_ploc = fc.crossed_column([fc_bucketized_plat, fc_bucketized_plon],\n",
    "                                   hash_bucket_size=NBUCKETS * NBUCKETS)# TODO: Your code goes here.\n",
    "fc_crossed_pd_pair = fc.crossed_column([fc_crossed_ploc, fc_crossed_dloc],\n",
    "                                   hash_bucket_size=NBUCKETS * NBUCKETS * NBUCKETS * NBUCKETS)# TODO: Your code goes here.\n",
    "\n",
    "# 3. Create embedding columns for the crossed columns (because they're so sparse: NBUCKETS**4)\n",
    "# JOSE: I missed \"the categorical_column=\"\n",
    "# JOSE: Michael uses dimension=3 where I use NBUCKETS and np.sqrt(NBUCKETS)\n",
    "fc_pd_pair = fc.embedding_column(categorical_column=fc_crossed_pd_pair, dimension=NBUCKETS)# TODO: Your code goes here.\n",
    "sqrtNBUCKETS = np.sqrt(NBUCKETS)\n",
    "#sqrtNBUCKETS = sqrtNBUCKETS.astype('int32')\n",
    "fc_dloc = fc.embedding_column(categorical_column=fc_crossed_dloc, dimension=sqrtNBUCKETS)# TODO: Your code goes here.\n",
    "fc_ploc = fc.embedding_column(categorical_column=fc_crossed_ploc, dimension=sqrtNBUCKETS)# TODO: Your code goes here.\n",
    "#print(NBUCKETS)\n",
    "#print(sqrtNBUCKETS)\n",
    "#print(sqrtNBUCKETS.dtype)"
   ]
  },
  {
   "cell_type": "markdown",
   "metadata": {},
   "source": [
    "### Gather list of feature columns\n",
    "\n",
    "Next we gather the list of wide and deep feature columns we'll pass to our Wide & Deep model in Tensorflow. Recall, wide columns are sparse, have linear relationship with the output while continuous columns are deep, have a complex relationship with the output. We will use our previously bucketized columns to collect crossed feature columns and sparse feature columns for our wide columns, and embedding feature columns and numeric features columns for the deep columns."
   ]
  },
  {
   "cell_type": "markdown",
   "metadata": {},
   "source": [
    "**Exercise.** Collect the wide and deep columns into two separate lists. You'll have two lists: One called `wide_columns` containing the one-hot encoded features from the crossed features and one called `deep_columns` which contains numeric and embedding feature columns."
   ]
  },
  {
   "cell_type": "code",
   "execution_count": 255,
   "metadata": {},
   "outputs": [],
   "source": [
    "# TODO 2\n",
    "\n",
    "# One-hot encoded feature crosses\n",
    "# TODO: Your code goes here:\n",
    "\n",
    "wide_columns = [\n",
    "    fc.indicator_column(fc_crossed_ploc),\n",
    "    fc.indicator_column(fc_crossed_dloc),\n",
    "    fc.indicator_column(fc_crossed_pd_pair)\n",
    "]\n",
    "#JOSE: If we don't use indicator_column, we'll be passing a very sparse tensor and we'll get an error message\n",
    "#      we need to make it dense\n",
    "\n",
    "deep_columns = [\n",
    "    # Embedding_column to \"group\" together ...\n",
    "    # TODO: Your code goes below\n",
    "    #fc.embedding_column(fc_crossed_pd_pair, 10),\n",
    "    fc_pd_pair, #añadimos esto durante el repaso, porque se había quedado sin usar\n",
    "    #fc_dloc,\n",
    "\n",
    "    # Numeric columns\n",
    "    # TODO: Your code goes below\n",
    "    fc.numeric_column(\"pickup_latitude\"),\n",
    "    fc.numeric_column(\"pickup_longitude\"),\n",
    "    fc.numeric_column(\"dropoff_latitude\"),\n",
    "    fc.numeric_column(\"dropoff_longitude\")\n",
    "]"
   ]
  },
  {
   "cell_type": "markdown",
   "metadata": {},
   "source": [
    "## Build a Wide and Deep model in Keras\n",
    "\n",
    "To build a wide-and-deep network, we connect the sparse (i.e. wide) features directly to the output node, but pass the dense (i.e. deep) features through a set of fully connected layers. Here’s that model architecture looks using the Functional API.\n",
    "\n",
    "First, we'll create our input columns using [tf.keras.layers.Input](https://www.tensorflow.org/versions/r2.0/api_docs/python/tf/keras/Input)."
   ]
  },
  {
   "cell_type": "code",
   "execution_count": 256,
   "metadata": {},
   "outputs": [],
   "source": [
    "INPUT_COLS = [\n",
    "    'pickup_longitude',\n",
    "    'pickup_latitude',\n",
    "    'dropoff_longitude',\n",
    "    'dropoff_latitude',\n",
    "    'passenger_count'\n",
    "]\n",
    "\n",
    "inputs = {colname : Input(name=colname, shape=(), dtype='float32')\n",
    "          for colname in INPUT_COLS\n",
    "}"
   ]
  },
  {
   "cell_type": "markdown",
   "metadata": {},
   "source": [
    "Then, we'll define our custom RMSE evaluation metric and build our wide and deep model."
   ]
  },
  {
   "cell_type": "markdown",
   "metadata": {},
   "source": [
    "**Exercise.** Complete the code in the function `build_model` below so that it returns a compiled Keras model. The argument `dnn_hidden_units` should represent the number of units in each layer of your network. Use the Functional API to build a wide-and-deep model. Use the `deep_columns` you created above to build the deep layers and the `wide_columns` to create the wide layers. Once you have the wide and deep components, you will combine them to feed to a final fully connected layer. "
   ]
  },
  {
   "cell_type": "code",
   "execution_count": 257,
   "metadata": {},
   "outputs": [],
   "source": [
    "def rmse(y_true, y_pred):\n",
    "    return tf.sqrt(tf.reduce_mean(tf.square(y_pred - y_true)))\n",
    "\n",
    "\n",
    "def build_model(dnn_hidden_units):\n",
    "    # Create the deep part of model\n",
    "    # TODO: Your code goes here:\n",
    "    # deep = layers.DenseFeatures(deep_columns, name='deep_inputs')(inputs)\n",
    "    deep = DenseFeatures(deep_columns, name='deep_inputs')(inputs)\n",
    "    for k in dnn_hidden_units:\n",
    "        deep = Dense(k, activation='relu')(deep)\n",
    "    #x = Dense(dnn_hidden_units, activation='relu')(deep)\n",
    "    #x = Dense(dnn_hidden_units/2, activation='relu')(x)\n",
    "    #deep_output = Dense(dnn_hidden_units/2, activation='relu')(x)\n",
    "    \n",
    "    # Create the wide part of model\n",
    "    # TODO: Your code goes here:\n",
    "    wide = DenseFeatures(wide_columns, name='wide_inputs')(inputs)\n",
    "\n",
    "    # Combine deep and wide parts of the model\n",
    "    # TODO: Your code goes here:\n",
    "    combined = concatenate(inputs=[deep, wide],\n",
    "                          name='combined')\n",
    "\n",
    "    # Map the combined outputs into a single prediction value\n",
    "    # TODO: Your code goes here:\n",
    "    output = Dense(1,\n",
    "                         activation=None,\n",
    "                         name='prediction')(combined)\n",
    "    \n",
    "    # Finalize the model\n",
    "    # TODO: Your code goes here:\n",
    "    model = keras.Model(inputs=list(inputs.values()),\n",
    "                       outputs=output,\n",
    "                       name='wide_and_deep')\n",
    "\n",
    "    # Compile the keras model\n",
    "    # TODO: Your code goes here:\n",
    "    model.compile(optimizer=\"adam\",\n",
    "                  loss=\"mse\",\n",
    "                  metrics=[rmse, \"mse\"])\n",
    "    \n",
    "    return model"
   ]
  },
  {
   "cell_type": "markdown",
   "metadata": {},
   "source": [
    "Next, we can call the `build_model` to create the model. Here we'll have two hidden layers, each with 10 neurons, for the deep part of our model. We can also use `plot_model` to see a diagram of the model we've created."
   ]
  },
  {
   "cell_type": "code",
   "execution_count": 258,
   "metadata": {},
   "outputs": [
    {
     "data": {
      "image/png": "[encoded data removed]",
      "text/plain": [
       "<IPython.core.display.Image object>"
      ]
     },
     "execution_count": 258,
     "metadata": {},
     "output_type": "execute_result"
    }
   ],
   "source": [
    "HIDDEN_UNITS = [10,10,5]\n",
    "\n",
    "model = build_model(dnn_hidden_units=HIDDEN_UNITS)\n",
    "\n",
    "tf.keras.utils.plot_model(model, show_shapes=False, rankdir='LR')"
   ]
  },
  {
   "cell_type": "markdown",
   "metadata": {},
   "source": [
    "Next, we'll set up our training variables, create our datasets for training and validation, and train our model.\n",
    "\n",
    "(We refer you the the blog post [ML Design Pattern #3: Virtual Epochs](https://medium.com/google-cloud/ml-design-pattern-3-virtual-epochs-f842296de730) for further details on why express the training in terms of `NUM_TRAIN_EXAMPLES` and `NUM_EVALS` and why, in this training code, the number of epochs is really equal to the number of evaluations we perform.)"
   ]
  },
  {
   "cell_type": "code",
   "execution_count": 259,
   "metadata": {},
   "outputs": [],
   "source": [
    "BATCH_SIZE = 1000 # esto era 1K\n",
    "NUM_TRAIN_EXAMPLES = 10000 * 5  # training dataset will repeat, wrap around TRY TRAINING LONGER (HERE; IT WAS 10K) TO SEE THE CURVE FLATTEN\n",
    "NUM_EVALS = 50  # how many times to evaluate\n",
    "NUM_EVAL_EXAMPLES = 10000  # enough to get a reasonable sample\n",
    "\n",
    "trainds = create_dataset(\n",
    "    pattern='../data/taxi-train*',\n",
    "    batch_size=BATCH_SIZE,\n",
    "    mode='train')\n",
    "\n",
    "evalds = create_dataset(\n",
    "    pattern='../data/taxi-valid*',\n",
    "    batch_size=BATCH_SIZE,\n",
    "    mode='eval').take(NUM_EVAL_EXAMPLES//1000)"
   ]
  },
  {
   "cell_type": "code",
   "execution_count": 260,
   "metadata": {},
   "outputs": [
    {
     "name": "stdout",
     "output_type": "stream",
     "text": [
      "Train for 1 steps, validate for 10 steps\n",
      "Epoch 1/50\n",
      "1/1 [==============================] - 18s 18s/step - loss: 208.6300 - rmse: 14.4440 - mse: 208.6300 - val_loss: 240.5515 - val_rmse: 15.4896 - val_mse: 240.5515\n",
      "Epoch 2/50\n",
      "WARNING:tensorflow:Method (on_train_batch_end) is slow compared to the batch update (0.500268). Check your callbacks.\n",
      "1/1 [==============================] - 2s 2s/step - loss: 248.4248 - rmse: 15.7615 - mse: 248.4248 - val_loss: 237.5475 - val_rmse: 15.4062 - val_mse: 237.5475\n",
      "Epoch 3/50\n",
      "1/1 [==============================] - 2s 2s/step - loss: 202.4852 - rmse: 14.2297 - mse: 202.4852 - val_loss: 239.8048 - val_rmse: 15.4812 - val_mse: 239.8048\n",
      "Epoch 4/50\n",
      "1/1 [==============================] - 2s 2s/step - loss: 184.5975 - rmse: 13.5867 - mse: 184.5975 - val_loss: 233.0528 - val_rmse: 15.2609 - val_mse: 233.0528\n",
      "Epoch 5/50\n",
      "1/1 [==============================] - 2s 2s/step - loss: 207.6214 - rmse: 14.4091 - mse: 207.6214 - val_loss: 233.5653 - val_rmse: 15.2584 - val_mse: 233.5653\n",
      "Epoch 6/50\n",
      "1/1 [==============================] - 2s 2s/step - loss: 148.4982 - rmse: 12.1860 - mse: 148.4982 - val_loss: 233.3304 - val_rmse: 15.2653 - val_mse: 233.3304\n",
      "Epoch 7/50\n",
      "1/1 [==============================] - 2s 2s/step - loss: 193.2637 - rmse: 13.9019 - mse: 193.2637 - val_loss: 227.4959 - val_rmse: 15.0761 - val_mse: 227.4958\n",
      "Epoch 8/50\n",
      "1/1 [==============================] - 2s 2s/step - loss: 223.8132 - rmse: 14.9604 - mse: 223.8132 - val_loss: 225.0179 - val_rmse: 14.9957 - val_mse: 225.0179\n",
      "Epoch 9/50\n",
      "1/1 [==============================] - 2s 2s/step - loss: 159.5732 - rmse: 12.6322 - mse: 159.5732 - val_loss: 223.4993 - val_rmse: 14.9376 - val_mse: 223.4993\n",
      "Epoch 10/50\n",
      "1/1 [==============================] - 2s 2s/step - loss: 212.7402 - rmse: 14.5856 - mse: 212.7402 - val_loss: 222.1731 - val_rmse: 14.8992 - val_mse: 222.1732\n",
      "Epoch 11/50\n",
      "1/1 [==============================] - 2s 2s/step - loss: 228.7392 - rmse: 15.1241 - mse: 228.7392 - val_loss: 217.3091 - val_rmse: 14.7321 - val_mse: 217.3091\n",
      "Epoch 12/50\n",
      "1/1 [==============================] - 2s 2s/step - loss: 202.1849 - rmse: 14.2192 - mse: 202.1849 - val_loss: 216.4204 - val_rmse: 14.7065 - val_mse: 216.4204\n",
      "Epoch 13/50\n",
      "1/1 [==============================] - 2s 2s/step - loss: 195.2987 - rmse: 13.9749 - mse: 195.2987 - val_loss: 214.2268 - val_rmse: 14.6009 - val_mse: 214.2268\n",
      "Epoch 14/50\n",
      "1/1 [==============================] - 2s 2s/step - loss: 178.9454 - rmse: 13.3770 - mse: 178.9454 - val_loss: 211.4891 - val_rmse: 14.5226 - val_mse: 211.4892\n",
      "Epoch 15/50\n",
      "1/1 [==============================] - 2s 2s/step - loss: 185.6355 - rmse: 13.6248 - mse: 185.6355 - val_loss: 208.4719 - val_rmse: 14.4345 - val_mse: 208.4719\n",
      "Epoch 16/50\n",
      "1/1 [==============================] - 2s 2s/step - loss: 207.5511 - rmse: 14.4066 - mse: 207.5511 - val_loss: 205.7671 - val_rmse: 14.3313 - val_mse: 205.7671\n",
      "Epoch 17/50\n",
      "1/1 [==============================] - 2s 2s/step - loss: 177.6625 - rmse: 13.3290 - mse: 177.6625 - val_loss: 203.0203 - val_rmse: 14.2378 - val_mse: 203.0203\n",
      "Epoch 18/50\n",
      "1/1 [==============================] - 2s 2s/step - loss: 193.3393 - rmse: 13.9046 - mse: 193.3393 - val_loss: 200.3112 - val_rmse: 14.1406 - val_mse: 200.3112\n",
      "Epoch 19/50\n",
      "1/1 [==============================] - 2s 2s/step - loss: 184.4019 - rmse: 13.5795 - mse: 184.4019 - val_loss: 197.9523 - val_rmse: 14.0631 - val_mse: 197.9523\n",
      "Epoch 20/50\n",
      "1/1 [==============================] - 2s 2s/step - loss: 148.3160 - rmse: 12.1785 - mse: 148.3160 - val_loss: 196.4657 - val_rmse: 14.0062 - val_mse: 196.4657\n",
      "Epoch 21/50\n",
      "1/1 [==============================] - 2s 2s/step - loss: 152.3474 - rmse: 12.3429 - mse: 152.3474 - val_loss: 192.6748 - val_rmse: 13.8733 - val_mse: 192.6748\n",
      "Epoch 22/50\n",
      "1/1 [==============================] - 2s 2s/step - loss: 177.7974 - rmse: 13.3341 - mse: 177.7974 - val_loss: 187.4703 - val_rmse: 13.6798 - val_mse: 187.4703\n",
      "Epoch 23/50\n",
      "1/1 [==============================] - 2s 2s/step - loss: 176.8150 - rmse: 13.2972 - mse: 176.8150 - val_loss: 185.5757 - val_rmse: 13.6170 - val_mse: 185.5757\n",
      "Epoch 24/50\n",
      "1/1 [==============================] - 2s 2s/step - loss: 179.9709 - rmse: 13.4153 - mse: 179.9709 - val_loss: 181.5507 - val_rmse: 13.4427 - val_mse: 181.5507\n",
      "Epoch 25/50\n",
      "1/1 [==============================] - 2s 2s/step - loss: 124.8461 - rmse: 11.1735 - mse: 124.8461 - val_loss: 177.7835 - val_rmse: 13.3264 - val_mse: 177.7835\n",
      "Epoch 26/50\n",
      "1/1 [==============================] - 2s 2s/step - loss: 159.8984 - rmse: 12.6451 - mse: 159.8984 - val_loss: 174.2419 - val_rmse: 13.1829 - val_mse: 174.2419\n",
      "Epoch 27/50\n",
      "1/1 [==============================] - 2s 2s/step - loss: 149.9468 - rmse: 12.2453 - mse: 149.9468 - val_loss: 170.5132 - val_rmse: 13.0517 - val_mse: 170.5132\n",
      "Epoch 28/50\n",
      "1/1 [==============================] - 2s 2s/step - loss: 186.4293 - rmse: 13.6539 - mse: 186.4293 - val_loss: 169.6309 - val_rmse: 13.0111 - val_mse: 169.6309\n",
      "Epoch 29/50\n",
      "1/1 [==============================] - 2s 2s/step - loss: 165.0900 - rmse: 12.8487 - mse: 165.0900 - val_loss: 164.1763 - val_rmse: 12.8104 - val_mse: 164.1763\n",
      "Epoch 30/50\n",
      "1/1 [==============================] - 2s 2s/step - loss: 165.4446 - rmse: 12.8625 - mse: 165.4446 - val_loss: 161.9805 - val_rmse: 12.7213 - val_mse: 161.9805\n",
      "Epoch 31/50\n",
      "1/1 [==============================] - 2s 2s/step - loss: 148.3642 - rmse: 12.1805 - mse: 148.3642 - val_loss: 157.6597 - val_rmse: 12.5470 - val_mse: 157.6597\n",
      "Epoch 32/50\n",
      "1/1 [==============================] - 2s 2s/step - loss: 159.2606 - rmse: 12.6198 - mse: 159.2606 - val_loss: 155.4329 - val_rmse: 12.4591 - val_mse: 155.4329\n",
      "Epoch 33/50\n",
      "1/1 [==============================] - 2s 2s/step - loss: 147.9906 - rmse: 12.1651 - mse: 147.9906 - val_loss: 151.1330 - val_rmse: 12.2827 - val_mse: 151.1329\n",
      "Epoch 34/50\n",
      "1/1 [==============================] - 2s 2s/step - loss: 116.3381 - rmse: 10.7860 - mse: 116.3381 - val_loss: 148.2465 - val_rmse: 12.1720 - val_mse: 148.2465\n",
      "Epoch 35/50\n",
      "1/1 [==============================] - 2s 2s/step - loss: 114.2785 - rmse: 10.6901 - mse: 114.2785 - val_loss: 142.8822 - val_rmse: 11.9420 - val_mse: 142.8822\n",
      "Epoch 36/50\n",
      "1/1 [==============================] - 2s 2s/step - loss: 116.1899 - rmse: 10.7791 - mse: 116.1899 - val_loss: 141.4935 - val_rmse: 11.8897 - val_mse: 141.4935\n",
      "Epoch 37/50\n",
      "1/1 [==============================] - 2s 2s/step - loss: 107.6003 - rmse: 10.3731 - mse: 107.6003 - val_loss: 137.9222 - val_rmse: 11.7289 - val_mse: 137.9222\n",
      "Epoch 38/50\n",
      "1/1 [==============================] - 2s 2s/step - loss: 121.3033 - rmse: 11.0138 - mse: 121.3033 - val_loss: 136.9986 - val_rmse: 11.6668 - val_mse: 136.9986\n",
      "Epoch 39/50\n",
      "1/1 [==============================] - 2s 2s/step - loss: 118.9189 - rmse: 10.9050 - mse: 118.9189 - val_loss: 133.5509 - val_rmse: 11.5502 - val_mse: 133.5509\n",
      "Epoch 40/50\n",
      "1/1 [==============================] - 2s 2s/step - loss: 135.3331 - rmse: 11.6333 - mse: 135.3331 - val_loss: 130.1400 - val_rmse: 11.3844 - val_mse: 130.1400\n",
      "Epoch 41/50\n",
      "1/1 [==============================] - 2s 2s/step - loss: 103.7578 - rmse: 10.1862 - mse: 103.7578 - val_loss: 130.0190 - val_rmse: 11.3892 - val_mse: 130.0190\n",
      "Epoch 42/50\n",
      "1/1 [==============================] - 2s 2s/step - loss: 99.8514 - rmse: 9.9926 - mse: 99.8514 - val_loss: 123.3220 - val_rmse: 11.0927 - val_mse: 123.3220\n",
      "Epoch 43/50\n",
      "1/1 [==============================] - 2s 2s/step - loss: 129.1808 - rmse: 11.3658 - mse: 129.1808 - val_loss: 125.1756 - val_rmse: 11.1744 - val_mse: 125.1756\n",
      "Epoch 44/50\n",
      "1/1 [==============================] - 2s 2s/step - loss: 101.0201 - rmse: 10.0509 - mse: 101.0201 - val_loss: 121.2123 - val_rmse: 10.9950 - val_mse: 121.2122\n",
      "Epoch 45/50\n",
      "1/1 [==============================] - 2s 2s/step - loss: 137.5432 - rmse: 11.7279 - mse: 137.5432 - val_loss: 117.3711 - val_rmse: 10.7974 - val_mse: 117.3711\n",
      "Epoch 46/50\n",
      "1/1 [==============================] - 2s 2s/step - loss: 89.8077 - rmse: 9.4767 - mse: 89.8077 - val_loss: 117.2488 - val_rmse: 10.7893 - val_mse: 117.2488\n",
      "Epoch 47/50\n",
      "1/1 [==============================] - 2s 2s/step - loss: 98.1774 - rmse: 9.9084 - mse: 98.1774 - val_loss: 115.8433 - val_rmse: 10.7539 - val_mse: 115.8433\n",
      "Epoch 48/50\n",
      "1/1 [==============================] - 2s 2s/step - loss: 103.5598 - rmse: 10.1764 - mse: 103.5598 - val_loss: 113.3977 - val_rmse: 10.6346 - val_mse: 113.3977\n",
      "Epoch 49/50\n",
      "1/1 [==============================] - 2s 2s/step - loss: 76.9362 - rmse: 8.7713 - mse: 76.9362 - val_loss: 113.2849 - val_rmse: 10.6195 - val_mse: 113.2850\n",
      "Epoch 50/50\n",
      "1/1 [==============================] - 2s 2s/step - loss: 105.3800 - rmse: 10.2655 - mse: 105.3800 - val_loss: 111.1802 - val_rmse: 10.5112 - val_mse: 111.1802\n",
      "CPU times: user 4min 18s, sys: 2min 20s, total: 6min 38s\n",
      "Wall time: 1min 54s\n"
     ]
    }
   ],
   "source": [
    "%%time\n",
    "steps_per_epoch = NUM_TRAIN_EXAMPLES // (BATCH_SIZE * NUM_EVALS)\n",
    "\n",
    "OUTDIR = \"./taxi_trained\"\n",
    "shutil.rmtree(path=OUTDIR, ignore_errors=True) # start fresh each time\n",
    "\n",
    "history = model.fit(x=trainds,\n",
    "                    steps_per_epoch=steps_per_epoch,\n",
    "                    epochs=NUM_EVALS,\n",
    "                    validation_data=evalds,\n",
    "                    callbacks=[TensorBoard(OUTDIR)])"
   ]
  },
  {
   "cell_type": "markdown",
   "metadata": {},
   "source": [
    "Just as before, we can examine the history to see how the RMSE changes through training on the train set and validation set. "
   ]
  },
  {
   "cell_type": "code",
   "execution_count": 261,
   "metadata": {},
   "outputs": [
    {
     "data": {
      "text/plain": [
       "<AxesSubplot:>"
      ]
     },
     "execution_count": 261,
     "metadata": {},
     "output_type": "execute_result"
    },
    {
     "data": {
      "image/png": "[encoded data removed]",
      "text/plain": [
       "<Figure size 432x288 with 1 Axes>"
      ]
     },
     "metadata": {
      "needs_background": "light"
     },
     "output_type": "display_data"
    }
   ],
   "source": [
    "RMSE_COLS = ['rmse', 'val_rmse']\n",
    "\n",
    "pd.DataFrame(history.history)[RMSE_COLS].plot()"
   ]
  },
  {
   "cell_type": "markdown",
   "metadata": {},
   "source": [
    "Copyright 2021 Google Inc. Licensed under the Apache License, Version 2.0 (the \"License\"); you may not use this file except in compliance with the License. You may obtain a copy of the License at http://www.apache.org/licenses/LICENSE-2.0 Unless required by applicable law or agreed to in writing, software distributed under the License is distributed on an \"AS IS\" BASIS, WITHOUT WARRANTIES OR CONDITIONS OF ANY KIND, either express or implied. See the License for the specific language governing permissions and limitations under the License"
   ]
  }
 ],
 "metadata": {
  "environment": {
   "name": "tf2-gpu.2-1.m59",
   "type": "gcloud",
   "uri": "gcr.io/deeplearning-platform-release/tf2-gpu.2-1:m59"
  },
  "kernelspec": {
   "display_name": "Python 3",
   "language": "python",
   "name": "python3"
  },
  "language_info": {
   "codemirror_mode": {
    "name": "ipython",
    "version": 3
   },
   "file_extension": ".py",
   "mimetype": "text/x-python",
   "name": "python",
   "nbconvert_exporter": "python",
   "pygments_lexer": "ipython3",
   "version": "3.7.8"
  }
 },
 "nbformat": 4,
 "nbformat_minor": 4
}
