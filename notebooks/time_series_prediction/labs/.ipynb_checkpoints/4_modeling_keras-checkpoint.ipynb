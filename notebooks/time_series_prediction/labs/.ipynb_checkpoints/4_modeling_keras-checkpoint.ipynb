{
 "cells": [
  {
   "cell_type": "markdown",
   "metadata": {},
   "source": [
    "# Time Series Prediction\n",
    "\n",
    "**Objectives**\n",
    " 1. Build a linear, DNN and CNN model in keras to predict stock market behavior.\n",
    " 2. Build a simple RNN model and a multi-layer RNN model in keras.\n",
    " 3. Combine RNN and CNN architecture to create a keras model to predict stock market behavior.\n",
    " \n",
    "In this lab we will build a custom Keras model to predict stock market behavior using the stock market dataset we created in the previous labs. We'll start with a linear, DNN and CNN model \n",
    "\n",
    "Since the features of our model are sequential in nature, we'll next look at how to build various RNN models in keras. We'll start with a simple RNN model and then see how to create a multi-layer RNN in keras. We'll also see how to combine features of 1-dimensional CNNs with a typical RNN architecture. \n",
    "\n",
    "We will be exploring a lot of different model types in this notebook. To keep track of your results, record the accuracy on the validation set in the table here. In machine learning there are rarely any \"one-size-fits-all\" so feel free to test out different hyperparameters (e.g. train steps, regularization, learning rates, optimizers, batch size) for each of the models. Keep track of your model performance in the chart below.\n",
    "\n",
    "|  Model   | Validation Accuracy  |\n",
    "|----------|:---------------:|\n",
    "| Baseline |    0.295         |\n",
    "| Linear   |    --        |\n",
    "| DNN      |    --         |\n",
    "| 1-d CNN  |    --         |\n",
    "| simple RNN  |    --         |\n",
    "| multi-layer RNN  |    --         |\n",
    "| RNN using CNN features  |    --         |\n",
    "| CNN using RNN features  |    --         |"
   ]
  },
  {
   "cell_type": "markdown",
   "metadata": {},
   "source": [
    "## Load necessary libraries and set up environment variables"
   ]
  },
  {
   "cell_type": "code",
   "execution_count": 1,
   "metadata": {},
   "outputs": [],
   "source": [
    "import os\n",
    "\n",
    "import matplotlib as mpl\n",
    "import matplotlib.pyplot as plt\n",
    "import numpy as np\n",
    "import pandas as pd\n",
    "import tensorflow as tf\n",
    "\n",
    "from google.cloud import bigquery\n",
    "from tensorflow.keras.utils import to_categorical\n",
    "from tensorflow.keras.models import Sequential\n",
    "from tensorflow.keras.layers import (Dense, DenseFeatures,\n",
    "                                     Conv1D, MaxPool1D,\n",
    "                                     Reshape, RNN,\n",
    "                                     LSTM, GRU, Bidirectional)\n",
    "from tensorflow.keras.callbacks import TensorBoard, ModelCheckpoint\n",
    "from tensorflow.keras.optimizers import Adam\n",
    "\n",
    "# To plot pretty figures\n",
    "%matplotlib inline\n",
    "mpl.rc('axes', labelsize=14)\n",
    "mpl.rc('xtick', labelsize=12)\n",
    "mpl.rc('ytick', labelsize=12)\n",
    "\n",
    "# For reproducible results.\n",
    "from numpy.random import seed\n",
    "seed(1)\n",
    "tf.random.set_seed(2)"
   ]
  },
  {
   "cell_type": "code",
   "execution_count": 2,
   "metadata": {},
   "outputs": [],
   "source": [
    "PROJECT = \"qwiklabs-gcp-04-8722038efd75\" # REPLACE WITH YOUR PROJECT NAME\n",
    "BUCKET = \"qwiklabs-gcp-04-8722038efd75\" # REPLACE WITH YOUR BUCKET\n",
    "REGION = \"us-west1\" # REPLACE WITH YOUR BUCKET REGION e.g. us-central1"
   ]
  },
  {
   "cell_type": "code",
   "execution_count": 3,
   "metadata": {},
   "outputs": [],
   "source": [
    "%env \n",
    "PROJECT = PROJECT\n",
    "BUCKET = BUCKET\n",
    "REGION = REGION"
   ]
  },
  {
   "cell_type": "markdown",
   "metadata": {},
   "source": [
    "## Explore time series data\n",
    "\n",
    "We'll start by pulling a small sample of the time series data from Big Query and write some helper functions to clean up the data for modeling. We'll use the data from the `percent_change_sp500` table in BigQuery. The `close_values_prior_260` column contains the close values for any given stock for the previous 260 days. "
   ]
  },
  {
   "cell_type": "code",
   "execution_count": 4,
   "metadata": {},
   "outputs": [
    {
     "name": "stdout",
     "output_type": "stream",
     "text": [
      "CPU times: user 63.6 ms, sys: 9.91 ms, total: 73.5 ms\n",
      "Wall time: 1.49 s\n"
     ]
    }
   ],
   "source": [
    "%%time\n",
    "bq = bigquery.Client(project=PROJECT)\n",
    "\n",
    "bq_query = '''\n",
    "#standardSQL\n",
    "SELECT\n",
    "  symbol,\n",
    "  Date,\n",
    "  direction,\n",
    "  close_values_prior_260\n",
    "FROM\n",
    "  `stock_market.eps_percent_change_sp500`\n",
    "LIMIT\n",
    "  100\n",
    "'''\n",
    "\n",
    "df_stock_raw = bq.query(bq_query).to_dataframe()"
   ]
  },
  {
   "cell_type": "code",
   "execution_count": 5,
   "metadata": {},
   "outputs": [
    {
     "data": {
      "text/html": [
       "<div>\n",
       "<style scoped>\n",
       "    .dataframe tbody tr th:only-of-type {\n",
       "        vertical-align: middle;\n",
       "    }\n",
       "\n",
       "    .dataframe tbody tr th {\n",
       "        vertical-align: top;\n",
       "    }\n",
       "\n",
       "    .dataframe thead th {\n",
       "        text-align: right;\n",
       "    }\n",
       "</style>\n",
       "<table border=\"1\" class=\"dataframe\">\n",
       "  <thead>\n",
       "    <tr style=\"text-align: right;\">\n",
       "      <th></th>\n",
       "      <th>symbol</th>\n",
       "      <th>Date</th>\n",
       "      <th>direction</th>\n",
       "      <th>close_values_prior_260</th>\n",
       "    </tr>\n",
       "  </thead>\n",
       "  <tbody>\n",
       "    <tr>\n",
       "      <th>0</th>\n",
       "      <td>A</td>\n",
       "      <td>2008-07-01</td>\n",
       "      <td>UP</td>\n",
       "      <td>[38.74, 39.14, 38.65, 38.48, 38.4, 38.49, 38.4...</td>\n",
       "    </tr>\n",
       "    <tr>\n",
       "      <th>1</th>\n",
       "      <td>A</td>\n",
       "      <td>2007-11-15</td>\n",
       "      <td>UP</td>\n",
       "      <td>[33.41, 32.93, 34.03, 33.63, 33.67, 34.08, 34....</td>\n",
       "    </tr>\n",
       "    <tr>\n",
       "      <th>2</th>\n",
       "      <td>A</td>\n",
       "      <td>2005-08-15</td>\n",
       "      <td>UP</td>\n",
       "      <td>[22.95, 22.55, 21.85, 22.0, 22.86, 21.77, 19.6...</td>\n",
       "    </tr>\n",
       "    <tr>\n",
       "      <th>3</th>\n",
       "      <td>A</td>\n",
       "      <td>2003-05-19</td>\n",
       "      <td>UP</td>\n",
       "      <td>[27.81, 30.04, 28.74, 27.95, 28.46, 31.05, 29....</td>\n",
       "    </tr>\n",
       "    <tr>\n",
       "      <th>4</th>\n",
       "      <td>A</td>\n",
       "      <td>2004-08-12</td>\n",
       "      <td>UP</td>\n",
       "      <td>[21.73, 21.55, 21.56, 20.83, 20.58, 20.67, 20....</td>\n",
       "    </tr>\n",
       "  </tbody>\n",
       "</table>\n",
       "</div>"
      ],
      "text/plain": [
       "  symbol        Date direction  \\\n",
       "0      A  2008-07-01        UP   \n",
       "1      A  2007-11-15        UP   \n",
       "2      A  2005-08-15        UP   \n",
       "3      A  2003-05-19        UP   \n",
       "4      A  2004-08-12        UP   \n",
       "\n",
       "                              close_values_prior_260  \n",
       "0  [38.74, 39.14, 38.65, 38.48, 38.4, 38.49, 38.4...  \n",
       "1  [33.41, 32.93, 34.03, 33.63, 33.67, 34.08, 34....  \n",
       "2  [22.95, 22.55, 21.85, 22.0, 22.86, 21.77, 19.6...  \n",
       "3  [27.81, 30.04, 28.74, 27.95, 28.46, 31.05, 29....  \n",
       "4  [21.73, 21.55, 21.56, 20.83, 20.58, 20.67, 20....  "
      ]
     },
     "execution_count": 5,
     "metadata": {},
     "output_type": "execute_result"
    }
   ],
   "source": [
    "df_stock_raw.head()"
   ]
  },
  {
   "cell_type": "markdown",
   "metadata": {},
   "source": [
    "The function `clean_data` below does three things:\n",
    " 1. First, we'll remove any inf or NA values\n",
    " 2. Next, we parse the `Date` field to read it as a string.\n",
    " 3. Lastly, we convert the label `direction` into a numeric quantity, mapping 'DOWN' to 0, 'STAY' to 1 and 'UP' to 2. "
   ]
  },
  {
   "cell_type": "code",
   "execution_count": 6,
   "metadata": {},
   "outputs": [],
   "source": [
    "def clean_data(input_df):\n",
    "    \"\"\"Cleans data to prepare for training.\n",
    "\n",
    "    Args:\n",
    "        input_df: Pandas dataframe.\n",
    "    Returns:\n",
    "        Pandas dataframe.\n",
    "    \"\"\"\n",
    "    df = input_df.copy()\n",
    "\n",
    "    # Remove inf/na values.\n",
    "    real_valued_rows = ~(df == np.inf).max(axis=1)\n",
    "    df = df[real_valued_rows].dropna()\n",
    "\n",
    "    # TF doesn't accept datetimes in DataFrame.\n",
    "    df['Date'] = pd.to_datetime(df['Date'], errors='coerce')\n",
    "    df['Date'] = df['Date'].dt.strftime('%Y-%m-%d')\n",
    "\n",
    "    # TF requires numeric label.\n",
    "    df['direction_numeric'] = df['direction'].apply(lambda x: {'DOWN': 0,\n",
    "                                                               'STAY': 1,\n",
    "                                                               'UP': 2}[x])\n",
    "    return df"
   ]
  },
  {
   "cell_type": "code",
   "execution_count": 7,
   "metadata": {},
   "outputs": [],
   "source": [
    "df_stock = clean_data(df_stock_raw)"
   ]
  },
  {
   "cell_type": "code",
   "execution_count": 8,
   "metadata": {},
   "outputs": [
    {
     "data": {
      "text/html": [
       "<div>\n",
       "<style scoped>\n",
       "    .dataframe tbody tr th:only-of-type {\n",
       "        vertical-align: middle;\n",
       "    }\n",
       "\n",
       "    .dataframe tbody tr th {\n",
       "        vertical-align: top;\n",
       "    }\n",
       "\n",
       "    .dataframe thead th {\n",
       "        text-align: right;\n",
       "    }\n",
       "</style>\n",
       "<table border=\"1\" class=\"dataframe\">\n",
       "  <thead>\n",
       "    <tr style=\"text-align: right;\">\n",
       "      <th></th>\n",
       "      <th>symbol</th>\n",
       "      <th>Date</th>\n",
       "      <th>direction</th>\n",
       "      <th>close_values_prior_260</th>\n",
       "      <th>direction_numeric</th>\n",
       "    </tr>\n",
       "  </thead>\n",
       "  <tbody>\n",
       "    <tr>\n",
       "      <th>0</th>\n",
       "      <td>A</td>\n",
       "      <td>2008-07-01</td>\n",
       "      <td>UP</td>\n",
       "      <td>[38.74, 39.14, 38.65, 38.48, 38.4, 38.49, 38.4...</td>\n",
       "      <td>2</td>\n",
       "    </tr>\n",
       "    <tr>\n",
       "      <th>1</th>\n",
       "      <td>A</td>\n",
       "      <td>2007-11-15</td>\n",
       "      <td>UP</td>\n",
       "      <td>[33.41, 32.93, 34.03, 33.63, 33.67, 34.08, 34....</td>\n",
       "      <td>2</td>\n",
       "    </tr>\n",
       "    <tr>\n",
       "      <th>2</th>\n",
       "      <td>A</td>\n",
       "      <td>2005-08-15</td>\n",
       "      <td>UP</td>\n",
       "      <td>[22.95, 22.55, 21.85, 22.0, 22.86, 21.77, 19.6...</td>\n",
       "      <td>2</td>\n",
       "    </tr>\n",
       "    <tr>\n",
       "      <th>3</th>\n",
       "      <td>A</td>\n",
       "      <td>2003-05-19</td>\n",
       "      <td>UP</td>\n",
       "      <td>[27.81, 30.04, 28.74, 27.95, 28.46, 31.05, 29....</td>\n",
       "      <td>2</td>\n",
       "    </tr>\n",
       "    <tr>\n",
       "      <th>4</th>\n",
       "      <td>A</td>\n",
       "      <td>2004-08-12</td>\n",
       "      <td>UP</td>\n",
       "      <td>[21.73, 21.55, 21.56, 20.83, 20.58, 20.67, 20....</td>\n",
       "      <td>2</td>\n",
       "    </tr>\n",
       "  </tbody>\n",
       "</table>\n",
       "</div>"
      ],
      "text/plain": [
       "  symbol        Date direction  \\\n",
       "0      A  2008-07-01        UP   \n",
       "1      A  2007-11-15        UP   \n",
       "2      A  2005-08-15        UP   \n",
       "3      A  2003-05-19        UP   \n",
       "4      A  2004-08-12        UP   \n",
       "\n",
       "                              close_values_prior_260  direction_numeric  \n",
       "0  [38.74, 39.14, 38.65, 38.48, 38.4, 38.49, 38.4...                  2  \n",
       "1  [33.41, 32.93, 34.03, 33.63, 33.67, 34.08, 34....                  2  \n",
       "2  [22.95, 22.55, 21.85, 22.0, 22.86, 21.77, 19.6...                  2  \n",
       "3  [27.81, 30.04, 28.74, 27.95, 28.46, 31.05, 29....                  2  \n",
       "4  [21.73, 21.55, 21.56, 20.83, 20.58, 20.67, 20....                  2  "
      ]
     },
     "execution_count": 8,
     "metadata": {},
     "output_type": "execute_result"
    }
   ],
   "source": [
    "df_stock.head()"
   ]
  },
  {
   "cell_type": "markdown",
   "metadata": {},
   "source": [
    "## Read data and preprocessing\n",
    "\n",
    "Before we begin modeling, we'll preprocess our features by scaling to the z-score. This will ensure that the range of the feature values being fed to the model are comparable and should help with convergence during gradient descent."
   ]
  },
  {
   "cell_type": "code",
   "execution_count": 9,
   "metadata": {},
   "outputs": [],
   "source": [
    "STOCK_HISTORY_COLUMN = 'close_values_prior_260'\n",
    "COL_NAMES = ['day_' + str(day) for day in range(0, 260)]\n",
    "LABEL = 'direction_numeric'"
   ]
  },
  {
   "cell_type": "code",
   "execution_count": 14,
   "metadata": {},
   "outputs": [],
   "source": [
    "def _scale_features(df):\n",
    "    \"\"\"z-scale feature columns of Pandas dataframe.\n",
    "\n",
    "    Args:\n",
    "        features: Pandas dataframe.\n",
    "    Returns:\n",
    "        Pandas dataframe with each column standardized according to the\n",
    "        values in that column.\n",
    "    \"\"\"\n",
    "    avg = df.mean()\n",
    "    std = df.std()\n",
    "    return (df - avg) / std\n",
    "# The above turns each column into a z-score (normal distribution) >>>>>> BEWARE! <<<<<<<<<<<<<<<<<\n",
    "\n",
    "def create_features(df, label_name):\n",
    "    \"\"\"Create modeling features and label from Pandas dataframe.\n",
    "\n",
    "    Args:\n",
    "        df: Pandas dataframe.\n",
    "        label_name: str, the column name of the label.\n",
    "    Returns:\n",
    "        Pandas dataframe\n",
    "    \"\"\"\n",
    "    # Expand 1 column containing a list of close prices to 260 columns.\n",
    "    time_series_features = df[STOCK_HISTORY_COLUMN].apply(pd.Series)\n",
    "\n",
    "    # Rename columns.\n",
    "    time_series_features.columns = COL_NAMES\n",
    "    time_series_features = _scale_features(time_series_features)\n",
    "\n",
    "    # Concat time series features with static features and label.\n",
    "    label_column = df[LABEL]\n",
    "\n",
    "    return pd.concat([time_series_features,\n",
    "                      label_column], axis=1)"
   ]
  },
  {
   "cell_type": "code",
   "execution_count": 15,
   "metadata": {},
   "outputs": [],
   "source": [
    "df_features = create_features(df_stock, LABEL)"
   ]
  },
  {
   "cell_type": "code",
   "execution_count": 16,
   "metadata": {},
   "outputs": [
    {
     "data": {
      "text/html": [
       "<div>\n",
       "<style scoped>\n",
       "    .dataframe tbody tr th:only-of-type {\n",
       "        vertical-align: middle;\n",
       "    }\n",
       "\n",
       "    .dataframe tbody tr th {\n",
       "        vertical-align: top;\n",
       "    }\n",
       "\n",
       "    .dataframe thead th {\n",
       "        text-align: right;\n",
       "    }\n",
       "</style>\n",
       "<table border=\"1\" class=\"dataframe\">\n",
       "  <thead>\n",
       "    <tr style=\"text-align: right;\">\n",
       "      <th></th>\n",
       "      <th>day_0</th>\n",
       "      <th>day_1</th>\n",
       "      <th>day_2</th>\n",
       "      <th>day_3</th>\n",
       "      <th>day_4</th>\n",
       "      <th>day_5</th>\n",
       "      <th>day_6</th>\n",
       "      <th>day_7</th>\n",
       "      <th>day_8</th>\n",
       "      <th>day_9</th>\n",
       "      <th>...</th>\n",
       "      <th>day_251</th>\n",
       "      <th>day_252</th>\n",
       "      <th>day_253</th>\n",
       "      <th>day_254</th>\n",
       "      <th>day_255</th>\n",
       "      <th>day_256</th>\n",
       "      <th>day_257</th>\n",
       "      <th>day_258</th>\n",
       "      <th>day_259</th>\n",
       "      <th>direction_numeric</th>\n",
       "    </tr>\n",
       "  </thead>\n",
       "  <tbody>\n",
       "    <tr>\n",
       "      <th>0</th>\n",
       "      <td>0.323136</td>\n",
       "      <td>0.343158</td>\n",
       "      <td>0.319848</td>\n",
       "      <td>0.310630</td>\n",
       "      <td>0.298350</td>\n",
       "      <td>0.309872</td>\n",
       "      <td>0.305034</td>\n",
       "      <td>0.296425</td>\n",
       "      <td>0.342520</td>\n",
       "      <td>0.363484</td>\n",
       "      <td>...</td>\n",
       "      <td>0.272507</td>\n",
       "      <td>0.293280</td>\n",
       "      <td>0.283094</td>\n",
       "      <td>0.261106</td>\n",
       "      <td>0.231919</td>\n",
       "      <td>0.251298</td>\n",
       "      <td>0.196556</td>\n",
       "      <td>0.192116</td>\n",
       "      <td>0.187119</td>\n",
       "      <td>2</td>\n",
       "    </tr>\n",
       "    <tr>\n",
       "      <th>1</th>\n",
       "      <td>0.055088</td>\n",
       "      <td>0.030762</td>\n",
       "      <td>0.088187</td>\n",
       "      <td>0.068955</td>\n",
       "      <td>0.063882</td>\n",
       "      <td>0.089598</td>\n",
       "      <td>0.100654</td>\n",
       "      <td>0.128465</td>\n",
       "      <td>0.037787</td>\n",
       "      <td>0.041407</td>\n",
       "      <td>...</td>\n",
       "      <td>0.208434</td>\n",
       "      <td>0.189473</td>\n",
       "      <td>0.215052</td>\n",
       "      <td>0.166840</td>\n",
       "      <td>0.154054</td>\n",
       "      <td>0.083492</td>\n",
       "      <td>0.092954</td>\n",
       "      <td>0.112621</td>\n",
       "      <td>0.123830</td>\n",
       "      <td>2</td>\n",
       "    </tr>\n",
       "    <tr>\n",
       "      <th>2</th>\n",
       "      <td>-0.470950</td>\n",
       "      <td>-0.491408</td>\n",
       "      <td>-0.522557</td>\n",
       "      <td>-0.510569</td>\n",
       "      <td>-0.471976</td>\n",
       "      <td>-0.525271</td>\n",
       "      <td>-0.623066</td>\n",
       "      <td>-0.578529</td>\n",
       "      <td>-0.565781</td>\n",
       "      <td>-0.547098</td>\n",
       "      <td>...</td>\n",
       "      <td>-0.233950</td>\n",
       "      <td>-0.229512</td>\n",
       "      <td>-0.254630</td>\n",
       "      <td>-0.269907</td>\n",
       "      <td>-0.301808</td>\n",
       "      <td>-0.285681</td>\n",
       "      <td>-0.295437</td>\n",
       "      <td>-0.255985</td>\n",
       "      <td>-0.244099</td>\n",
       "      <td>2</td>\n",
       "    </tr>\n",
       "    <tr>\n",
       "      <th>3</th>\n",
       "      <td>-0.226538</td>\n",
       "      <td>-0.114621</td>\n",
       "      <td>-0.177071</td>\n",
       "      <td>-0.214080</td>\n",
       "      <td>-0.194381</td>\n",
       "      <td>-0.061747</td>\n",
       "      <td>-0.125940</td>\n",
       "      <td>-0.135193</td>\n",
       "      <td>-0.109173</td>\n",
       "      <td>-0.142778</td>\n",
       "      <td>...</td>\n",
       "      <td>-0.731455</td>\n",
       "      <td>-0.735864</td>\n",
       "      <td>-0.735179</td>\n",
       "      <td>-0.721813</td>\n",
       "      <td>-0.727468</td>\n",
       "      <td>-0.727177</td>\n",
       "      <td>-0.721674</td>\n",
       "      <td>-0.701247</td>\n",
       "      <td>-0.711684</td>\n",
       "      <td>2</td>\n",
       "    </tr>\n",
       "    <tr>\n",
       "      <th>4</th>\n",
       "      <td>-0.532304</td>\n",
       "      <td>-0.541713</td>\n",
       "      <td>-0.537099</td>\n",
       "      <td>-0.568870</td>\n",
       "      <td>-0.584996</td>\n",
       "      <td>-0.580215</td>\n",
       "      <td>-0.573205</td>\n",
       "      <td>-0.554116</td>\n",
       "      <td>-0.539732</td>\n",
       "      <td>-0.532324</td>\n",
       "      <td>...</td>\n",
       "      <td>-0.366806</td>\n",
       "      <td>-0.358214</td>\n",
       "      <td>-0.396857</td>\n",
       "      <td>-0.408226</td>\n",
       "      <td>-0.432526</td>\n",
       "      <td>-0.461996</td>\n",
       "      <td>-0.451551</td>\n",
       "      <td>-0.410242</td>\n",
       "      <td>-0.463250</td>\n",
       "      <td>2</td>\n",
       "    </tr>\n",
       "  </tbody>\n",
       "</table>\n",
       "<p>5 rows × 261 columns</p>\n",
       "</div>"
      ],
      "text/plain": [
       "      day_0     day_1     day_2     day_3     day_4     day_5     day_6  \\\n",
       "0  0.323136  0.343158  0.319848  0.310630  0.298350  0.309872  0.305034   \n",
       "1  0.055088  0.030762  0.088187  0.068955  0.063882  0.089598  0.100654   \n",
       "2 -0.470950 -0.491408 -0.522557 -0.510569 -0.471976 -0.525271 -0.623066   \n",
       "3 -0.226538 -0.114621 -0.177071 -0.214080 -0.194381 -0.061747 -0.125940   \n",
       "4 -0.532304 -0.541713 -0.537099 -0.568870 -0.584996 -0.580215 -0.573205   \n",
       "\n",
       "      day_7     day_8     day_9  ...   day_251   day_252   day_253   day_254  \\\n",
       "0  0.296425  0.342520  0.363484  ...  0.272507  0.293280  0.283094  0.261106   \n",
       "1  0.128465  0.037787  0.041407  ...  0.208434  0.189473  0.215052  0.166840   \n",
       "2 -0.578529 -0.565781 -0.547098  ... -0.233950 -0.229512 -0.254630 -0.269907   \n",
       "3 -0.135193 -0.109173 -0.142778  ... -0.731455 -0.735864 -0.735179 -0.721813   \n",
       "4 -0.554116 -0.539732 -0.532324  ... -0.366806 -0.358214 -0.396857 -0.408226   \n",
       "\n",
       "    day_255   day_256   day_257   day_258   day_259  direction_numeric  \n",
       "0  0.231919  0.251298  0.196556  0.192116  0.187119                  2  \n",
       "1  0.154054  0.083492  0.092954  0.112621  0.123830                  2  \n",
       "2 -0.301808 -0.285681 -0.295437 -0.255985 -0.244099                  2  \n",
       "3 -0.727468 -0.727177 -0.721674 -0.701247 -0.711684                  2  \n",
       "4 -0.432526 -0.461996 -0.451551 -0.410242 -0.463250                  2  \n",
       "\n",
       "[5 rows x 261 columns]"
      ]
     },
     "execution_count": 16,
     "metadata": {},
     "output_type": "execute_result"
    }
   ],
   "source": [
    "df_features.head()"
   ]
  },
  {
   "cell_type": "markdown",
   "metadata": {},
   "source": [
    "Let's plot a few examples and see that the preprocessing steps were implemented correctly."
   ]
  },
  {
   "cell_type": "code",
   "execution_count": 17,
   "metadata": {},
   "outputs": [
    {
     "data": {
      "image/png": "[encoded data removed]",
      "text/plain": [
       "<Figure size 1080x576 with 1 Axes>"
      ]
     },
     "metadata": {
      "needs_background": "light"
     },
     "output_type": "display_data"
    }
   ],
   "source": [
    "ix_to_plot = [0, 1, 9, 5]\n",
    "fig, ax = plt.subplots(1, 1, figsize=(15, 8))\n",
    "for ix in ix_to_plot:\n",
    "    label = df_features['direction_numeric'].iloc[ix]\n",
    "    example = df_features[COL_NAMES].iloc[ix]\n",
    "    ax = example.plot(label=label, ax=ax)\n",
    "    ax.set_ylabel('scaled price')\n",
    "    ax.set_xlabel('prior days')\n",
    "    ax.legend()"
   ]
  },
  {
   "cell_type": "markdown",
   "metadata": {},
   "source": [
    "### Make train-eval-test split\n",
    "\n",
    "Next, we'll make repeatable splits for our train/validation/test datasets and save these datasets to local csv files. The query below will take a subsample of the entire dataset and then create a 70-15-15 split for the train/validation/test sets. "
   ]
  },
  {
   "cell_type": "code",
   "execution_count": 18,
   "metadata": {},
   "outputs": [],
   "source": [
    "def _create_split(phase):\n",
    "    \"\"\"Create string to produce train/valid/test splits for a SQL query.\n",
    "\n",
    "    Args:\n",
    "        phase: str, either TRAIN, VALID, or TEST.\n",
    "    Returns:\n",
    "        String.\n",
    "    \"\"\"\n",
    "    floor, ceiling = '2002-11-01', '2010-07-01'\n",
    "    if phase == 'VALID':\n",
    "        floor, ceiling = '2010-07-01', '2011-09-01'\n",
    "    elif phase == 'TEST':\n",
    "        floor, ceiling = '2011-09-01', '2012-11-30'\n",
    "    return '''\n",
    "    WHERE Date >= '{0}'\n",
    "    AND Date < '{1}'\n",
    "    '''.format(floor, ceiling)\n",
    "\n",
    "\n",
    "def create_query(phase):\n",
    "    \"\"\"Create SQL query to create train/valid/test splits on subsample.\n",
    "\n",
    "    Args:\n",
    "        phase: str, either TRAIN, VALID, or TEST.\n",
    "        sample_size: str, amount of data to take for subsample.\n",
    "    Returns:\n",
    "        String.\n",
    "    \"\"\"\n",
    "    basequery = \"\"\"\n",
    "    #standardSQL\n",
    "    SELECT\n",
    "      symbol,\n",
    "      Date,\n",
    "      direction,\n",
    "      close_values_prior_260\n",
    "    FROM\n",
    "      `stock_market.eps_percent_change_sp500`\n",
    "    \"\"\"\n",
    "    \n",
    "    return basequery + _create_split(phase)"
   ]
  },
  {
   "cell_type": "code",
   "execution_count": 19,
   "metadata": {},
   "outputs": [
    {
     "name": "stdout",
     "output_type": "stream",
     "text": [
      "Wrote 11164 lines to ../data/stock-train.csv\n",
      "Wrote 2394 lines to ../data/stock-valid.csv\n",
      "Wrote 2455 lines to ../data/stock-test.csv\n"
     ]
    }
   ],
   "source": [
    "bq = bigquery.Client(project=PROJECT)\n",
    "\n",
    "for phase in ['TRAIN', 'VALID', 'TEST']:\n",
    "    # 1. Create query string\n",
    "    query_string = create_query(phase)\n",
    "    # 2. Load results into DataFrame\n",
    "    df = bq.query(query_string).to_dataframe()\n",
    "\n",
    "    # 3. Clean, preprocess dataframe\n",
    "    df = clean_data(df)\n",
    "    df = create_features(df, label_name='direction_numeric')\n",
    "\n",
    "    # 3. Write DataFrame to CSV\n",
    "    if not os.path.exists('../data'):\n",
    "        os.mkdir('../data')\n",
    "    df.to_csv('../data/stock-{}.csv'.format(phase.lower()),\n",
    "              index_label=False, index=False)\n",
    "    print(\"Wrote {} lines to {}\".format(\n",
    "        len(df),\n",
    "        '../data/stock-{}.csv'.format(phase.lower())))"
   ]
  },
  {
   "cell_type": "code",
   "execution_count": 20,
   "metadata": {},
   "outputs": [
    {
     "name": "stdout",
     "output_type": "stream",
     "text": [
      "total 81436\n",
      "drwxr-xr-x 2 jupyter jupyter     4096 Nov 29 03:14 \u001b[0m\u001b[01;34m.\u001b[0m/\n",
      "drwxr-xr-x 6 jupyter jupyter     4096 Nov 29 03:14 \u001b[01;34m..\u001b[0m/\n",
      "-rw-r--r-- 1 jupyter jupyter 12796273 Dec 16 13:28 stock-test.csv\n",
      "-rw-r--r-- 1 jupyter jupyter 58124831 Dec 16 13:28 stock-train.csv\n",
      "-rw-r--r-- 1 jupyter jupyter 12453843 Dec 16 13:28 stock-valid.csv\n"
     ]
    }
   ],
   "source": [
    "ls -la ../data"
   ]
  },
  {
   "cell_type": "markdown",
   "metadata": {},
   "source": [
    "## Modeling\n",
    "\n",
    "For experimentation purposes, we'll train various models using data we can fit in memory using the `.csv` files we created above. "
   ]
  },
  {
   "cell_type": "code",
   "execution_count": 21,
   "metadata": {},
   "outputs": [],
   "source": [
    "N_TIME_STEPS = 260\n",
    "N_LABELS = 3\n",
    "\n",
    "Xtrain = pd.read_csv('../data/stock-train.csv')\n",
    "Xvalid = pd.read_csv('../data/stock-valid.csv')\n",
    "\n",
    "ytrain = Xtrain.pop(LABEL)\n",
    "yvalid  = Xvalid.pop(LABEL)\n",
    "\n",
    "ytrain_categorical = to_categorical(ytrain.values)\n",
    "yvalid_categorical = to_categorical(yvalid.values)"
   ]
  },
  {
   "cell_type": "markdown",
   "metadata": {},
   "source": [
    "To monitor training progress and compare evaluation metrics for different models, we'll use the function below to plot metrics captured from the training job such as training and validation loss or accuracy."
   ]
  },
  {
   "cell_type": "code",
   "execution_count": 23,
   "metadata": {},
   "outputs": [],
   "source": [
    "def plot_curves(train_data, val_data, label='Accuracy'):\n",
    "    \"\"\"Plot training and validation metrics on single axis.\n",
    "\n",
    "    Args:\n",
    "        train_data: list, metrics obtrained from training data.\n",
    "        val_data: list, metrics obtained from validation data.\n",
    "        label: str, title and label for plot.\n",
    "    Returns:\n",
    "        Matplotlib plot.\n",
    "    \"\"\"\n",
    "    plt.plot(np.arange(len(train_data)) + 0.5,\n",
    "             train_data,\n",
    "             \"b.-\", label=\"Training \" + label)\n",
    "    plt.plot(np.arange(len(val_data)) + 1,\n",
    "             val_data, \"r.-\",\n",
    "             label=\"Validation \" + label)\n",
    "    plt.gca().xaxis.set_major_locator(mpl.ticker.MaxNLocator(integer=True))\n",
    "    plt.legend(fontsize=14)\n",
    "    plt.xlabel(\"Epochs\")\n",
    "    plt.ylabel(label)\n",
    "    plt.grid(True)"
   ]
  },
  {
   "cell_type": "markdown",
   "metadata": {},
   "source": [
    "### Baseline\n",
    "\n",
    "Before we begin modeling in keras, let's create a benchmark using a simple heuristic. Let's see what kind of accuracy we would get on the validation set if we predict the majority class of the training set. "
   ]
  },
  {
   "cell_type": "code",
   "execution_count": 24,
   "metadata": {},
   "outputs": [
    {
     "data": {
      "text/plain": [
       "0.29490392648287383"
      ]
     },
     "execution_count": 24,
     "metadata": {},
     "output_type": "execute_result"
    }
   ],
   "source": [
    "sum(yvalid == ytrain.value_counts().idxmax()) / yvalid.shape[0]"
   ]
  },
  {
   "cell_type": "markdown",
   "metadata": {},
   "source": [
    "Ok. So just naively guessing the most common outcome `UP` will give about 29.5% accuracy on the validation set. "
   ]
  },
  {
   "cell_type": "markdown",
   "metadata": {},
   "source": [
    "### Linear model\n",
    "\n",
    "We'll start with a simple linear model, mapping our sequential input to a single fully dense layer. "
   ]
  },
  {
   "cell_type": "markdown",
   "metadata": {},
   "source": [
    "**Lab Task #1a:** In the cell below, create a linear model using the [keras sequential API](https://www.tensorflow.org/api_docs/python/tf/keras/Sequential) which maps the sequential input to a single dense fully connected layer."
   ]
  },
  {
   "cell_type": "code",
   "execution_count": 27,
   "metadata": {},
   "outputs": [],
   "source": [
    "# TODO 1a\n",
    "model = Sequential()\n",
    "\n",
    "# TODO: Your code goes here:\n",
    "model.add(Dense(units=N_LABELS, activation='softmax'))\n",
    "\n",
    "# TODO: Your code goes here.\n",
    "model.compile(optimizer=Adam(lr=0.001), loss='categorical_crossentropy', metrics=['accuracy'])\n",
    "\n",
    "# TODO: Your code goes here.\n",
    "history = model.fit(x=Xtrain.values,\n",
    "                    y=ytrain_categorical,\n",
    "                    batch_size=Xtrain.shape[0],\n",
    "                    validation_data=(Xvalid.values, yvalid_categorical),\n",
    "                    epochs=30,\n",
    "                    verbose=0)"
   ]
  },
  {
   "cell_type": "code",
   "execution_count": 28,
   "metadata": {},
   "outputs": [
    {
     "data": {
      "image/png": "[encoded data removed]",
      "text/plain": [
       "<Figure size 432x288 with 1 Axes>"
      ]
     },
     "metadata": {
      "needs_background": "light"
     },
     "output_type": "display_data"
    }
   ],
   "source": [
    "plot_curves(history.history['loss'],\n",
    "            history.history['val_loss'],\n",
    "            label='Loss')"
   ]
  },
  {
   "cell_type": "code",
   "execution_count": 29,
   "metadata": {},
   "outputs": [
    {
     "data": {
      "image/png": "[encoded data removed]",
      "text/plain": [
       "<Figure size 432x288 with 1 Axes>"
      ]
     },
     "metadata": {
      "needs_background": "light"
     },
     "output_type": "display_data"
    }
   ],
   "source": [
    "plot_curves(history.history['accuracy'],\n",
    "            history.history['val_accuracy'],\n",
    "            label='Accuracy')"
   ]
  },
  {
   "cell_type": "markdown",
   "metadata": {},
   "source": [
    "The accuracy seems to level out pretty quickly. To report the accuracy, we'll average the accuracy on the validation set across the last few epochs of training."
   ]
  },
  {
   "cell_type": "code",
   "execution_count": 30,
   "metadata": {},
   "outputs": [
    {
     "data": {
      "text/plain": [
       "0.35020885"
      ]
     },
     "execution_count": 30,
     "metadata": {},
     "output_type": "execute_result"
    }
   ],
   "source": [
    "np.mean(history.history['val_accuracy'][-5:])"
   ]
  },
  {
   "cell_type": "markdown",
   "metadata": {},
   "source": [
    "### Deep Neural Network"
   ]
  },
  {
   "cell_type": "markdown",
   "metadata": {},
   "source": [
    "The linear model is an improvement on our naive benchmark. Perhaps we can do better with a more complicated model. Next, we'll create a deep neural network with keras. We'll experiment with a two layer DNN here but feel free to try a more complex model or add any other additional techniques to try an improve your performance. "
   ]
  },
  {
   "cell_type": "markdown",
   "metadata": {},
   "source": [
    "**Lab Task #1b:** In the cell below, create a deep neural network in keras to model `direction_numeric`. Experiment with different activation functions or add regularization to see how much you can improve performance. "
   ]
  },
  {
   "cell_type": "code",
   "execution_count": 53,
   "metadata": {},
   "outputs": [],
   "source": [
    "# I add this:\n",
    "dnn_hidden_units=[16,8]\n",
    "\n",
    "#TODO 1b\n",
    "model = Sequential()\n",
    "\n",
    "# TODO: Your code goes here:\n",
    "for layer in dnn_hidden_units:\n",
    "    model.add(Dense(units=layer, activation=\"relu\"))\n",
    "\n",
    "model.add(Dense(units=N_LABELS,\n",
    "                activation=\"softmax\",\n",
    "               kernel_regularizer=tf.keras.regularizers.l1(l=0.1)))\n",
    "# relu, L1, L=0.01 >>> acc=0.35020885\n",
    "# "
   ]
  },
  {
   "cell_type": "code",
   "execution_count": 54,
   "metadata": {},
   "outputs": [
    {
     "data": {
      "image/png": "[encoded data removed]",
      "text/plain": [
       "<Figure size 432x288 with 1 Axes>"
      ]
     },
     "metadata": {
      "needs_background": "light"
     },
     "output_type": "display_data"
    }
   ],
   "source": [
    "plot_curves(history.history['loss'],\n",
    "            history.history['val_loss'],\n",
    "            label='Loss')"
   ]
  },
  {
   "cell_type": "code",
   "execution_count": 55,
   "metadata": {},
   "outputs": [
    {
     "data": {
      "image/png": "[encoded data removed]",
      "text/plain": [
       "<Figure size 432x288 with 1 Axes>"
      ]
     },
     "metadata": {
      "needs_background": "light"
     },
     "output_type": "display_data"
    }
   ],
   "source": [
    "plot_curves(history.history['accuracy'],\n",
    "            history.history['val_accuracy'],\n",
    "            label='Accuracy')"
   ]
  },
  {
   "cell_type": "code",
   "execution_count": 56,
   "metadata": {},
   "outputs": [
    {
     "data": {
      "text/plain": [
       "0.35020885"
      ]
     },
     "execution_count": 56,
     "metadata": {},
     "output_type": "execute_result"
    }
   ],
   "source": [
    "np.mean(history.history['val_accuracy'][-5:])"
   ]
  },
  {
   "cell_type": "markdown",
   "metadata": {},
   "source": [
    "### Convolutional Neural Network\n",
    "\n",
    "The DNN does slightly better. Let's see how a convolutional neural network performs. \n",
    "\n",
    "A 1-dimensional convolutional can be useful for extracting features from sequential data or deriving features from shorter, fixed-length segments of the data set. Check out the documentation for how to implement a [Conv1d in Tensorflow](https://www.tensorflow.org/api_docs/python/tf/keras/layers/Conv1D). Max pooling is a downsampling strategy commonly used in conjunction with convolutional neural networks. Next, we'll build a CNN model in keras using the `Conv1D` to create convolution layers and `MaxPool1D` to perform max pooling before passing to a fully connected dense layer. "
   ]
  },
  {
   "cell_type": "markdown",
   "metadata": {},
   "source": [
    "**Lab Task #1b:** Create 1D Convolutional network in keras. You can experiment with different numbers of convolutional layers, filter sizes, kernals sizes and strides, pooling layers etc. After passing through the convolutional layers, flatten the result and pass through a deep neural network to complete the model. "
   ]
  },
  {
   "cell_type": "code",
   "execution_count": null,
   "metadata": {},
   "outputs": [],
   "source": [
    "#TODO 1c\n",
    "model = Sequential()\n",
    "\n",
    "# Convolutional layer(s)\n",
    "# TODO: Your code goes here.\n",
    "\n",
    "# Flatten the result and pass through DNN.\n",
    "# TODO: Your code goes here.\n",
    "\n",
    "# Compile your model and train\n",
    "# TODO: Your code goes here."
   ]
  },
  {
   "cell_type": "code",
   "execution_count": null,
   "metadata": {},
   "outputs": [],
   "source": [
    "plot_curves(history.history['loss'],\n",
    "            history.history['val_loss'],\n",
    "            label='Loss')"
   ]
  },
  {
   "cell_type": "code",
   "execution_count": null,
   "metadata": {},
   "outputs": [],
   "source": [
    "plot_curves(history.history['accuracy'],\n",
    "            history.history['val_accuracy'],\n",
    "            label='Accuracy')"
   ]
  },
  {
   "cell_type": "code",
   "execution_count": null,
   "metadata": {},
   "outputs": [],
   "source": [
    "np.mean(history.history['val_accuracy'][-5:])"
   ]
  },
  {
   "cell_type": "markdown",
   "metadata": {},
   "source": [
    "### Recurrent Neural Network\n",
    "\n",
    "RNNs are particularly well-suited for learning sequential data. They retain state information from one iteration to the next by feeding the output from one cell as input for the next step. In the cell below, we'll build a RNN model in keras. The final state of the RNN is captured and then passed through a fully connected layer to produce a prediction."
   ]
  },
  {
   "cell_type": "markdown",
   "metadata": {},
   "source": [
    "**Lab Task #2a:** Create an RNN model in keras. You can try different types of RNN cells like [LSTMs](https://www.tensorflow.org/api_docs/python/tf/keras/layers/LSTM), \n",
    "[GRUs](https://www.tensorflow.org/api_docs/python/tf/keras/layers/GRU) or basic [RNN cell](https://www.tensorflow.org/api_docs/python/tf/keras/layers/SimpleRNN). Experiment with different cell sizes, activation functions, regularization, etc."
   ]
  },
  {
   "cell_type": "code",
   "execution_count": null,
   "metadata": {},
   "outputs": [],
   "source": [
    "#TODO 2a\n",
    "model = Sequential()\n",
    "\n",
    "# Reshape inputs to pass through RNN layer.\n",
    "# TODO: Your code goes here.\n",
    "\n",
    "# Compile your model and train\n",
    "# TODO: Your code goes here."
   ]
  },
  {
   "cell_type": "code",
   "execution_count": null,
   "metadata": {},
   "outputs": [],
   "source": [
    "plot_curves(history.history['loss'],\n",
    "            history.history['val_loss'],\n",
    "            label='Loss')"
   ]
  },
  {
   "cell_type": "code",
   "execution_count": null,
   "metadata": {},
   "outputs": [],
   "source": [
    "plot_curves(history.history['accuracy'],\n",
    "            history.history['val_accuracy'],\n",
    "            label='Accuracy')"
   ]
  },
  {
   "cell_type": "code",
   "execution_count": null,
   "metadata": {},
   "outputs": [],
   "source": [
    "np.mean(history.history['val_accuracy'][-5:])"
   ]
  },
  {
   "cell_type": "markdown",
   "metadata": {},
   "source": [
    "### Multi-layer RNN\n",
    "\n",
    "Next, we'll build multi-layer RNN. Just as multiple layers of a deep neural network allow for more complicated features to be learned during training, additional RNN layers can potentially learn complex features in sequential data. For a multi-layer RNN the output of the first RNN layer is fed as the input into the next RNN layer."
   ]
  },
  {
   "cell_type": "markdown",
   "metadata": {},
   "source": [
    "**Lab Task #2b:** Now that you've seen how to build a sinlge layer RNN, create an deep, multi-layer RNN model. Look into how you should set the `return_sequences` variable when instantiating the layers of your RNN."
   ]
  },
  {
   "cell_type": "code",
   "execution_count": null,
   "metadata": {},
   "outputs": [],
   "source": [
    "#TODO 2b\n",
    "\n",
    "model = Sequential()\n",
    "\n",
    "# Reshape inputs to pass through RNN layers.\n",
    "# TODO: Your code goes here.\n",
    "\n",
    "# Compile your model and train\n",
    "# TODO: Your code goes here."
   ]
  },
  {
   "cell_type": "code",
   "execution_count": null,
   "metadata": {},
   "outputs": [],
   "source": [
    "plot_curves(history.history['loss'],\n",
    "            history.history['val_loss'],\n",
    "            label='Loss')"
   ]
  },
  {
   "cell_type": "code",
   "execution_count": null,
   "metadata": {},
   "outputs": [],
   "source": [
    "plot_curves(history.history['accuracy'],\n",
    "            history.history['val_accuracy'],\n",
    "            label='Accuracy')"
   ]
  },
  {
   "cell_type": "code",
   "execution_count": null,
   "metadata": {},
   "outputs": [],
   "source": [
    "np.mean(history.history['val_accuracy'][-5:])"
   ]
  },
  {
   "cell_type": "markdown",
   "metadata": {},
   "source": [
    "### Combining CNN and RNN architecture\n",
    "\n",
    "Finally, we'll look at some model architectures which combine aspects of both convolutional and recurrant networks. For example, we can use a 1-dimensional convolution layer to process our sequences and create features which are then passed to a RNN model before prediction. "
   ]
  },
  {
   "cell_type": "markdown",
   "metadata": {},
   "source": [
    "**Lab Task #3a:** Create a model that first passes through a 1D-Convolution then passes those sequential features through an sequential recurrent layer. You can experiment with different hyperparameters of the CNN and the RNN to see how much you can improve performance of your model. "
   ]
  },
  {
   "cell_type": "code",
   "execution_count": null,
   "metadata": {},
   "outputs": [],
   "source": [
    "#TODO 3a\n",
    "model = Sequential()\n",
    "\n",
    "# Reshape inputs for convolutional layer\n",
    "# TODO: Your code goes here.\n",
    "\n",
    "# Pass the convolutional features through RNN layer\n",
    "# TODO: Your code goes here.\n",
    "\n",
    "# Compile your model and train\n",
    "# TODO: Your code goes here."
   ]
  },
  {
   "cell_type": "code",
   "execution_count": null,
   "metadata": {},
   "outputs": [],
   "source": [
    "plot_curves(history.history['loss'],\n",
    "            history.history['val_loss'],\n",
    "            label='Loss')"
   ]
  },
  {
   "cell_type": "code",
   "execution_count": null,
   "metadata": {},
   "outputs": [],
   "source": [
    "plot_curves(history.history['accuracy'],\n",
    "            history.history['val_accuracy'],\n",
    "            label='Accuracy')"
   ]
  },
  {
   "cell_type": "code",
   "execution_count": null,
   "metadata": {},
   "outputs": [],
   "source": [
    "np.mean(history.history['val_accuracy'][-5:])"
   ]
  },
  {
   "cell_type": "markdown",
   "metadata": {},
   "source": [
    "We can also try building a hybrid model which uses a 1-dimensional CNN to create features from the outputs of an RNN."
   ]
  },
  {
   "cell_type": "markdown",
   "metadata": {},
   "source": [
    "**Lab Task #3b:** Lastly, create a model that passes through the recurrant layer of an RNN first before applying a 1D-Convolution. As before, the result of the CNN is then flattened and passed through the fully connected layer(s)."
   ]
  },
  {
   "cell_type": "code",
   "execution_count": null,
   "metadata": {},
   "outputs": [],
   "source": [
    "#TODO 3b\n",
    "model = Sequential()\n",
    "\n",
    "# Reshape inputs and pass through RNN layer.\n",
    "# TODO: Your code goes here.\n",
    "\n",
    "# Apply 1d convolution to RNN outputs.\n",
    "# TODO: Your code goes here.\n",
    "\n",
    "# Flatten the convolution output and pass through DNN.\n",
    "# TODO: Your code goes here.\n",
    "\n",
    "# Compile your model and train\n",
    "# TODO: Your code goes here."
   ]
  },
  {
   "cell_type": "code",
   "execution_count": null,
   "metadata": {},
   "outputs": [],
   "source": [
    "plot_curves(history.history['loss'],\n",
    "            history.history['val_loss'],\n",
    "            label='Loss')"
   ]
  },
  {
   "cell_type": "code",
   "execution_count": null,
   "metadata": {},
   "outputs": [],
   "source": [
    "plot_curves(history.history['accuracy'],\n",
    "            history.history['val_accuracy'],\n",
    "            label='Accuracy')"
   ]
  },
  {
   "cell_type": "code",
   "execution_count": null,
   "metadata": {},
   "outputs": [],
   "source": [
    "np.mean(history.history['val_accuracy'][-5:])"
   ]
  },
  {
   "cell_type": "markdown",
   "metadata": {},
   "source": [
    "## Extra Credit\n",
    "\n",
    "1. The `eps_percent_change_sp500` table also has static features for each example. Namely, the engineered features we created in the previous labs with aggregated information capturing the `MAX`, `MIN`, `AVG` and `STD` across the last 5 days, 20 days and 260 days (e.g. `close_MIN_prior_5_days`, `close_MIN_prior_20_days`, `close_MIN_prior_260_days`, etc.). Try building a model which incorporates these features in addition to the sequence features we used above. Does this improve performance?\n",
    "\n",
    "2. The `eps_percent_change_sp500` table also contains a `surprise` feature which captures information about the earnings per share. Try building a model which uses the `surprise` feature in addition to the sequence features we used above. Does this improve performance?"
   ]
  },
  {
   "cell_type": "markdown",
   "metadata": {},
   "source": [
    "Copyright 2019 Google Inc. Licensed under the Apache License, Version 2.0 (the \"License\"); you may not use this file except in compliance with the License. You may obtain a copy of the License at http://www.apache.org/licenses/LICENSE-2.0 Unless required by applicable law or agreed to in writing, software distributed under the License is distributed on an \"AS IS\" BASIS, WITHOUT WARRANTIES OR CONDITIONS OF ANY KIND, either express or implied. See the License for the specific language governing permissions and limitations under the License"
   ]
  }
 ],
 "metadata": {
  "environment": {
   "name": "tf2-gpu.2-1.m59",
   "type": "gcloud",
   "uri": "gcr.io/deeplearning-platform-release/tf2-gpu.2-1:m59"
  },
  "kernelspec": {
   "display_name": "Python 3",
   "language": "python",
   "name": "python3"
  },
  "language_info": {
   "codemirror_mode": {
    "name": "ipython",
    "version": 3
   },
   "file_extension": ".py",
   "mimetype": "text/x-python",
   "name": "python",
   "nbconvert_exporter": "python",
   "pygments_lexer": "ipython3",
   "version": "3.7.8"
  }
 },
 "nbformat": 4,
 "nbformat_minor": 4
}
