{
 "cells": [
  {
   "cell_type": "markdown",
   "metadata": {
    "colab_type": "text",
    "id": "V8k9buNKTfud"
   },
   "source": [
    "# Label and feature engineering\n",
    "\n",
    "Learning objectives:\n",
    "\n",
    "1. Learn how to use BigQuery to build time-series features and labels for forecasting\n",
    "2. Learn how to visualize and explore features.\n",
    "3. Learn effective scaling and normalizing techniques to improve our modeling results\n",
    "\n",
    "Now that we have explored the data, let's start building our features, so we can build a model.\n",
    "\n",
    "<h3><font color=\"#4885ed\">Feature Engineering</font> </h3>\n",
    "\n",
    "Use the `price_history` table, we can look at past performance of a given stock, to try to predict it's future stock price. In this notebook we will be focused on cleaning and creating features from this table. \n",
    "\n",
    "There are typically two different approaches to creating features with time-series data. \n",
    "\n",
    "**One approach** is aggregate the time-series into \"static\" features, such as \"min_price_over_past_month\" or \"exp_moving_avg_past_30_days\". Using this approach, we can use a deep neural network or a more \"traditional\" ML model to train. Notice we have essentially removed all sequention information after aggregating. This assumption can work well in practice. \n",
    "\n",
    "A **second approach** is to preserve the ordered nature of the data and use a sequential model, such as a recurrent neural network. This approach has a nice benefit that is typically requires less feature engineering. Although, training sequentially models typically takes longer.\n",
    "\n",
    "In this notebook, we will build features and also create rolling windows of the ordered time-series data.\n",
    "\n",
    "<h3><font color=\"#4885ed\">Label Engineering</font> </h3>\n",
    "\n",
    "We are trying to predict if the stock will go up or down. In order to do this we will need to \"engineer\" our label by looking into the future and using that as the label. We will be using the [`LAG`](https://cloud.google.com/bigquery/docs/reference/standard-sql/functions-and-operators#lag) function in BigQuery to do this. Visually this looks like:\n",
    "\n",
    "![](https://github.com/GoogleCloudPlatform/training-data-analyst/blob/master/blogs/gcp_forecasting/rolling_window.gif?raw=true)"
   ]
  },
  {
   "cell_type": "markdown",
   "metadata": {
    "colab_type": "text",
    "id": "WBBSZf_uTdGy"
   },
   "source": [
    "## Import libraries; setup"
   ]
  },
  {
   "cell_type": "code",
   "execution_count": 1,
   "metadata": {
    "colab": {},
    "colab_type": "code",
    "id": "kC9RZRlqTfuj"
   },
   "outputs": [],
   "source": [
    "PROJECT = 'qwiklabs-gcp-04-8722038efd75'  # Replace with your project ID."
   ]
  },
  {
   "cell_type": "code",
   "execution_count": 2,
   "metadata": {
    "colab": {},
    "colab_type": "code",
    "id": "IjsuN9heTfue"
   },
   "outputs": [],
   "source": [
    "import pandas as pd\n",
    "\n",
    "from google.cloud import bigquery\n",
    "from IPython.core.magic import register_cell_magic\n",
    "from IPython import get_ipython\n",
    "\n",
    "bq = bigquery.Client(project = PROJECT)"
   ]
  },
  {
   "cell_type": "code",
   "execution_count": 3,
   "metadata": {
    "colab": {},
    "colab_type": "code",
    "id": "xyaeBdzMTdG2"
   },
   "outputs": [],
   "source": [
    "# Allow you to easily have Python variables in SQL query.\n",
    "@register_cell_magic('with_globals')\n",
    "def with_globals(line, cell):\n",
    "    contents = cell.format(**globals())\n",
    "    if 'print' in line:\n",
    "        print(contents)\n",
    "    get_ipython().run_cell(contents)"
   ]
  },
  {
   "cell_type": "code",
   "execution_count": 4,
   "metadata": {
    "colab": {
     "base_uri": "https://localhost:8080/",
     "height": 34
    },
    "colab_type": "code",
    "id": "VHEy7L2EW-ug",
    "outputId": "b8a94157-c6d9-425d-b124-cead5d7d9d3f"
   },
   "outputs": [
    {
     "name": "stdout",
     "output_type": "stream",
     "text": [
      "Dataset created\n"
     ]
    }
   ],
   "source": [
    "def create_dataset():\n",
    "    dataset = bigquery.Dataset(bq.dataset(\"stock_market\"))\n",
    "    try:\n",
    "        bq.create_dataset(dataset)  # Will fail if dataset already exists.\n",
    "        print(\"Dataset created\")\n",
    "    except:\n",
    "        print(\"Dataset already exists\")\n",
    "\n",
    "create_dataset()"
   ]
  },
  {
   "cell_type": "markdown",
   "metadata": {
    "colab_type": "text",
    "id": "Ip9SZU7CTful"
   },
   "source": [
    "## Create time-series features and determine label based on market movement"
   ]
  },
  {
   "cell_type": "markdown",
   "metadata": {
    "colab_type": "text",
    "id": "WduqaabdTfum"
   },
   "source": [
    "### Summary of base tables"
   ]
  },
  {
   "cell_type": "code",
   "execution_count": 5,
   "metadata": {
    "colab": {
     "base_uri": "https://localhost:8080/",
     "height": 77
    },
    "colab_type": "code",
    "id": "GEmgSKBNTdG_",
    "outputId": "845d17a4-83a0-4314-d888-8cc29ee90c2b"
   },
   "outputs": [
    {
     "data": {
      "text/html": [
       "<div>\n",
       "<style scoped>\n",
       "    .dataframe tbody tr th:only-of-type {\n",
       "        vertical-align: middle;\n",
       "    }\n",
       "\n",
       "    .dataframe tbody tr th {\n",
       "        vertical-align: top;\n",
       "    }\n",
       "\n",
       "    .dataframe thead th {\n",
       "        text-align: right;\n",
       "    }\n",
       "</style>\n",
       "<table border=\"1\" class=\"dataframe\">\n",
       "  <thead>\n",
       "    <tr style=\"text-align: right;\">\n",
       "      <th></th>\n",
       "      <th>cnt</th>\n",
       "    </tr>\n",
       "  </thead>\n",
       "  <tbody>\n",
       "    <tr>\n",
       "      <th>0</th>\n",
       "      <td>7382924</td>\n",
       "    </tr>\n",
       "  </tbody>\n",
       "</table>\n",
       "</div>"
      ],
      "text/plain": [
       "       cnt\n",
       "0  7382924"
      ]
     },
     "execution_count": 5,
     "metadata": {},
     "output_type": "execute_result"
    }
   ],
   "source": [
    "%%with_globals\n",
    "%%bigquery --project {PROJECT}\n",
    "SELECT count(*) as cnt\n",
    "FROM `asl-ml-immersion.stock_src.price_history`"
   ]
  },
  {
   "cell_type": "code",
   "execution_count": 6,
   "metadata": {
    "colab": {
     "base_uri": "https://localhost:8080/",
     "height": 77
    },
    "colab_type": "code",
    "id": "Utn87x_ATdHC",
    "outputId": "9d4a74d7-1ad0-4510-adf0-91c7ee7e87b5"
   },
   "outputs": [
    {
     "data": {
      "text/html": [
       "<div>\n",
       "<style scoped>\n",
       "    .dataframe tbody tr th:only-of-type {\n",
       "        vertical-align: middle;\n",
       "    }\n",
       "\n",
       "    .dataframe tbody tr th {\n",
       "        vertical-align: top;\n",
       "    }\n",
       "\n",
       "    .dataframe thead th {\n",
       "        text-align: right;\n",
       "    }\n",
       "</style>\n",
       "<table border=\"1\" class=\"dataframe\">\n",
       "  <thead>\n",
       "    <tr style=\"text-align: right;\">\n",
       "      <th></th>\n",
       "      <th>cnt</th>\n",
       "    </tr>\n",
       "  </thead>\n",
       "  <tbody>\n",
       "    <tr>\n",
       "      <th>0</th>\n",
       "      <td>500</td>\n",
       "    </tr>\n",
       "  </tbody>\n",
       "</table>\n",
       "</div>"
      ],
      "text/plain": [
       "   cnt\n",
       "0  500"
      ]
     },
     "execution_count": 6,
     "metadata": {},
     "output_type": "execute_result"
    }
   ],
   "source": [
    "%%with_globals\n",
    "%%bigquery --project {PROJECT}\n",
    "SELECT count(*) as cnt\n",
    "FROM `asl-ml-immersion.stock_src.snp500`"
   ]
  },
  {
   "cell_type": "markdown",
   "metadata": {
    "colab_type": "text",
    "id": "at7EL7pITfuq"
   },
   "source": [
    "### Label engineering"
   ]
  },
  {
   "cell_type": "markdown",
   "metadata": {
    "colab_type": "text",
    "id": "pQ7R1VcWeJq9"
   },
   "source": [
    "Ultimately, we need to end up with a single label for each day. The label takes on 3 values: {`down`, `stay`, `up`}, where `down` and `up` indicates the normalized price (more on this below) went down 1% or more and up 1% or more, respectively. `stay` indicates the stock remained within 1%.\n",
    "\n",
    "The steps are:\n",
    "\n",
    "1. Compare close price and open price\n",
    "2. Compute price features using analytics functions\n",
    "3. Compute normalized price change (%)\n",
    "4. Join with S&P 500 table\n",
    "5. Create labels (`up`, `down`, `stay`)\n"
   ]
  },
  {
   "cell_type": "markdown",
   "metadata": {
    "colab_type": "text",
    "id": "1FvPgI6UOoQO"
   },
   "source": [
    "<h3><font color=\"#4885ed\">Compare close price and open price</font> </h3>\n",
    "\n",
    "For each row, get the close price of yesterday and the open price of tomorrow using the [`LAG`](https://cloud.google.com/bigquery/docs/reference/legacy-sql#lag) function. We will determine tomorrow's close - today's close."
   ]
  },
  {
   "cell_type": "markdown",
   "metadata": {
    "colab_type": "text",
    "id": "vBJzyVtCTfur"
   },
   "source": [
    "#### Shift to get tomorrow's close price."
   ]
  },
  {
   "cell_type": "markdown",
   "metadata": {},
   "source": [
    "**Learning objective 1**"
   ]
  },
  {
   "cell_type": "code",
   "execution_count": 7,
   "metadata": {
    "colab": {},
    "colab_type": "code",
    "id": "IreuNo_pTfus"
   },
   "outputs": [],
   "source": [
    "%%with_globals print\n",
    "%%bigquery --project {PROJECT} df\n",
    "CREATE OR REPLACE TABLE `{PROJECT}.stock_market.price_history_delta`\n",
    "AS\n",
    "(\n",
    "WITH shifted_price AS\n",
    "  (\n",
    "  SELECT *,\n",
    "  (LAG(close, 1) OVER (PARTITION BY symbol order by Date DESC)) AS tomorrow_close\n",
    "  FROM `asl-ml-immersion.stock_src.price_history`\n",
    "  WHERE Close > 0\n",
    "  )\n",
    "SELECT a.*,\n",
    "(tomorrow_close - Close) AS tomo_close_m_close\n",
    "FROM shifted_price a\n",
    ")"
   ]
  },
  {
   "cell_type": "code",
   "execution_count": 8,
   "metadata": {
    "colab": {
     "base_uri": "https://localhost:8080/",
     "height": 1000
    },
    "colab_type": "code",
    "id": "adrk4vc1TdHM",
    "outputId": "6d6fbba1-9b94-4b96-fd49-6ceb39fa4ccb"
   },
   "outputs": [
    {
     "data": {
      "text/html": [
       "<div>\n",
       "<style scoped>\n",
       "    .dataframe tbody tr th:only-of-type {\n",
       "        vertical-align: middle;\n",
       "    }\n",
       "\n",
       "    .dataframe tbody tr th {\n",
       "        vertical-align: top;\n",
       "    }\n",
       "\n",
       "    .dataframe thead th {\n",
       "        text-align: right;\n",
       "    }\n",
       "</style>\n",
       "<table border=\"1\" class=\"dataframe\">\n",
       "  <thead>\n",
       "    <tr style=\"text-align: right;\">\n",
       "      <th></th>\n",
       "      <th>symbol</th>\n",
       "      <th>Date</th>\n",
       "      <th>Open</th>\n",
       "      <th>Close</th>\n",
       "      <th>tomorrow_close</th>\n",
       "      <th>tomo_close_m_close</th>\n",
       "    </tr>\n",
       "  </thead>\n",
       "  <tbody>\n",
       "    <tr>\n",
       "      <th>0</th>\n",
       "      <td>djia</td>\n",
       "      <td>1928-10-01</td>\n",
       "      <td>239.43</td>\n",
       "      <td>240.01</td>\n",
       "      <td>238.14</td>\n",
       "      <td>-1.87</td>\n",
       "    </tr>\n",
       "    <tr>\n",
       "      <th>1</th>\n",
       "      <td>djia</td>\n",
       "      <td>1928-10-02</td>\n",
       "      <td>240.01</td>\n",
       "      <td>238.14</td>\n",
       "      <td>237.75</td>\n",
       "      <td>-0.39</td>\n",
       "    </tr>\n",
       "    <tr>\n",
       "      <th>2</th>\n",
       "      <td>djia</td>\n",
       "      <td>1928-10-03</td>\n",
       "      <td>238.14</td>\n",
       "      <td>237.75</td>\n",
       "      <td>240.00</td>\n",
       "      <td>2.25</td>\n",
       "    </tr>\n",
       "    <tr>\n",
       "      <th>3</th>\n",
       "      <td>djia</td>\n",
       "      <td>1928-10-04</td>\n",
       "      <td>237.75</td>\n",
       "      <td>240.00</td>\n",
       "      <td>240.44</td>\n",
       "      <td>0.44</td>\n",
       "    </tr>\n",
       "    <tr>\n",
       "      <th>4</th>\n",
       "      <td>djia</td>\n",
       "      <td>1928-10-05</td>\n",
       "      <td>240.00</td>\n",
       "      <td>240.44</td>\n",
       "      <td>239.55</td>\n",
       "      <td>-0.89</td>\n",
       "    </tr>\n",
       "    <tr>\n",
       "      <th>...</th>\n",
       "      <td>...</td>\n",
       "      <td>...</td>\n",
       "      <td>...</td>\n",
       "      <td>...</td>\n",
       "      <td>...</td>\n",
       "      <td>...</td>\n",
       "    </tr>\n",
       "    <tr>\n",
       "      <th>95</th>\n",
       "      <td>djia</td>\n",
       "      <td>1929-02-19</td>\n",
       "      <td>300.74</td>\n",
       "      <td>301.10</td>\n",
       "      <td>305.99</td>\n",
       "      <td>4.89</td>\n",
       "    </tr>\n",
       "    <tr>\n",
       "      <th>96</th>\n",
       "      <td>djia</td>\n",
       "      <td>1929-02-20</td>\n",
       "      <td>301.10</td>\n",
       "      <td>305.99</td>\n",
       "      <td>310.06</td>\n",
       "      <td>4.07</td>\n",
       "    </tr>\n",
       "    <tr>\n",
       "      <th>97</th>\n",
       "      <td>djia</td>\n",
       "      <td>1929-02-21</td>\n",
       "      <td>305.99</td>\n",
       "      <td>310.06</td>\n",
       "      <td>311.24</td>\n",
       "      <td>1.18</td>\n",
       "    </tr>\n",
       "    <tr>\n",
       "      <th>98</th>\n",
       "      <td>djia</td>\n",
       "      <td>1929-02-25</td>\n",
       "      <td>310.06</td>\n",
       "      <td>311.24</td>\n",
       "      <td>311.25</td>\n",
       "      <td>0.01</td>\n",
       "    </tr>\n",
       "    <tr>\n",
       "      <th>99</th>\n",
       "      <td>djia</td>\n",
       "      <td>1929-02-26</td>\n",
       "      <td>311.24</td>\n",
       "      <td>311.25</td>\n",
       "      <td>314.53</td>\n",
       "      <td>3.28</td>\n",
       "    </tr>\n",
       "  </tbody>\n",
       "</table>\n",
       "<p>100 rows × 6 columns</p>\n",
       "</div>"
      ],
      "text/plain": [
       "   symbol        Date    Open   Close  tomorrow_close  tomo_close_m_close\n",
       "0    djia  1928-10-01  239.43  240.01          238.14               -1.87\n",
       "1    djia  1928-10-02  240.01  238.14          237.75               -0.39\n",
       "2    djia  1928-10-03  238.14  237.75          240.00                2.25\n",
       "3    djia  1928-10-04  237.75  240.00          240.44                0.44\n",
       "4    djia  1928-10-05  240.00  240.44          239.55               -0.89\n",
       "..    ...         ...     ...     ...             ...                 ...\n",
       "95   djia  1929-02-19  300.74  301.10          305.99                4.89\n",
       "96   djia  1929-02-20  301.10  305.99          310.06                4.07\n",
       "97   djia  1929-02-21  305.99  310.06          311.24                1.18\n",
       "98   djia  1929-02-25  310.06  311.24          311.25                0.01\n",
       "99   djia  1929-02-26  311.24  311.25          314.53                3.28\n",
       "\n",
       "[100 rows x 6 columns]"
      ]
     },
     "execution_count": 8,
     "metadata": {},
     "output_type": "execute_result"
    }
   ],
   "source": [
    "%%with_globals\n",
    "%%bigquery --project {PROJECT}\n",
    "SELECT *\n",
    "FROM stock_market.price_history_delta\n",
    "ORDER by Date\n",
    "LIMIT 100"
   ]
  },
  {
   "cell_type": "markdown",
   "metadata": {
    "colab_type": "text",
    "id": "8UnOKtvdTdHO"
   },
   "source": [
    "The stock market is going up on average."
   ]
  },
  {
   "cell_type": "markdown",
   "metadata": {},
   "source": [
    "**Learning objective 2**"
   ]
  },
  {
   "cell_type": "code",
   "execution_count": 9,
   "metadata": {
    "colab": {
     "base_uri": "https://localhost:8080/",
     "height": 77
    },
    "colab_type": "code",
    "id": "XY2MetOeTfux",
    "outputId": "9310bac5-2d0e-468b-fa8e-a981f09b4b1c"
   },
   "outputs": [
    {
     "data": {
      "text/html": [
       "<div>\n",
       "<style scoped>\n",
       "    .dataframe tbody tr th:only-of-type {\n",
       "        vertical-align: middle;\n",
       "    }\n",
       "\n",
       "    .dataframe tbody tr th {\n",
       "        vertical-align: top;\n",
       "    }\n",
       "\n",
       "    .dataframe thead th {\n",
       "        text-align: right;\n",
       "    }\n",
       "</style>\n",
       "<table border=\"1\" class=\"dataframe\">\n",
       "  <thead>\n",
       "    <tr style=\"text-align: right;\">\n",
       "      <th></th>\n",
       "      <th>avg_close</th>\n",
       "      <th>avg_tomo_close</th>\n",
       "      <th>avg_change</th>\n",
       "      <th>cnt</th>\n",
       "    </tr>\n",
       "  </thead>\n",
       "  <tbody>\n",
       "    <tr>\n",
       "      <th>0</th>\n",
       "      <td>44.74092</td>\n",
       "      <td>44.745485</td>\n",
       "      <td>0.004565</td>\n",
       "      <td>7382920</td>\n",
       "    </tr>\n",
       "  </tbody>\n",
       "</table>\n",
       "</div>"
      ],
      "text/plain": [
       "   avg_close  avg_tomo_close  avg_change      cnt\n",
       "0   44.74092       44.745485    0.004565  7382920"
      ]
     },
     "execution_count": 9,
     "metadata": {},
     "output_type": "execute_result"
    }
   ],
   "source": [
    "%%with_globals print\n",
    "%%bigquery --project {PROJECT}\n",
    "SELECT\n",
    "AVG(close) AS avg_close,\n",
    "AVG(tomorrow_close) AS avg_tomo_close,\n",
    "AVG(tomorrow_close) - AVG(close) AS avg_change,\n",
    "COUNT(*) cnt\n",
    "FROM\n",
    "stock_market.price_history_delta"
   ]
  },
  {
   "cell_type": "markdown",
   "metadata": {
    "colab_type": "text",
    "id": "efb9PCBdTfu0"
   },
   "source": [
    "### Add time series features"
   ]
  },
  {
   "cell_type": "markdown",
   "metadata": {
    "colab_type": "text",
    "id": "S_vRjdyhOqZi"
   },
   "source": [
    "<h3><font color=\"#4885ed\">Compute price features using analytics functions</font> </h3>\n",
    "\n",
    "In addition, we will also build time-series features using the min, max, mean, and std (can you think of any over functions to use?). To do this, let's use [analytic functions]() in BigQuery (also known as window functions). \n",
    "```\n",
    "An analytic function is a function that computes aggregate values over a group of rows. Unlike aggregate functions, which return a single aggregate value for a group of rows, analytic functions return a single value for each row by computing the function over a group of input rows.\n",
    "```\n",
    " Using the `AVG` analytic function, we can compute the average close price of a given symbol over the past week (5 business days):\n",
    "```python\n",
    " (AVG(close) OVER (PARTITION BY symbol\n",
    "  ORDER BY Date\n",
    "  ROWS BETWEEN 5 PRECEDING AND 1 PRECEDING)) / close\n",
    "  AS close_avg_prior_5_days\n",
    "```"
   ]
  },
  {
   "cell_type": "markdown",
   "metadata": {},
   "source": [
    "**Learning objective 1**"
   ]
  },
  {
   "cell_type": "code",
   "execution_count": 10,
   "metadata": {
    "colab": {
     "base_uri": "https://localhost:8080/",
     "height": 840
    },
    "colab_type": "code",
    "id": "pBi_CruzTfu0",
    "outputId": "7a7c57f8-cb57-4c81-9786-c785c9c4c518"
   },
   "outputs": [
    {
     "name": "stdout",
     "output_type": "stream",
     "text": [
      "\n",
      "    (MIN(close) OVER (PARTITION BY symbol\n",
      "                      ORDER BY Date\n",
      "                      ROWS BETWEEN 5 PRECEDING AND 1 PRECEDING))/close\n",
      "                      AS close_MIN_prior_5_days,\n",
      "    (MIN(close) OVER (PARTITION BY symbol\n",
      "                      ORDER BY Date\n",
      "                      ROWS BETWEEN 20 PRECEDING AND 1 PRECEDING))/close\n",
      "                      AS close_MIN_prior_20_days,\n",
      "    (MIN(close) OVER (PARTITION BY symbol\n",
      "                      ORDER BY Date\n",
      "                      ROWS BETWEEN 260 PRECEDING AND 1 PRECEDING))/close\n",
      "                      AS close_MIN_prior_260_days,\n",
      "    (MAX(close) OVER (PARTITION BY symbol\n",
      "                      ORDER BY Date\n",
      "                      ROWS BETWEEN 5 PRECEDING AND 1 PRECEDING))/close\n",
      "                      AS close_MAX_prior_5_days,\n",
      "    (MAX(close) OVER (PARTITION BY symbol\n",
      "                      ORDER BY Date\n",
      "                      ROWS BETWEEN 20 PRECEDING AND 1 PRECEDING))/close\n",
      "                      AS close_MAX_prior_20_days,\n",
      " \n"
     ]
    }
   ],
   "source": [
    "def get_window_fxn(agg_fxn, n_days):\n",
    "    \"\"\"Generate a time-series feature. \n",
    "    \n",
    "    E.g., Compute the average of the price over the past 5 days.\"\"\"\n",
    "    SCALE_VALUE = 'close'\n",
    "    sql = '''\n",
    "    ({agg_fxn}(close) OVER (PARTITION BY symbol\n",
    "                      ORDER BY Date\n",
    "                      ROWS BETWEEN {n_days} PRECEDING AND 1 PRECEDING))/{scale}\n",
    "                      AS close_{agg_fxn}_prior_{n_days}_days'''.format(\n",
    "                          agg_fxn=agg_fxn, n_days=n_days, scale=SCALE_VALUE)\n",
    "    return sql\n",
    "WEEK = 5\n",
    "MONTH = 20\n",
    "YEAR = 52*5\n",
    "agg_funcs = ('MIN', 'MAX', 'AVG', 'STDDEV')\n",
    "lookbacks = (WEEK, MONTH, YEAR)\n",
    "sqls = []\n",
    "for fxn in agg_funcs:\n",
    "    for lookback in lookbacks:\n",
    "        sqls.append(get_window_fxn(fxn, lookback))\n",
    "time_series_features_sql = ','.join(sqls)  # SQL string.\n",
    "\n",
    "def preview_query():\n",
    "    print(time_series_features_sql[0:1000])\n",
    "preview_query()"
   ]
  },
  {
   "cell_type": "code",
   "execution_count": 11,
   "metadata": {
    "colab": {
     "base_uri": "https://localhost:8080/",
     "height": 31
    },
    "colab_type": "code",
    "id": "4WX4VFSvTfu2",
    "outputId": "41cdcb4d-ccbd-4e12-9c6c-88de2d4538f5"
   },
   "outputs": [
    {
     "data": {
      "text/html": [
       "<div>\n",
       "<style scoped>\n",
       "    .dataframe tbody tr th:only-of-type {\n",
       "        vertical-align: middle;\n",
       "    }\n",
       "\n",
       "    .dataframe tbody tr th {\n",
       "        vertical-align: top;\n",
       "    }\n",
       "\n",
       "    .dataframe thead th {\n",
       "        text-align: right;\n",
       "    }\n",
       "</style>\n",
       "<table border=\"1\" class=\"dataframe\">\n",
       "  <thead>\n",
       "    <tr style=\"text-align: right;\">\n",
       "      <th></th>\n",
       "    </tr>\n",
       "  </thead>\n",
       "  <tbody>\n",
       "  </tbody>\n",
       "</table>\n",
       "</div>"
      ],
      "text/plain": [
       "Empty DataFrame\n",
       "Columns: []\n",
       "Index: []"
      ]
     },
     "execution_count": 11,
     "metadata": {},
     "output_type": "execute_result"
    }
   ],
   "source": [
    "%%with_globals print\n",
    "%%bigquery --project {PROJECT}\n",
    "CREATE OR REPLACE TABLE stock_market.price_features_delta\n",
    "AS\n",
    "SELECT * \n",
    "FROM \n",
    "    (SELECT *,\n",
    "    {time_series_features_sql},\n",
    "    -- Also get the raw time-series values; will be useful for the RNN model.\n",
    "    (ARRAY_AGG(close) OVER (PARTITION BY symbol\n",
    "                    ORDER BY Date\n",
    "                    ROWS BETWEEN 260 PRECEDING AND 1 PRECEDING))\n",
    "                    AS close_values_prior_260,\n",
    "    ROW_NUMBER() OVER (PARTITION BY symbol ORDER BY Date) AS days_on_market\n",
    "    FROM stock_market.price_history_delta)\n",
    "WHERE days_on_market > {YEAR}"
   ]
  },
  {
   "cell_type": "code",
   "execution_count": 12,
   "metadata": {},
   "outputs": [
    {
     "data": {
      "text/html": [
       "<div>\n",
       "<style scoped>\n",
       "    .dataframe tbody tr th:only-of-type {\n",
       "        vertical-align: middle;\n",
       "    }\n",
       "\n",
       "    .dataframe tbody tr th {\n",
       "        vertical-align: top;\n",
       "    }\n",
       "\n",
       "    .dataframe thead th {\n",
       "        text-align: right;\n",
       "    }\n",
       "</style>\n",
       "<table border=\"1\" class=\"dataframe\">\n",
       "  <thead>\n",
       "    <tr style=\"text-align: right;\">\n",
       "      <th></th>\n",
       "      <th>symbol</th>\n",
       "      <th>Date</th>\n",
       "      <th>Open</th>\n",
       "      <th>Close</th>\n",
       "      <th>tomorrow_close</th>\n",
       "      <th>tomo_close_m_close</th>\n",
       "      <th>close_MIN_prior_5_days</th>\n",
       "      <th>close_MIN_prior_20_days</th>\n",
       "      <th>close_MIN_prior_260_days</th>\n",
       "      <th>close_MAX_prior_5_days</th>\n",
       "      <th>close_MAX_prior_20_days</th>\n",
       "      <th>close_MAX_prior_260_days</th>\n",
       "      <th>close_AVG_prior_5_days</th>\n",
       "      <th>close_AVG_prior_20_days</th>\n",
       "      <th>close_AVG_prior_260_days</th>\n",
       "      <th>close_STDDEV_prior_5_days</th>\n",
       "      <th>close_STDDEV_prior_20_days</th>\n",
       "      <th>close_STDDEV_prior_260_days</th>\n",
       "      <th>close_values_prior_260</th>\n",
       "      <th>days_on_market</th>\n",
       "    </tr>\n",
       "  </thead>\n",
       "  <tbody>\n",
       "    <tr>\n",
       "      <th>0</th>\n",
       "      <td>A</td>\n",
       "      <td>2000-11-29</td>\n",
       "      <td>51.63</td>\n",
       "      <td>53.88</td>\n",
       "      <td>52.19</td>\n",
       "      <td>-1.69</td>\n",
       "      <td>0.890869</td>\n",
       "      <td>0.729584</td>\n",
       "      <td>0.720304</td>\n",
       "      <td>0.945434</td>\n",
       "      <td>0.945434</td>\n",
       "      <td>2.951002</td>\n",
       "      <td>0.923385</td>\n",
       "      <td>0.849555</td>\n",
       "      <td>1.271333</td>\n",
       "      <td>0.024864</td>\n",
       "      <td>0.063170</td>\n",
       "      <td>0.458284</td>\n",
       "      <td>[44.0, 40.38, 44.0, 40.0, 41.06, 41.19, 42.13,...</td>\n",
       "      <td>261</td>\n",
       "    </tr>\n",
       "    <tr>\n",
       "      <th>1</th>\n",
       "      <td>A</td>\n",
       "      <td>2000-11-30</td>\n",
       "      <td>53.00</td>\n",
       "      <td>52.19</td>\n",
       "      <td>53.00</td>\n",
       "      <td>0.81</td>\n",
       "      <td>0.919716</td>\n",
       "      <td>0.753209</td>\n",
       "      <td>0.743629</td>\n",
       "      <td>1.032382</td>\n",
       "      <td>1.032382</td>\n",
       "      <td>3.046561</td>\n",
       "      <td>0.973405</td>\n",
       "      <td>0.884317</td>\n",
       "      <td>1.313229</td>\n",
       "      <td>0.040018</td>\n",
       "      <td>0.073904</td>\n",
       "      <td>0.472545</td>\n",
       "      <td>[40.38, 44.0, 40.0, 41.06, 41.19, 42.13, 42.19...</td>\n",
       "      <td>262</td>\n",
       "    </tr>\n",
       "    <tr>\n",
       "      <th>2</th>\n",
       "      <td>A</td>\n",
       "      <td>2000-12-01</td>\n",
       "      <td>52.94</td>\n",
       "      <td>53.00</td>\n",
       "      <td>51.00</td>\n",
       "      <td>-2.00</td>\n",
       "      <td>0.952830</td>\n",
       "      <td>0.741698</td>\n",
       "      <td>0.732264</td>\n",
       "      <td>1.016604</td>\n",
       "      <td>1.016604</td>\n",
       "      <td>3.000000</td>\n",
       "      <td>0.974340</td>\n",
       "      <td>0.875877</td>\n",
       "      <td>1.294016</td>\n",
       "      <td>0.026704</td>\n",
       "      <td>0.077097</td>\n",
       "      <td>0.464545</td>\n",
       "      <td>[44.0, 40.0, 41.06, 41.19, 42.13, 42.19, 42.94...</td>\n",
       "      <td>263</td>\n",
       "    </tr>\n",
       "    <tr>\n",
       "      <th>3</th>\n",
       "      <td>A</td>\n",
       "      <td>2000-12-04</td>\n",
       "      <td>52.06</td>\n",
       "      <td>51.00</td>\n",
       "      <td>55.06</td>\n",
       "      <td>4.06</td>\n",
       "      <td>0.990196</td>\n",
       "      <td>0.770784</td>\n",
       "      <td>0.760980</td>\n",
       "      <td>1.056471</td>\n",
       "      <td>1.056471</td>\n",
       "      <td>3.117647</td>\n",
       "      <td>1.020627</td>\n",
       "      <td>0.915000</td>\n",
       "      <td>1.345440</td>\n",
       "      <td>0.028622</td>\n",
       "      <td>0.084923</td>\n",
       "      <td>0.482206</td>\n",
       "      <td>[40.0, 41.06, 41.19, 42.13, 42.19, 42.94, 44.1...</td>\n",
       "      <td>264</td>\n",
       "    </tr>\n",
       "    <tr>\n",
       "      <th>4</th>\n",
       "      <td>A</td>\n",
       "      <td>2000-12-05</td>\n",
       "      <td>52.75</td>\n",
       "      <td>55.06</td>\n",
       "      <td>52.00</td>\n",
       "      <td>-3.06</td>\n",
       "      <td>0.920632</td>\n",
       "      <td>0.713948</td>\n",
       "      <td>0.704867</td>\n",
       "      <td>0.978569</td>\n",
       "      <td>0.978569</td>\n",
       "      <td>2.887759</td>\n",
       "      <td>0.947185</td>\n",
       "      <td>0.851335</td>\n",
       "      <td>1.246999</td>\n",
       "      <td>0.024318</td>\n",
       "      <td>0.080611</td>\n",
       "      <td>0.445923</td>\n",
       "      <td>[41.06, 41.19, 42.13, 42.19, 42.94, 44.13, 44....</td>\n",
       "      <td>265</td>\n",
       "    </tr>\n",
       "    <tr>\n",
       "      <th>5</th>\n",
       "      <td>A</td>\n",
       "      <td>2000-12-06</td>\n",
       "      <td>55.25</td>\n",
       "      <td>52.00</td>\n",
       "      <td>54.00</td>\n",
       "      <td>2.00</td>\n",
       "      <td>0.980769</td>\n",
       "      <td>0.755962</td>\n",
       "      <td>0.746346</td>\n",
       "      <td>1.058846</td>\n",
       "      <td>1.058846</td>\n",
       "      <td>3.057692</td>\n",
       "      <td>1.019731</td>\n",
       "      <td>0.909779</td>\n",
       "      <td>1.321416</td>\n",
       "      <td>0.029902</td>\n",
       "      <td>0.092258</td>\n",
       "      <td>0.471289</td>\n",
       "      <td>[41.19, 42.13, 42.19, 42.94, 44.13, 44.5, 45.7...</td>\n",
       "      <td>266</td>\n",
       "    </tr>\n",
       "    <tr>\n",
       "      <th>6</th>\n",
       "      <td>A</td>\n",
       "      <td>2000-12-07</td>\n",
       "      <td>52.50</td>\n",
       "      <td>54.00</td>\n",
       "      <td>59.44</td>\n",
       "      <td>5.44</td>\n",
       "      <td>0.944444</td>\n",
       "      <td>0.727963</td>\n",
       "      <td>0.718704</td>\n",
       "      <td>1.019630</td>\n",
       "      <td>1.019630</td>\n",
       "      <td>2.944444</td>\n",
       "      <td>0.975000</td>\n",
       "      <td>0.881694</td>\n",
       "      <td>1.273244</td>\n",
       "      <td>0.028218</td>\n",
       "      <td>0.090681</td>\n",
       "      <td>0.453136</td>\n",
       "      <td>[42.13, 42.19, 42.94, 44.13, 44.5, 45.75, 45.2...</td>\n",
       "      <td>267</td>\n",
       "    </tr>\n",
       "    <tr>\n",
       "      <th>7</th>\n",
       "      <td>A</td>\n",
       "      <td>2000-12-08</td>\n",
       "      <td>56.38</td>\n",
       "      <td>59.44</td>\n",
       "      <td>57.75</td>\n",
       "      <td>-1.69</td>\n",
       "      <td>0.858008</td>\n",
       "      <td>0.661339</td>\n",
       "      <td>0.652927</td>\n",
       "      <td>0.926312</td>\n",
       "      <td>0.926312</td>\n",
       "      <td>2.674966</td>\n",
       "      <td>0.891857</td>\n",
       "      <td>0.809093</td>\n",
       "      <td>1.157484</td>\n",
       "      <td>0.026922</td>\n",
       "      <td>0.084677</td>\n",
       "      <td>0.411011</td>\n",
       "      <td>[42.19, 42.94, 44.13, 44.5, 45.75, 45.25, 45.1...</td>\n",
       "      <td>268</td>\n",
       "    </tr>\n",
       "    <tr>\n",
       "      <th>8</th>\n",
       "      <td>A</td>\n",
       "      <td>2000-12-11</td>\n",
       "      <td>58.63</td>\n",
       "      <td>57.75</td>\n",
       "      <td>57.25</td>\n",
       "      <td>-0.50</td>\n",
       "      <td>0.883117</td>\n",
       "      <td>0.680693</td>\n",
       "      <td>0.672035</td>\n",
       "      <td>1.029264</td>\n",
       "      <td>1.029264</td>\n",
       "      <td>2.753247</td>\n",
       "      <td>0.940260</td>\n",
       "      <td>0.846519</td>\n",
       "      <td>1.192505</td>\n",
       "      <td>0.056950</td>\n",
       "      <td>0.095420</td>\n",
       "      <td>0.422187</td>\n",
       "      <td>[42.94, 44.13, 44.5, 45.75, 45.25, 45.19, 45.8...</td>\n",
       "      <td>269</td>\n",
       "    </tr>\n",
       "    <tr>\n",
       "      <th>9</th>\n",
       "      <td>A</td>\n",
       "      <td>2000-12-12</td>\n",
       "      <td>58.38</td>\n",
       "      <td>57.25</td>\n",
       "      <td>58.19</td>\n",
       "      <td>0.94</td>\n",
       "      <td>0.908297</td>\n",
       "      <td>0.686638</td>\n",
       "      <td>0.677904</td>\n",
       "      <td>1.038253</td>\n",
       "      <td>1.038253</td>\n",
       "      <td>2.777293</td>\n",
       "      <td>0.972052</td>\n",
       "      <td>0.869904</td>\n",
       "      <td>1.203915</td>\n",
       "      <td>0.051792</td>\n",
       "      <td>0.093937</td>\n",
       "      <td>0.425114</td>\n",
       "      <td>[44.13, 44.5, 45.75, 45.25, 45.19, 45.81, 44.7...</td>\n",
       "      <td>270</td>\n",
       "    </tr>\n",
       "  </tbody>\n",
       "</table>\n",
       "</div>"
      ],
      "text/plain": [
       "  symbol        Date   Open  Close  tomorrow_close  tomo_close_m_close  \\\n",
       "0      A  2000-11-29  51.63  53.88           52.19               -1.69   \n",
       "1      A  2000-11-30  53.00  52.19           53.00                0.81   \n",
       "2      A  2000-12-01  52.94  53.00           51.00               -2.00   \n",
       "3      A  2000-12-04  52.06  51.00           55.06                4.06   \n",
       "4      A  2000-12-05  52.75  55.06           52.00               -3.06   \n",
       "5      A  2000-12-06  55.25  52.00           54.00                2.00   \n",
       "6      A  2000-12-07  52.50  54.00           59.44                5.44   \n",
       "7      A  2000-12-08  56.38  59.44           57.75               -1.69   \n",
       "8      A  2000-12-11  58.63  57.75           57.25               -0.50   \n",
       "9      A  2000-12-12  58.38  57.25           58.19                0.94   \n",
       "\n",
       "   close_MIN_prior_5_days  close_MIN_prior_20_days  close_MIN_prior_260_days  \\\n",
       "0                0.890869                 0.729584                  0.720304   \n",
       "1                0.919716                 0.753209                  0.743629   \n",
       "2                0.952830                 0.741698                  0.732264   \n",
       "3                0.990196                 0.770784                  0.760980   \n",
       "4                0.920632                 0.713948                  0.704867   \n",
       "5                0.980769                 0.755962                  0.746346   \n",
       "6                0.944444                 0.727963                  0.718704   \n",
       "7                0.858008                 0.661339                  0.652927   \n",
       "8                0.883117                 0.680693                  0.672035   \n",
       "9                0.908297                 0.686638                  0.677904   \n",
       "\n",
       "   close_MAX_prior_5_days  close_MAX_prior_20_days  close_MAX_prior_260_days  \\\n",
       "0                0.945434                 0.945434                  2.951002   \n",
       "1                1.032382                 1.032382                  3.046561   \n",
       "2                1.016604                 1.016604                  3.000000   \n",
       "3                1.056471                 1.056471                  3.117647   \n",
       "4                0.978569                 0.978569                  2.887759   \n",
       "5                1.058846                 1.058846                  3.057692   \n",
       "6                1.019630                 1.019630                  2.944444   \n",
       "7                0.926312                 0.926312                  2.674966   \n",
       "8                1.029264                 1.029264                  2.753247   \n",
       "9                1.038253                 1.038253                  2.777293   \n",
       "\n",
       "   close_AVG_prior_5_days  close_AVG_prior_20_days  close_AVG_prior_260_days  \\\n",
       "0                0.923385                 0.849555                  1.271333   \n",
       "1                0.973405                 0.884317                  1.313229   \n",
       "2                0.974340                 0.875877                  1.294016   \n",
       "3                1.020627                 0.915000                  1.345440   \n",
       "4                0.947185                 0.851335                  1.246999   \n",
       "5                1.019731                 0.909779                  1.321416   \n",
       "6                0.975000                 0.881694                  1.273244   \n",
       "7                0.891857                 0.809093                  1.157484   \n",
       "8                0.940260                 0.846519                  1.192505   \n",
       "9                0.972052                 0.869904                  1.203915   \n",
       "\n",
       "   close_STDDEV_prior_5_days  close_STDDEV_prior_20_days  \\\n",
       "0                   0.024864                    0.063170   \n",
       "1                   0.040018                    0.073904   \n",
       "2                   0.026704                    0.077097   \n",
       "3                   0.028622                    0.084923   \n",
       "4                   0.024318                    0.080611   \n",
       "5                   0.029902                    0.092258   \n",
       "6                   0.028218                    0.090681   \n",
       "7                   0.026922                    0.084677   \n",
       "8                   0.056950                    0.095420   \n",
       "9                   0.051792                    0.093937   \n",
       "\n",
       "   close_STDDEV_prior_260_days  \\\n",
       "0                     0.458284   \n",
       "1                     0.472545   \n",
       "2                     0.464545   \n",
       "3                     0.482206   \n",
       "4                     0.445923   \n",
       "5                     0.471289   \n",
       "6                     0.453136   \n",
       "7                     0.411011   \n",
       "8                     0.422187   \n",
       "9                     0.425114   \n",
       "\n",
       "                              close_values_prior_260  days_on_market  \n",
       "0  [44.0, 40.38, 44.0, 40.0, 41.06, 41.19, 42.13,...             261  \n",
       "1  [40.38, 44.0, 40.0, 41.06, 41.19, 42.13, 42.19...             262  \n",
       "2  [44.0, 40.0, 41.06, 41.19, 42.13, 42.19, 42.94...             263  \n",
       "3  [40.0, 41.06, 41.19, 42.13, 42.19, 42.94, 44.1...             264  \n",
       "4  [41.06, 41.19, 42.13, 42.19, 42.94, 44.13, 44....             265  \n",
       "5  [41.19, 42.13, 42.19, 42.94, 44.13, 44.5, 45.7...             266  \n",
       "6  [42.13, 42.19, 42.94, 44.13, 44.5, 45.75, 45.2...             267  \n",
       "7  [42.19, 42.94, 44.13, 44.5, 45.75, 45.25, 45.1...             268  \n",
       "8  [42.94, 44.13, 44.5, 45.75, 45.25, 45.19, 45.8...             269  \n",
       "9  [44.13, 44.5, 45.75, 45.25, 45.19, 45.81, 44.7...             270  "
      ]
     },
     "execution_count": 12,
     "metadata": {},
     "output_type": "execute_result"
    }
   ],
   "source": [
    "%%bigquery --project {PROJECT}\n",
    "SELECT *\n",
    "FROM stock_market.price_features_delta \n",
    "ORDER BY symbol, Date\n",
    "LIMIT 10"
   ]
  },
  {
   "cell_type": "markdown",
   "metadata": {
    "colab_type": "text",
    "id": "EjGaQYuRTfu6"
   },
   "source": [
    "#### Compute percentage change, then self join with prices from S&P index. \n",
    "\n",
    "We will also compute price change of S&P index, GSPC. We do this so we can compute the normalized percentage change."
   ]
  },
  {
   "cell_type": "markdown",
   "metadata": {
    "colab_type": "text",
    "id": "zL55y-YnOvOu"
   },
   "source": [
    "<h3><font color=\"#4885ed\">Compute normalized price change (%)</font> </h3>\n",
    "\n",
    "Before we can create our labels we need to normalize the price change using the S&P 500 index. The normalization using the S&P index fund helps ensure that the future price of a stock is not due to larger market effects. Normalization helps us isolate the factors contributing to the performance of a stock_market.\n",
    "\n",
    " Let's use the normalization scheme from by subtracting the scaled difference in the S&P 500 index during the same time period.\n",
    " \n",
    " In Python: \n",
    "```python\n",
    "# Example calculation.\n",
    "scaled_change = (50.59 - 50.69) / 50.69\n",
    "scaled_s_p = (939.38 - 930.09) / 930.09\n",
    "normalized_change = scaled_change - scaled_s_p\n",
    "assert normalized_change == ~1.2%\n",
    "```"
   ]
  },
  {
   "cell_type": "code",
   "execution_count": 13,
   "metadata": {
    "colab": {
     "base_uri": "https://localhost:8080/",
     "height": 34
    },
    "colab_type": "code",
    "id": "0uz1Qo0STfu7",
    "outputId": "67e1be37-8729-47d5-fde9-9c4f87da82b5"
   },
   "outputs": [
    {
     "name": "stdout",
     "output_type": "stream",
     "text": [
      "\n",
      "scaled change: -0.002\n",
      "scaled_s_p: 0.010\n",
      "normalized_change: -0.012\n",
      "\n"
     ]
    }
   ],
   "source": [
    "scaled_change = (50.59 - 50.69) / 50.69\n",
    "scaled_s_p = (939.38 - 930.09) / 930.09\n",
    "normalized_change = scaled_change - scaled_s_p\n",
    "print('''\n",
    "scaled change: {:2.3f}\n",
    "scaled_s_p: {:2.3f}\n",
    "normalized_change: {:2.3f}\n",
    "'''.format(scaled_change, scaled_s_p, normalized_change))"
   ]
  },
  {
   "cell_type": "markdown",
   "metadata": {
    "colab_type": "text",
    "id": "HY9AJAN3Tfu-"
   },
   "source": [
    "### Compute normalized price change (shown above)."
   ]
  },
  {
   "cell_type": "markdown",
   "metadata": {
    "colab_type": "text",
    "id": "m6OhYVoITdHd"
   },
   "source": [
    "Let's join scaled price change (tomorrow_close / close) with the [gspc](https://en.wikipedia.org/wiki/S%26P_500_Index) symbol (symbol for the S&P index). Then we can normalize using the scheme described above."
   ]
  },
  {
   "cell_type": "markdown",
   "metadata": {},
   "source": [
    "**Learning objective 3**"
   ]
  },
  {
   "cell_type": "code",
   "execution_count": 14,
   "metadata": {
    "colab": {},
    "colab_type": "code",
    "id": "_W71_cb4TdHe"
   },
   "outputs": [],
   "source": [
    "snp500_index = 'gspc'  "
   ]
  },
  {
   "cell_type": "code",
   "execution_count": 15,
   "metadata": {
    "colab": {
     "base_uri": "https://localhost:8080/",
     "height": 31
    },
    "colab_type": "code",
    "id": "b1PNvxhuTfu_",
    "outputId": "c9b87b11-cff2-452f-8c29-147290f95e1f"
   },
   "outputs": [
    {
     "data": {
      "text/html": [
       "<div>\n",
       "<style scoped>\n",
       "    .dataframe tbody tr th:only-of-type {\n",
       "        vertical-align: middle;\n",
       "    }\n",
       "\n",
       "    .dataframe tbody tr th {\n",
       "        vertical-align: top;\n",
       "    }\n",
       "\n",
       "    .dataframe thead th {\n",
       "        text-align: right;\n",
       "    }\n",
       "</style>\n",
       "<table border=\"1\" class=\"dataframe\">\n",
       "  <thead>\n",
       "    <tr style=\"text-align: right;\">\n",
       "      <th></th>\n",
       "    </tr>\n",
       "  </thead>\n",
       "  <tbody>\n",
       "  </tbody>\n",
       "</table>\n",
       "</div>"
      ],
      "text/plain": [
       "Empty DataFrame\n",
       "Columns: []\n",
       "Index: []"
      ]
     },
     "execution_count": 15,
     "metadata": {},
     "output_type": "execute_result"
    }
   ],
   "source": [
    "%%with_globals print\n",
    "%%bigquery --project {PROJECT}\n",
    "CREATE OR REPLACE TABLE stock_market.price_features_norm_per_change\n",
    "AS\n",
    "WITH \n",
    "all_percent_changes AS\n",
    "    (\n",
    "    SELECT *, (tomo_close_m_close / Close) AS scaled_change\n",
    "    FROM `{PROJECT}.stock_market.price_features_delta`\n",
    "    ),\n",
    "s_p_changes AS\n",
    "    (SELECT\n",
    "     scaled_change AS s_p_scaled_change,\n",
    "     date\n",
    "     FROM all_percent_changes\n",
    "     WHERE symbol=\"{snp500_index}\")\n",
    "\n",
    "SELECT all_percent_changes.*,\n",
    "       s_p_scaled_change,\n",
    "       (scaled_change - s_p_scaled_change) \n",
    "           AS normalized_change          \n",
    "FROM \n",
    "    all_percent_changes LEFT JOIN s_p_changes\n",
    "    --# Add S&P change to all rows\n",
    "    ON all_percent_changes.date = s_p_changes.date"
   ]
  },
  {
   "cell_type": "markdown",
   "metadata": {
    "colab_type": "text",
    "id": "5lcs6_BtTfvB"
   },
   "source": [
    "#### Verify results"
   ]
  },
  {
   "cell_type": "code",
   "execution_count": 16,
   "metadata": {
    "colab": {},
    "colab_type": "code",
    "id": "0G1SbI8kTdHl"
   },
   "outputs": [],
   "source": [
    "%%with_globals print\n",
    "%%bigquery --project {PROJECT} df\n",
    "SELECT *\n",
    "FROM stock_market.price_features_norm_per_change\n",
    "LIMIT 10"
   ]
  },
  {
   "cell_type": "code",
   "execution_count": 17,
   "metadata": {
    "colab": {
     "base_uri": "https://localhost:8080/",
     "height": 299
    },
    "colab_type": "code",
    "id": "BeNiVymgTdHn",
    "outputId": "f7534321-713c-483d-ba4f-d096c59296fa"
   },
   "outputs": [
    {
     "data": {
      "text/html": [
       "<div>\n",
       "<style scoped>\n",
       "    .dataframe tbody tr th:only-of-type {\n",
       "        vertical-align: middle;\n",
       "    }\n",
       "\n",
       "    .dataframe tbody tr th {\n",
       "        vertical-align: top;\n",
       "    }\n",
       "\n",
       "    .dataframe thead th {\n",
       "        text-align: right;\n",
       "    }\n",
       "</style>\n",
       "<table border=\"1\" class=\"dataframe\">\n",
       "  <thead>\n",
       "    <tr style=\"text-align: right;\">\n",
       "      <th></th>\n",
       "      <th>symbol</th>\n",
       "      <th>Date</th>\n",
       "      <th>Open</th>\n",
       "      <th>Close</th>\n",
       "      <th>tomorrow_close</th>\n",
       "      <th>tomo_close_m_close</th>\n",
       "      <th>close_MIN_prior_5_days</th>\n",
       "      <th>close_MIN_prior_20_days</th>\n",
       "      <th>close_MIN_prior_260_days</th>\n",
       "      <th>close_MAX_prior_5_days</th>\n",
       "      <th>...</th>\n",
       "      <th>close_AVG_prior_20_days</th>\n",
       "      <th>close_AVG_prior_260_days</th>\n",
       "      <th>close_STDDEV_prior_5_days</th>\n",
       "      <th>close_STDDEV_prior_20_days</th>\n",
       "      <th>close_STDDEV_prior_260_days</th>\n",
       "      <th>close_values_prior_260</th>\n",
       "      <th>days_on_market</th>\n",
       "      <th>scaled_change</th>\n",
       "      <th>s_p_scaled_change</th>\n",
       "      <th>normalized_change</th>\n",
       "    </tr>\n",
       "  </thead>\n",
       "  <tbody>\n",
       "    <tr>\n",
       "      <th>0</th>\n",
       "      <td>APC</td>\n",
       "      <td>2009-08-07</td>\n",
       "      <td>49.81</td>\n",
       "      <td>49.39</td>\n",
       "      <td>50.74</td>\n",
       "      <td>1.35</td>\n",
       "      <td>0.975906</td>\n",
       "      <td>0.860296</td>\n",
       "      <td>0.550111</td>\n",
       "      <td>1.021057</td>\n",
       "      <td>...</td>\n",
       "      <td>0.954626</td>\n",
       "      <td>0.876211</td>\n",
       "      <td>0.017040</td>\n",
       "      <td>0.045157</td>\n",
       "      <td>0.161252</td>\n",
       "      <td>[59.1, 57.15, 59.86, 57.91, 58.71, 55.12, 54.0...</td>\n",
       "      <td>5774</td>\n",
       "      <td>0.027333</td>\n",
       "      <td>-0.003345</td>\n",
       "      <td>0.030678</td>\n",
       "    </tr>\n",
       "    <tr>\n",
       "      <th>1</th>\n",
       "      <td>ADSK</td>\n",
       "      <td>1990-05-23</td>\n",
       "      <td>46.69</td>\n",
       "      <td>47.85</td>\n",
       "      <td>48.54</td>\n",
       "      <td>0.69</td>\n",
       "      <td>0.963845</td>\n",
       "      <td>0.830930</td>\n",
       "      <td>0.630930</td>\n",
       "      <td>1.009613</td>\n",
       "      <td>...</td>\n",
       "      <td>0.912571</td>\n",
       "      <td>0.778739</td>\n",
       "      <td>0.018253</td>\n",
       "      <td>0.053557</td>\n",
       "      <td>0.080469</td>\n",
       "      <td>[33.56, 34.7, 34.24, 34.47, 35.39, 35.97, 35.1...</td>\n",
       "      <td>1239</td>\n",
       "      <td>0.014420</td>\n",
       "      <td>-0.002449</td>\n",
       "      <td>0.016869</td>\n",
       "    </tr>\n",
       "    <tr>\n",
       "      <th>2</th>\n",
       "      <td>BMS</td>\n",
       "      <td>2007-05-15</td>\n",
       "      <td>33.24</td>\n",
       "      <td>33.34</td>\n",
       "      <td>33.30</td>\n",
       "      <td>-0.04</td>\n",
       "      <td>0.993101</td>\n",
       "      <td>0.993101</td>\n",
       "      <td>0.863527</td>\n",
       "      <td>1.008998</td>\n",
       "      <td>...</td>\n",
       "      <td>1.013302</td>\n",
       "      <td>0.979948</td>\n",
       "      <td>0.006329</td>\n",
       "      <td>0.013456</td>\n",
       "      <td>0.054077</td>\n",
       "      <td>[31.39, 31.39, 31.8, 32.15, 31.86, 32.38, 32.1...</td>\n",
       "      <td>5699</td>\n",
       "      <td>-0.001200</td>\n",
       "      <td>0.008626</td>\n",
       "      <td>-0.009826</td>\n",
       "    </tr>\n",
       "    <tr>\n",
       "      <th>3</th>\n",
       "      <td>ALOG</td>\n",
       "      <td>1991-10-24</td>\n",
       "      <td>10.44</td>\n",
       "      <td>10.32</td>\n",
       "      <td>10.32</td>\n",
       "      <td>0.00</td>\n",
       "      <td>1.011628</td>\n",
       "      <td>1.000000</td>\n",
       "      <td>0.752907</td>\n",
       "      <td>1.034884</td>\n",
       "      <td>...</td>\n",
       "      <td>1.028537</td>\n",
       "      <td>0.997171</td>\n",
       "      <td>0.009729</td>\n",
       "      <td>0.018395</td>\n",
       "      <td>0.145465</td>\n",
       "      <td>[7.77, 8.13, 8.01, 8.01, 7.89, 7.89, 8.13, 8.1...</td>\n",
       "      <td>1799</td>\n",
       "      <td>0.000000</td>\n",
       "      <td>-0.002259</td>\n",
       "      <td>0.002259</td>\n",
       "    </tr>\n",
       "    <tr>\n",
       "      <th>4</th>\n",
       "      <td>AFFX</td>\n",
       "      <td>2008-12-16</td>\n",
       "      <td>2.54</td>\n",
       "      <td>2.64</td>\n",
       "      <td>2.88</td>\n",
       "      <td>0.24</td>\n",
       "      <td>0.928030</td>\n",
       "      <td>0.818182</td>\n",
       "      <td>0.818182</td>\n",
       "      <td>1.026515</td>\n",
       "      <td>...</td>\n",
       "      <td>0.971212</td>\n",
       "      <td>4.608464</td>\n",
       "      <td>0.050066</td>\n",
       "      <td>0.078455</td>\n",
       "      <td>2.427742</td>\n",
       "      <td>[21.38, 21.96, 21.5, 21.72, 21.66, 22.19, 22.6...</td>\n",
       "      <td>3148</td>\n",
       "      <td>0.090909</td>\n",
       "      <td>-0.009593</td>\n",
       "      <td>0.100502</td>\n",
       "    </tr>\n",
       "  </tbody>\n",
       "</table>\n",
       "<p>5 rows × 23 columns</p>\n",
       "</div>"
      ],
      "text/plain": [
       "  symbol        Date   Open  Close  tomorrow_close  tomo_close_m_close  \\\n",
       "0    APC  2009-08-07  49.81  49.39           50.74                1.35   \n",
       "1   ADSK  1990-05-23  46.69  47.85           48.54                0.69   \n",
       "2    BMS  2007-05-15  33.24  33.34           33.30               -0.04   \n",
       "3   ALOG  1991-10-24  10.44  10.32           10.32                0.00   \n",
       "4   AFFX  2008-12-16   2.54   2.64            2.88                0.24   \n",
       "\n",
       "   close_MIN_prior_5_days  close_MIN_prior_20_days  close_MIN_prior_260_days  \\\n",
       "0                0.975906                 0.860296                  0.550111   \n",
       "1                0.963845                 0.830930                  0.630930   \n",
       "2                0.993101                 0.993101                  0.863527   \n",
       "3                1.011628                 1.000000                  0.752907   \n",
       "4                0.928030                 0.818182                  0.818182   \n",
       "\n",
       "   close_MAX_prior_5_days  ...  close_AVG_prior_20_days  \\\n",
       "0                1.021057  ...                 0.954626   \n",
       "1                1.009613  ...                 0.912571   \n",
       "2                1.008998  ...                 1.013302   \n",
       "3                1.034884  ...                 1.028537   \n",
       "4                1.026515  ...                 0.971212   \n",
       "\n",
       "   close_AVG_prior_260_days  close_STDDEV_prior_5_days  \\\n",
       "0                  0.876211                   0.017040   \n",
       "1                  0.778739                   0.018253   \n",
       "2                  0.979948                   0.006329   \n",
       "3                  0.997171                   0.009729   \n",
       "4                  4.608464                   0.050066   \n",
       "\n",
       "   close_STDDEV_prior_20_days  close_STDDEV_prior_260_days  \\\n",
       "0                    0.045157                     0.161252   \n",
       "1                    0.053557                     0.080469   \n",
       "2                    0.013456                     0.054077   \n",
       "3                    0.018395                     0.145465   \n",
       "4                    0.078455                     2.427742   \n",
       "\n",
       "                              close_values_prior_260  days_on_market  \\\n",
       "0  [59.1, 57.15, 59.86, 57.91, 58.71, 55.12, 54.0...            5774   \n",
       "1  [33.56, 34.7, 34.24, 34.47, 35.39, 35.97, 35.1...            1239   \n",
       "2  [31.39, 31.39, 31.8, 32.15, 31.86, 32.38, 32.1...            5699   \n",
       "3  [7.77, 8.13, 8.01, 8.01, 7.89, 7.89, 8.13, 8.1...            1799   \n",
       "4  [21.38, 21.96, 21.5, 21.72, 21.66, 22.19, 22.6...            3148   \n",
       "\n",
       "   scaled_change s_p_scaled_change  normalized_change  \n",
       "0       0.027333         -0.003345           0.030678  \n",
       "1       0.014420         -0.002449           0.016869  \n",
       "2      -0.001200          0.008626          -0.009826  \n",
       "3       0.000000         -0.002259           0.002259  \n",
       "4       0.090909         -0.009593           0.100502  \n",
       "\n",
       "[5 rows x 23 columns]"
      ]
     },
     "execution_count": 17,
     "metadata": {},
     "output_type": "execute_result"
    }
   ],
   "source": [
    "df.head()"
   ]
  },
  {
   "cell_type": "markdown",
   "metadata": {
    "colab_type": "text",
    "id": "8TFFeA5sOm2Y"
   },
   "source": [
    "<h3><font color=\"#4885ed\">Join with S&P 500 table and Create labels: {`up`, `down`, `stay`}</font> </h3>\n",
    "\n",
    "Join the table with the list of S&P 500. This will allow us to limit our analysis to S&P 500 companies only.\n",
    "\n",
    "Finally we can create labels. The following SQL statement should do:\n",
    "\n",
    "```sql\n",
    "  CASE WHEN normalized_change < -0.01 THEN 'DOWN'\n",
    "       WHEN normalized_change > 0.01 THEN 'UP'\n",
    "       ELSE 'STAY'\n",
    "  END\n",
    " ```"
   ]
  },
  {
   "cell_type": "markdown",
   "metadata": {},
   "source": [
    "**Learning objective 1**"
   ]
  },
  {
   "cell_type": "code",
   "execution_count": 18,
   "metadata": {
    "colab": {},
    "colab_type": "code",
    "id": "iv8i3e8GTdHq"
   },
   "outputs": [],
   "source": [
    "down_thresh = -0.01\n",
    "up_thresh = 0.01"
   ]
  },
  {
   "cell_type": "code",
   "execution_count": 19,
   "metadata": {
    "colab": {},
    "colab_type": "code",
    "id": "-Kf5POU6TfvM"
   },
   "outputs": [],
   "source": [
    "%%with_globals print\n",
    "%%bigquery --project {PROJECT} df\n",
    "CREATE OR REPLACE TABLE stock_market.percent_change_sp500\n",
    "AS\n",
    "SELECT *,\n",
    "    CASE WHEN normalized_change < {down_thresh} THEN 'DOWN'\n",
    "       WHEN normalized_change > {up_thresh} THEN 'UP'\n",
    "       ELSE 'STAY'\n",
    "    END AS direction\n",
    "FROM stock_market.price_features_norm_per_change features\n",
    "INNER JOIN `asl-ml-immersion.stock_src.snp500`\n",
    "USING (symbol)"
   ]
  },
  {
   "cell_type": "code",
   "execution_count": 20,
   "metadata": {
    "colab": {
     "base_uri": "https://localhost:8080/",
     "height": 136
    },
    "colab_type": "code",
    "id": "jQzSbN2yTdH0",
    "outputId": "7a58fcb5-9a31-4c1b-fddb-ef3a5b379f2e"
   },
   "outputs": [
    {
     "data": {
      "text/html": [
       "<div>\n",
       "<style scoped>\n",
       "    .dataframe tbody tr th:only-of-type {\n",
       "        vertical-align: middle;\n",
       "    }\n",
       "\n",
       "    .dataframe tbody tr th {\n",
       "        vertical-align: top;\n",
       "    }\n",
       "\n",
       "    .dataframe thead th {\n",
       "        text-align: right;\n",
       "    }\n",
       "</style>\n",
       "<table border=\"1\" class=\"dataframe\">\n",
       "  <thead>\n",
       "    <tr style=\"text-align: right;\">\n",
       "      <th></th>\n",
       "      <th>direction</th>\n",
       "      <th>cnt</th>\n",
       "    </tr>\n",
       "  </thead>\n",
       "  <tbody>\n",
       "    <tr>\n",
       "      <th>0</th>\n",
       "      <td>STAY</td>\n",
       "      <td>1485846</td>\n",
       "    </tr>\n",
       "    <tr>\n",
       "      <th>1</th>\n",
       "      <td>DOWN</td>\n",
       "      <td>635216</td>\n",
       "    </tr>\n",
       "    <tr>\n",
       "      <th>2</th>\n",
       "      <td>UP</td>\n",
       "      <td>642051</td>\n",
       "    </tr>\n",
       "  </tbody>\n",
       "</table>\n",
       "</div>"
      ],
      "text/plain": [
       "  direction      cnt\n",
       "0      STAY  1485846\n",
       "1      DOWN   635216\n",
       "2        UP   642051"
      ]
     },
     "execution_count": 20,
     "metadata": {},
     "output_type": "execute_result"
    }
   ],
   "source": [
    "%%with_globals print\n",
    "%%bigquery --project {PROJECT}\n",
    "SELECT direction, COUNT(*) as cnt\n",
    "FROM stock_market.percent_change_sp500\n",
    "GROUP BY direction"
   ]
  },
  {
   "cell_type": "code",
   "execution_count": 21,
   "metadata": {
    "colab": {},
    "colab_type": "code",
    "id": "OLYTEUstTfva"
   },
   "outputs": [],
   "source": [
    "%%with_globals print\n",
    "%%bigquery --project {PROJECT} df\n",
    "SELECT *\n",
    "FROM stock_market.percent_change_sp500\n",
    "LIMIT 20"
   ]
  },
  {
   "cell_type": "code",
   "execution_count": 22,
   "metadata": {
    "colab": {
     "base_uri": "https://localhost:8080/",
     "height": 202
    },
    "colab_type": "code",
    "id": "iiARkRzPTdH5",
    "outputId": "2ed8fc43-f8c7-4827-9033-12b142917c9a"
   },
   "outputs": [
    {
     "data": {
      "text/plain": [
       "Index(['symbol', 'Date', 'Open', 'Close', 'tomorrow_close',\n",
       "       'tomo_close_m_close', 'close_MIN_prior_5_days',\n",
       "       'close_MIN_prior_20_days', 'close_MIN_prior_260_days',\n",
       "       'close_MAX_prior_5_days', 'close_MAX_prior_20_days',\n",
       "       'close_MAX_prior_260_days', 'close_AVG_prior_5_days',\n",
       "       'close_AVG_prior_20_days', 'close_AVG_prior_260_days',\n",
       "       'close_STDDEV_prior_5_days', 'close_STDDEV_prior_20_days',\n",
       "       'close_STDDEV_prior_260_days', 'close_values_prior_260',\n",
       "       'days_on_market', 'scaled_change', 's_p_scaled_change',\n",
       "       'normalized_change', 'company', 'industry', 'direction'],\n",
       "      dtype='object')"
      ]
     },
     "execution_count": 22,
     "metadata": {},
     "output_type": "execute_result"
    }
   ],
   "source": [
    "df.columns"
   ]
  },
  {
   "cell_type": "markdown",
   "metadata": {},
   "source": [
    "The dataset is still quite large and the majority of the days the market `STAY`s. Let's focus our analysis on dates where [earnings per share](https://en.wikipedia.org/wiki/Earnings_per_share) (EPS) information is released by the companies. The EPS data has 3 key columns surprise, reported_EPS, and consensus_EPS: "
   ]
  },
  {
   "cell_type": "code",
   "execution_count": 23,
   "metadata": {},
   "outputs": [
    {
     "data": {
      "text/html": [
       "<div>\n",
       "<style scoped>\n",
       "    .dataframe tbody tr th:only-of-type {\n",
       "        vertical-align: middle;\n",
       "    }\n",
       "\n",
       "    .dataframe tbody tr th {\n",
       "        vertical-align: top;\n",
       "    }\n",
       "\n",
       "    .dataframe thead th {\n",
       "        text-align: right;\n",
       "    }\n",
       "</style>\n",
       "<table border=\"1\" class=\"dataframe\">\n",
       "  <thead>\n",
       "    <tr style=\"text-align: right;\">\n",
       "      <th></th>\n",
       "      <th>date</th>\n",
       "      <th>company</th>\n",
       "      <th>symbol</th>\n",
       "      <th>surprise</th>\n",
       "      <th>reported_EPS</th>\n",
       "      <th>consensus_EPS</th>\n",
       "    </tr>\n",
       "  </thead>\n",
       "  <tbody>\n",
       "    <tr>\n",
       "      <th>0</th>\n",
       "      <td>2005-08-15</td>\n",
       "      <td>AGILENT TECH INC</td>\n",
       "      <td>A</td>\n",
       "      <td>7.69</td>\n",
       "      <td>0.28</td>\n",
       "      <td>0.26</td>\n",
       "    </tr>\n",
       "    <tr>\n",
       "      <th>1</th>\n",
       "      <td>2007-05-14</td>\n",
       "      <td>AGILENT TECH INC</td>\n",
       "      <td>A</td>\n",
       "      <td>-2.27</td>\n",
       "      <td>0.43</td>\n",
       "      <td>0.44</td>\n",
       "    </tr>\n",
       "    <tr>\n",
       "      <th>2</th>\n",
       "      <td>2008-02-13</td>\n",
       "      <td>AGILENT TECH INC</td>\n",
       "      <td>A</td>\n",
       "      <td>2.44</td>\n",
       "      <td>0.42</td>\n",
       "      <td>0.41</td>\n",
       "    </tr>\n",
       "    <tr>\n",
       "      <th>3</th>\n",
       "      <td>2009-08-17</td>\n",
       "      <td>AGILENT TECH INC</td>\n",
       "      <td>A</td>\n",
       "      <td>36.36</td>\n",
       "      <td>0.15</td>\n",
       "      <td>0.11</td>\n",
       "    </tr>\n",
       "    <tr>\n",
       "      <th>4</th>\n",
       "      <td>2008-07-01</td>\n",
       "      <td>AGILENT TECH INC</td>\n",
       "      <td>A</td>\n",
       "      <td>-17.95</td>\n",
       "      <td>0.32</td>\n",
       "      <td>0.39</td>\n",
       "    </tr>\n",
       "    <tr>\n",
       "      <th>5</th>\n",
       "      <td>2004-11-11</td>\n",
       "      <td>AGILENT TECH INC</td>\n",
       "      <td>A</td>\n",
       "      <td>-3.23</td>\n",
       "      <td>0.30</td>\n",
       "      <td>0.31</td>\n",
       "    </tr>\n",
       "    <tr>\n",
       "      <th>6</th>\n",
       "      <td>2005-02-14</td>\n",
       "      <td>AGILENT TECH INC</td>\n",
       "      <td>A</td>\n",
       "      <td>5.26</td>\n",
       "      <td>0.20</td>\n",
       "      <td>0.19</td>\n",
       "    </tr>\n",
       "    <tr>\n",
       "      <th>7</th>\n",
       "      <td>2004-08-12</td>\n",
       "      <td>AGILENT TECH INC</td>\n",
       "      <td>A</td>\n",
       "      <td>7.14</td>\n",
       "      <td>0.30</td>\n",
       "      <td>0.28</td>\n",
       "    </tr>\n",
       "    <tr>\n",
       "      <th>8</th>\n",
       "      <td>2009-02-17</td>\n",
       "      <td>AGILENT TECH INC</td>\n",
       "      <td>A</td>\n",
       "      <td>-28.57</td>\n",
       "      <td>0.20</td>\n",
       "      <td>0.28</td>\n",
       "    </tr>\n",
       "    <tr>\n",
       "      <th>9</th>\n",
       "      <td>2007-02-15</td>\n",
       "      <td>AGILENT TECH INC</td>\n",
       "      <td>A</td>\n",
       "      <td>0.00</td>\n",
       "      <td>0.39</td>\n",
       "      <td>0.39</td>\n",
       "    </tr>\n",
       "  </tbody>\n",
       "</table>\n",
       "</div>"
      ],
      "text/plain": [
       "         date           company symbol surprise  reported_EPS  consensus_EPS\n",
       "0  2005-08-15  AGILENT TECH INC      A     7.69          0.28           0.26\n",
       "1  2007-05-14  AGILENT TECH INC      A    -2.27          0.43           0.44\n",
       "2  2008-02-13  AGILENT TECH INC      A     2.44          0.42           0.41\n",
       "3  2009-08-17  AGILENT TECH INC      A    36.36          0.15           0.11\n",
       "4  2008-07-01  AGILENT TECH INC      A   -17.95          0.32           0.39\n",
       "5  2004-11-11  AGILENT TECH INC      A    -3.23          0.30           0.31\n",
       "6  2005-02-14  AGILENT TECH INC      A     5.26          0.20           0.19\n",
       "7  2004-08-12  AGILENT TECH INC      A     7.14          0.30           0.28\n",
       "8  2009-02-17  AGILENT TECH INC      A   -28.57          0.20           0.28\n",
       "9  2007-02-15  AGILENT TECH INC      A     0.00          0.39           0.39"
      ]
     },
     "execution_count": 23,
     "metadata": {},
     "output_type": "execute_result"
    }
   ],
   "source": [
    "%%with_globals print\n",
    "%%bigquery --project {PROJECT}\n",
    "SELECT *\n",
    "FROM `asl-ml-immersion.stock_src.eps`\n",
    "LIMIT 10"
   ]
  },
  {
   "cell_type": "markdown",
   "metadata": {},
   "source": [
    "The surprise column indicates the difference between the expected (consensus expected eps by analysts) and the reported eps. We can join this table with our derived table to focus our analysis during earnings periods:"
   ]
  },
  {
   "cell_type": "code",
   "execution_count": 25,
   "metadata": {},
   "outputs": [
    {
     "data": {
      "text/html": [
       "<div>\n",
       "<style scoped>\n",
       "    .dataframe tbody tr th:only-of-type {\n",
       "        vertical-align: middle;\n",
       "    }\n",
       "\n",
       "    .dataframe tbody tr th {\n",
       "        vertical-align: top;\n",
       "    }\n",
       "\n",
       "    .dataframe thead th {\n",
       "        text-align: right;\n",
       "    }\n",
       "</style>\n",
       "<table border=\"1\" class=\"dataframe\">\n",
       "  <thead>\n",
       "    <tr style=\"text-align: right;\">\n",
       "      <th></th>\n",
       "    </tr>\n",
       "  </thead>\n",
       "  <tbody>\n",
       "  </tbody>\n",
       "</table>\n",
       "</div>"
      ],
      "text/plain": [
       "Empty DataFrame\n",
       "Columns: []\n",
       "Index: []"
      ]
     },
     "execution_count": 25,
     "metadata": {},
     "output_type": "execute_result"
    }
   ],
   "source": [
    "%%with_globals print\n",
    "%%bigquery --project {PROJECT}\n",
    "CREATE OR REPLACE TABLE stock_market.eps_percent_change_sp500\n",
    "AS\n",
    "SELECT a.*, b.consensus_EPS, b.reported_EPS, b.surprise\n",
    "FROM stock_market.percent_change_sp500 a\n",
    "INNER JOIN `asl-ml-immersion.stock_src.eps` b\n",
    "ON a.Date = b.date\n",
    "AND a.symbol = b.symbol"
   ]
  },
  {
   "cell_type": "code",
   "execution_count": 26,
   "metadata": {
    "colab": {},
    "colab_type": "code",
    "id": "OLYTEUstTfva"
   },
   "outputs": [
    {
     "data": {
      "text/html": [
       "<div>\n",
       "<style scoped>\n",
       "    .dataframe tbody tr th:only-of-type {\n",
       "        vertical-align: middle;\n",
       "    }\n",
       "\n",
       "    .dataframe tbody tr th {\n",
       "        vertical-align: top;\n",
       "    }\n",
       "\n",
       "    .dataframe thead th {\n",
       "        text-align: right;\n",
       "    }\n",
       "</style>\n",
       "<table border=\"1\" class=\"dataframe\">\n",
       "  <thead>\n",
       "    <tr style=\"text-align: right;\">\n",
       "      <th></th>\n",
       "      <th>symbol</th>\n",
       "      <th>Date</th>\n",
       "      <th>Open</th>\n",
       "      <th>Close</th>\n",
       "      <th>tomorrow_close</th>\n",
       "      <th>tomo_close_m_close</th>\n",
       "      <th>close_MIN_prior_5_days</th>\n",
       "      <th>close_MIN_prior_20_days</th>\n",
       "      <th>close_MIN_prior_260_days</th>\n",
       "      <th>close_MAX_prior_5_days</th>\n",
       "      <th>...</th>\n",
       "      <th>days_on_market</th>\n",
       "      <th>scaled_change</th>\n",
       "      <th>s_p_scaled_change</th>\n",
       "      <th>normalized_change</th>\n",
       "      <th>company</th>\n",
       "      <th>industry</th>\n",
       "      <th>direction</th>\n",
       "      <th>consensus_EPS</th>\n",
       "      <th>reported_EPS</th>\n",
       "      <th>surprise</th>\n",
       "    </tr>\n",
       "  </thead>\n",
       "  <tbody>\n",
       "    <tr>\n",
       "      <th>0</th>\n",
       "      <td>A</td>\n",
       "      <td>2008-07-01</td>\n",
       "      <td>35.04</td>\n",
       "      <td>35.57</td>\n",
       "      <td>35.36</td>\n",
       "      <td>-0.21</td>\n",
       "      <td>0.999157</td>\n",
       "      <td>0.999157</td>\n",
       "      <td>0.819511</td>\n",
       "      <td>1.038516</td>\n",
       "      <td>...</td>\n",
       "      <td>2166</td>\n",
       "      <td>-0.005904</td>\n",
       "      <td>-0.018204</td>\n",
       "      <td>0.012300</td>\n",
       "      <td>Agilent Technologies Inc</td>\n",
       "      <td>Health Care</td>\n",
       "      <td>UP</td>\n",
       "      <td>0.41</td>\n",
       "      <td>0.36</td>\n",
       "      <td>-12.20</td>\n",
       "    </tr>\n",
       "    <tr>\n",
       "      <th>1</th>\n",
       "      <td>A</td>\n",
       "      <td>2007-11-15</td>\n",
       "      <td>33.71</td>\n",
       "      <td>33.70</td>\n",
       "      <td>36.72</td>\n",
       "      <td>3.02</td>\n",
       "      <td>0.990801</td>\n",
       "      <td>0.990801</td>\n",
       "      <td>0.910682</td>\n",
       "      <td>1.037982</td>\n",
       "      <td>...</td>\n",
       "      <td>2010</td>\n",
       "      <td>0.089614</td>\n",
       "      <td>0.005230</td>\n",
       "      <td>0.084384</td>\n",
       "      <td>Agilent Technologies Inc</td>\n",
       "      <td>Health Care</td>\n",
       "      <td>UP</td>\n",
       "      <td>0.52</td>\n",
       "      <td>0.53</td>\n",
       "      <td>1.92</td>\n",
       "    </tr>\n",
       "    <tr>\n",
       "      <th>2</th>\n",
       "      <td>A</td>\n",
       "      <td>2005-08-15</td>\n",
       "      <td>29.70</td>\n",
       "      <td>30.33</td>\n",
       "      <td>30.48</td>\n",
       "      <td>0.15</td>\n",
       "      <td>0.834158</td>\n",
       "      <td>0.834158</td>\n",
       "      <td>0.648863</td>\n",
       "      <td>0.870755</td>\n",
       "      <td>...</td>\n",
       "      <td>1442</td>\n",
       "      <td>0.004946</td>\n",
       "      <td>-0.011776</td>\n",
       "      <td>0.016722</td>\n",
       "      <td>Agilent Technologies Inc</td>\n",
       "      <td>Health Care</td>\n",
       "      <td>UP</td>\n",
       "      <td>0.26</td>\n",
       "      <td>0.28</td>\n",
       "      <td>7.69</td>\n",
       "    </tr>\n",
       "    <tr>\n",
       "      <th>3</th>\n",
       "      <td>A</td>\n",
       "      <td>2003-05-19</td>\n",
       "      <td>16.10</td>\n",
       "      <td>15.51</td>\n",
       "      <td>16.04</td>\n",
       "      <td>0.53</td>\n",
       "      <td>1.047066</td>\n",
       "      <td>0.985171</td>\n",
       "      <td>0.699549</td>\n",
       "      <td>1.077369</td>\n",
       "      <td>...</td>\n",
       "      <td>877</td>\n",
       "      <td>0.034172</td>\n",
       "      <td>-0.001129</td>\n",
       "      <td>0.035301</td>\n",
       "      <td>Agilent Technologies Inc</td>\n",
       "      <td>Health Care</td>\n",
       "      <td>UP</td>\n",
       "      <td>-0.15</td>\n",
       "      <td>-0.15</td>\n",
       "      <td>0.00</td>\n",
       "    </tr>\n",
       "    <tr>\n",
       "      <th>4</th>\n",
       "      <td>A</td>\n",
       "      <td>2004-08-12</td>\n",
       "      <td>21.78</td>\n",
       "      <td>19.68</td>\n",
       "      <td>20.52</td>\n",
       "      <td>0.84</td>\n",
       "      <td>1.106199</td>\n",
       "      <td>1.106199</td>\n",
       "      <td>1.045732</td>\n",
       "      <td>1.161585</td>\n",
       "      <td>...</td>\n",
       "      <td>1188</td>\n",
       "      <td>0.042683</td>\n",
       "      <td>0.001477</td>\n",
       "      <td>0.041206</td>\n",
       "      <td>Agilent Technologies Inc</td>\n",
       "      <td>Health Care</td>\n",
       "      <td>UP</td>\n",
       "      <td>0.28</td>\n",
       "      <td>0.30</td>\n",
       "      <td>7.14</td>\n",
       "    </tr>\n",
       "  </tbody>\n",
       "</table>\n",
       "<p>5 rows × 29 columns</p>\n",
       "</div>"
      ],
      "text/plain": [
       "  symbol        Date   Open  Close  tomorrow_close  tomo_close_m_close  \\\n",
       "0      A  2008-07-01  35.04  35.57           35.36               -0.21   \n",
       "1      A  2007-11-15  33.71  33.70           36.72                3.02   \n",
       "2      A  2005-08-15  29.70  30.33           30.48                0.15   \n",
       "3      A  2003-05-19  16.10  15.51           16.04                0.53   \n",
       "4      A  2004-08-12  21.78  19.68           20.52                0.84   \n",
       "\n",
       "   close_MIN_prior_5_days  close_MIN_prior_20_days  close_MIN_prior_260_days  \\\n",
       "0                0.999157                 0.999157                  0.819511   \n",
       "1                0.990801                 0.990801                  0.910682   \n",
       "2                0.834158                 0.834158                  0.648863   \n",
       "3                1.047066                 0.985171                  0.699549   \n",
       "4                1.106199                 1.106199                  1.045732   \n",
       "\n",
       "   close_MAX_prior_5_days  ...  days_on_market  scaled_change  \\\n",
       "0                1.038516  ...            2166      -0.005904   \n",
       "1                1.037982  ...            2010       0.089614   \n",
       "2                0.870755  ...            1442       0.004946   \n",
       "3                1.077369  ...             877       0.034172   \n",
       "4                1.161585  ...            1188       0.042683   \n",
       "\n",
       "   s_p_scaled_change  normalized_change                   company  \\\n",
       "0          -0.018204           0.012300  Agilent Technologies Inc   \n",
       "1           0.005230           0.084384  Agilent Technologies Inc   \n",
       "2          -0.011776           0.016722  Agilent Technologies Inc   \n",
       "3          -0.001129           0.035301  Agilent Technologies Inc   \n",
       "4           0.001477           0.041206  Agilent Technologies Inc   \n",
       "\n",
       "      industry  direction  consensus_EPS reported_EPS  surprise  \n",
       "0  Health Care         UP           0.41         0.36    -12.20  \n",
       "1  Health Care         UP           0.52         0.53      1.92  \n",
       "2  Health Care         UP           0.26         0.28      7.69  \n",
       "3  Health Care         UP          -0.15        -0.15      0.00  \n",
       "4  Health Care         UP           0.28         0.30      7.14  \n",
       "\n",
       "[5 rows x 29 columns]"
      ]
     },
     "execution_count": 26,
     "metadata": {},
     "output_type": "execute_result"
    }
   ],
   "source": [
    "%%with_globals print\n",
    "%%bigquery --project {PROJECT}\n",
    "SELECT *\n",
    "FROM stock_market.eps_percent_change_sp500\n",
    "LIMIT 5"
   ]
  },
  {
   "cell_type": "code",
   "execution_count": 28,
   "metadata": {},
   "outputs": [
    {
     "data": {
      "text/html": [
       "<div>\n",
       "<style scoped>\n",
       "    .dataframe tbody tr th:only-of-type {\n",
       "        vertical-align: middle;\n",
       "    }\n",
       "\n",
       "    .dataframe tbody tr th {\n",
       "        vertical-align: top;\n",
       "    }\n",
       "\n",
       "    .dataframe thead th {\n",
       "        text-align: right;\n",
       "    }\n",
       "</style>\n",
       "<table border=\"1\" class=\"dataframe\">\n",
       "  <thead>\n",
       "    <tr style=\"text-align: right;\">\n",
       "      <th></th>\n",
       "      <th>direction</th>\n",
       "      <th>cnt</th>\n",
       "    </tr>\n",
       "  </thead>\n",
       "  <tbody>\n",
       "    <tr>\n",
       "      <th>0</th>\n",
       "      <td>UP</td>\n",
       "      <td>5294</td>\n",
       "    </tr>\n",
       "    <tr>\n",
       "      <th>1</th>\n",
       "      <td>DOWN</td>\n",
       "      <td>5078</td>\n",
       "    </tr>\n",
       "    <tr>\n",
       "      <th>2</th>\n",
       "      <td>STAY</td>\n",
       "      <td>5641</td>\n",
       "    </tr>\n",
       "  </tbody>\n",
       "</table>\n",
       "</div>"
      ],
      "text/plain": [
       "  direction   cnt\n",
       "0        UP  5294\n",
       "1      DOWN  5078\n",
       "2      STAY  5641"
      ]
     },
     "execution_count": 28,
     "metadata": {},
     "output_type": "execute_result"
    }
   ],
   "source": [
    "%%with_globals print\n",
    "%%bigquery --project {PROJECT}\n",
    "SELECT direction, COUNT(*) as cnt\n",
    "FROM stock_market.eps_percent_change_sp500\n",
    "GROUP BY direction"
   ]
  },
  {
   "cell_type": "markdown",
   "metadata": {
    "colab_type": "text",
    "id": "COPWKR1WTfvd"
   },
   "source": [
    "## Feature exploration"
   ]
  },
  {
   "cell_type": "markdown",
   "metadata": {
    "colab_type": "text",
    "id": "T5HLcwy1Tfve"
   },
   "source": [
    "Now that we have created our recent movements of the company’s stock price, let's visualize our features. This will help us understand the data better and possibly spot errors we may have made during our calculations.\n",
    "\n",
    "As a reminder, we calculated the scaled prices 1 week, 1 month, and 1 year before the date that we are predicting at. "
   ]
  },
  {
   "cell_type": "markdown",
   "metadata": {
    "colab_type": "text",
    "id": "RDROJ7qMh7oz"
   },
   "source": [
    "Let's write a re-usable function for aggregating our features."
   ]
  },
  {
   "cell_type": "markdown",
   "metadata": {},
   "source": [
    "**Learning objective 2**"
   ]
  },
  {
   "cell_type": "code",
   "execution_count": 29,
   "metadata": {
    "colab": {},
    "colab_type": "code",
    "id": "Q7dT9NTSTfvf"
   },
   "outputs": [],
   "source": [
    "def get_aggregate_stats(field, round_digit=2):\n",
    "    \"\"\"Run SELECT ... GROUP BY field, rounding to nearest digit.\"\"\"\n",
    "    df = bq.query('''\n",
    "    SELECT {field}, COUNT(*) as cnt\n",
    "    FROM\n",
    "    (SELECT ROUND({field}, {round_digit}) AS {field}\n",
    "    FROM stock_market.eps_percent_change_sp500) rounded_field\n",
    "    GROUP BY {field}\n",
    "    ORDER BY {field}'''.format(field=field,\n",
    "                             round_digit=round_digit,\n",
    "                             PROJECT=PROJECT)).to_dataframe()\n",
    "    return df.dropna()"
   ]
  },
  {
   "cell_type": "code",
   "execution_count": 30,
   "metadata": {
    "colab": {
     "base_uri": "https://localhost:8080/",
     "height": 338
    },
    "colab_type": "code",
    "id": "xgmCvlMtTfvh",
    "outputId": "5db92f71-8cce-4475-fad8-a991e2fc208f"
   },
   "outputs": [
    {
     "data": {
      "image/png": "[encoded data removed]",
      "text/plain": [
       "<Figure size 720x360 with 1 Axes>"
      ]
     },
     "metadata": {
      "needs_background": "light"
     },
     "output_type": "display_data"
    }
   ],
   "source": [
    "field = 'close_AVG_prior_260_days'\n",
    "CLIP_MIN, CLIP_MAX = 0.1, 4.\n",
    "df = get_aggregate_stats(field)\n",
    "values = df[field].clip(CLIP_MIN, CLIP_MAX)\n",
    "counts = 100 * df['cnt'] / df['cnt'].sum()  # Percentage.\n",
    "ax = values.hist(weights=counts, bins=30, figsize=(10,5))\n",
    "ax.set(xlabel=field, ylabel=\"%\");"
   ]
  },
  {
   "cell_type": "code",
   "execution_count": 32,
   "metadata": {
    "colab": {},
    "colab_type": "code",
    "id": "UDcnYJrCTfvj",
    "outputId": "7e949d16-8c9a-416c-de2d-28ba97a2aa65"
   },
   "outputs": [
    {
     "data": {
      "image/png": "[encoded data removed]",
      "text/plain": [
       "<Figure size 720x360 with 1 Axes>"
      ]
     },
     "metadata": {
      "needs_background": "light"
     },
     "output_type": "display_data"
    }
   ],
   "source": [
    "field = 'normalized_change'\n",
    "CLIP_MIN, CLIP_MAX = -0.1, 0.1\n",
    "df = get_aggregate_stats(field, round_digit=3)\n",
    "values = df[field].clip(CLIP_MIN, CLIP_MAX)\n",
    "counts = 100 * df['cnt'] / df['cnt'].sum()  # Percentage.\n",
    "ax = values.hist(weights=counts, bins=50, figsize=(10, 5))\n",
    "ax.set(xlabel=field, ylabel=\"%\");"
   ]
  },
  {
   "cell_type": "markdown",
   "metadata": {
    "colab_type": "text",
    "id": "DuV7glaEh7o_"
   },
   "source": [
    "Let's look at results by day-of-week, month, etc."
   ]
  },
  {
   "cell_type": "code",
   "execution_count": 33,
   "metadata": {
    "colab": {},
    "colab_type": "code",
    "id": "l7egsYhcTfvm"
   },
   "outputs": [],
   "source": [
    "VALID_GROUPBY_KEYS = ('DAYOFWEEK', 'DAY', 'DAYOFYEAR',\n",
    "                   'WEEK', 'MONTH', 'QUARTER', 'YEAR')\n",
    "DOW_MAPPING = {1: 'Sun', 2: 'Mon', 3: 'Tues', 4: 'Wed',\n",
    "                5: 'Thur', 6: 'Fri', 7: 'Sun'}\n",
    "\n",
    "def groupby_datetime(groupby_key, field):\n",
    "    if groupby_key not in VALID_GROUPBY_KEYS:\n",
    "        raise Exception('Please use a valid groupby_key.')\n",
    "    sql = '''\n",
    "    SELECT {groupby_key}, AVG({field}) as avg_{field}\n",
    "    FROM\n",
    "    (SELECT {field},\n",
    "     EXTRACT({groupby_key} FROM date) AS {groupby_key}\n",
    "    FROM stock_market.eps_percent_change_sp500) foo\n",
    "    GROUP BY {groupby_key}\n",
    "    ORDER BY {groupby_key} DESC'''.format(groupby_key=groupby_key,\n",
    "                                      field=field,\n",
    "                                      PROJECT=PROJECT)\n",
    "    print(sql)\n",
    "    df = bq.query(sql).to_dataframe()\n",
    "    if groupby_key == 'DAYOFWEEK':\n",
    "        df.DAYOFWEEK = df.DAYOFWEEK.map(DOW_MAPPING)\n",
    "    return df.set_index(groupby_key).dropna()"
   ]
  },
  {
   "cell_type": "code",
   "execution_count": 34,
   "metadata": {
    "colab": {
     "base_uri": "https://localhost:8080/",
     "height": 403
    },
    "colab_type": "code",
    "id": "z7mxvIqYTfvp",
    "outputId": "df531585-b724-4907-a84a-03483efc9a7d"
   },
   "outputs": [
    {
     "name": "stdout",
     "output_type": "stream",
     "text": [
      "\n",
      "    SELECT DAYOFWEEK, AVG(normalized_change) as avg_normalized_change\n",
      "    FROM\n",
      "    (SELECT normalized_change,\n",
      "     EXTRACT(DAYOFWEEK FROM date) AS DAYOFWEEK\n",
      "    FROM stock_market.eps_percent_change_sp500) foo\n",
      "    GROUP BY DAYOFWEEK\n",
      "    ORDER BY DAYOFWEEK DESC\n"
     ]
    },
    {
     "data": {
      "image/png": "[encoded data removed]",
      "text/plain": [
       "<Figure size 432x288 with 1 Axes>"
      ]
     },
     "metadata": {
      "needs_background": "light"
     },
     "output_type": "display_data"
    }
   ],
   "source": [
    "field = 'normalized_change'\n",
    "\n",
    "df = groupby_datetime('DAYOFWEEK', field)\n",
    "ax = df.plot(kind='barh', color='orange', alpha=0.7)\n",
    "ax.grid(which='major', axis='y', linewidth=0)"
   ]
  },
  {
   "cell_type": "code",
   "execution_count": 35,
   "metadata": {
    "colab": {
     "base_uri": "https://localhost:8080/",
     "height": 403
    },
    "colab_type": "code",
    "id": "BRI70WJpTfvs",
    "outputId": "b7525484-9b43-407b-f180-7de5ab7225a4"
   },
   "outputs": [
    {
     "name": "stdout",
     "output_type": "stream",
     "text": [
      "\n",
      "    SELECT DAYOFWEEK, AVG(close) as avg_close\n",
      "    FROM\n",
      "    (SELECT close,\n",
      "     EXTRACT(DAYOFWEEK FROM date) AS DAYOFWEEK\n",
      "    FROM stock_market.eps_percent_change_sp500) foo\n",
      "    GROUP BY DAYOFWEEK\n",
      "    ORDER BY DAYOFWEEK DESC\n"
     ]
    },
    {
     "data": {
      "image/png": "[encoded data removed]",
      "text/plain": [
       "<Figure size 432x288 with 1 Axes>"
      ]
     },
     "metadata": {
      "needs_background": "light"
     },
     "output_type": "display_data"
    }
   ],
   "source": [
    "field = 'close'\n",
    "df = groupby_datetime('DAYOFWEEK', field)\n",
    "ax = df.plot(kind='barh', color='orange', alpha=0.7)\n",
    "ax.grid(which='major', axis='y', linewidth=0)"
   ]
  },
  {
   "cell_type": "code",
   "execution_count": 36,
   "metadata": {
    "colab": {
     "base_uri": "https://localhost:8080/",
     "height": 403
    },
    "colab_type": "code",
    "id": "40m-6nMKTfvw",
    "outputId": "4c4bd05b-2278-4eb7-a741-d39076ec59d3"
   },
   "outputs": [
    {
     "name": "stdout",
     "output_type": "stream",
     "text": [
      "\n",
      "    SELECT MONTH, AVG(normalized_change) as avg_normalized_change\n",
      "    FROM\n",
      "    (SELECT normalized_change,\n",
      "     EXTRACT(MONTH FROM date) AS MONTH\n",
      "    FROM stock_market.eps_percent_change_sp500) foo\n",
      "    GROUP BY MONTH\n",
      "    ORDER BY MONTH DESC\n"
     ]
    },
    {
     "data": {
      "image/png": "[encoded data removed]",
      "text/plain": [
       "<Figure size 432x288 with 1 Axes>"
      ]
     },
     "metadata": {
      "needs_background": "light"
     },
     "output_type": "display_data"
    }
   ],
   "source": [
    "field = 'normalized_change'\n",
    "df = groupby_datetime('MONTH', field)\n",
    "ax = df.plot(kind='barh', color='blue', alpha=0.7)\n",
    "ax.grid(which='major', axis='y', linewidth=0)"
   ]
  },
  {
   "cell_type": "code",
   "execution_count": 37,
   "metadata": {
    "colab": {
     "base_uri": "https://localhost:8080/",
     "height": 403
    },
    "colab_type": "code",
    "id": "Zj2pOrAiTfvz",
    "outputId": "4afba896-7e82-458a-86b0-4562dd31b5a4"
   },
   "outputs": [
    {
     "name": "stdout",
     "output_type": "stream",
     "text": [
      "\n",
      "    SELECT QUARTER, AVG(normalized_change) as avg_normalized_change\n",
      "    FROM\n",
      "    (SELECT normalized_change,\n",
      "     EXTRACT(QUARTER FROM date) AS QUARTER\n",
      "    FROM stock_market.eps_percent_change_sp500) foo\n",
      "    GROUP BY QUARTER\n",
      "    ORDER BY QUARTER DESC\n"
     ]
    },
    {
     "data": {
      "image/png": "[encoded data removed]",
      "text/plain": [
       "<Figure size 432x288 with 1 Axes>"
      ]
     },
     "metadata": {
      "needs_background": "light"
     },
     "output_type": "display_data"
    }
   ],
   "source": [
    "field = 'normalized_change'\n",
    "df = groupby_datetime('QUARTER', field)\n",
    "ax = df.plot(kind='barh', color='green', alpha=0.7)\n",
    "ax.grid(which='major', axis='y', linewidth=0)"
   ]
  },
  {
   "cell_type": "code",
   "execution_count": 38,
   "metadata": {
    "colab": {
     "base_uri": "https://localhost:8080/",
     "height": 418
    },
    "colab_type": "code",
    "id": "ohYWA_YsTfv4",
    "outputId": "7b597812-82f6-41dd-98c4-f3ed1ec5dc6c"
   },
   "outputs": [
    {
     "name": "stdout",
     "output_type": "stream",
     "text": [
      "\n",
      "    SELECT YEAR, AVG(close) as avg_close\n",
      "    FROM\n",
      "    (SELECT close,\n",
      "     EXTRACT(YEAR FROM date) AS YEAR\n",
      "    FROM stock_market.eps_percent_change_sp500) foo\n",
      "    GROUP BY YEAR\n",
      "    ORDER BY YEAR DESC\n"
     ]
    },
    {
     "data": {
      "image/png": "[encoded data removed]",
      "text/plain": [
       "<Figure size 432x288 with 1 Axes>"
      ]
     },
     "metadata": {
      "needs_background": "light"
     },
     "output_type": "display_data"
    }
   ],
   "source": [
    "field = 'close'\n",
    "df = groupby_datetime('YEAR', field)\n",
    "ax = df.plot(kind='line', color='purple', alpha=0.7)\n",
    "ax.grid(which='major', axis='y', linewidth=0)"
   ]
  },
  {
   "cell_type": "code",
   "execution_count": 39,
   "metadata": {
    "colab": {
     "base_uri": "https://localhost:8080/",
     "height": 418
    },
    "colab_type": "code",
    "id": "BBTC2VunTfv2",
    "outputId": "3b21cb7d-4f80-4faf-a2c9-e67191969556"
   },
   "outputs": [
    {
     "name": "stdout",
     "output_type": "stream",
     "text": [
      "\n",
      "    SELECT YEAR, AVG(normalized_change) as avg_normalized_change\n",
      "    FROM\n",
      "    (SELECT normalized_change,\n",
      "     EXTRACT(YEAR FROM date) AS YEAR\n",
      "    FROM stock_market.eps_percent_change_sp500) foo\n",
      "    GROUP BY YEAR\n",
      "    ORDER BY YEAR DESC\n"
     ]
    },
    {
     "data": {
      "image/png": "[encoded data removed]",
      "text/plain": [
       "<Figure size 432x288 with 1 Axes>"
      ]
     },
     "metadata": {
      "needs_background": "light"
     },
     "output_type": "display_data"
    }
   ],
   "source": [
    "field = 'normalized_change'\n",
    "df = groupby_datetime('YEAR', field)\n",
    "ax = df.plot(kind='line', color='purple', alpha=0.7)\n",
    "ax.grid(which='major', axis='y', linewidth=0)"
   ]
  },
  {
   "cell_type": "markdown",
   "metadata": {
    "colab_type": "text",
    "id": "P7UJ0W-5WvZC"
   },
   "source": [
    "BONUS: How do our features correlate with the label `direction`? Build some visualizations. What features are most important? You can visualize this and do it statistically using the [`CORR`](https://cloud.google.com/bigquery/docs/reference/standard-sql/statistical_aggregate_functions) function."
   ]
  },
  {
   "cell_type": "markdown",
   "metadata": {
    "colab_type": "text",
    "id": "oRCY1E6CTfxD"
   },
   "source": [
    "Copyright 2019 Google Inc. Licensed under the Apache License, Version 2.0 (the \"License\"); you may not use this file except in compliance with the License. You may obtain a copy of the License at http://www.apache.org/licenses/LICENSE-2.0 Unless required by applicable law or agreed to in writing, software distributed under the License is distributed on an \"AS IS\" BASIS, WITHOUT WARRANTIES OR CONDITIONS OF ANY KIND, either express or implied. See the License for the specific language governing permissions and limitations under the License"
   ]
  }
 ],
 "metadata": {
  "colab": {
   "collapsed_sections": [],
   "name": "2_feature_engineering.ipynb",
   "provenance": [],
   "toc_visible": true
  },
  "environment": {
   "name": "tf2-gpu.2-1.m59",
   "type": "gcloud",
   "uri": "gcr.io/deeplearning-platform-release/tf2-gpu.2-1:m59"
  },
  "kernelspec": {
   "display_name": "Python 3",
   "language": "python",
   "name": "python3"
  },
  "language_info": {
   "codemirror_mode": {
    "name": "ipython",
    "version": 3
   },
   "file_extension": ".py",
   "mimetype": "text/x-python",
   "name": "python",
   "nbconvert_exporter": "python",
   "pygments_lexer": "ipython3",
   "version": "3.7.8"
  }
 },
 "nbformat": 4,
 "nbformat_minor": 4
}
