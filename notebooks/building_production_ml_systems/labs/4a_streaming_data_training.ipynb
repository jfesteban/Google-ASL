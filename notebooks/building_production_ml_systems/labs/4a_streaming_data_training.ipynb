{
 "cells": [
  {
   "cell_type": "markdown",
   "metadata": {},
   "source": [
    "# Training a model with `traffic_last_5min` feature\n",
    "\n",
    "\n",
    "## Introduction\n",
    "\n",
    "In this notebook, we'll train a taxifare prediction model but this time with an additional feature of `traffic_last_5min`."
   ]
  },
  {
   "cell_type": "code",
   "execution_count": 17,
   "metadata": {},
   "outputs": [
    {
     "name": "stdout",
     "output_type": "stream",
     "text": [
      "2.1.1\n"
     ]
    }
   ],
   "source": [
    "import datetime\n",
    "import os\n",
    "import shutil\n",
    "\n",
    "import pandas as pd\n",
    "import tensorflow as tf\n",
    "\n",
    "from matplotlib import pyplot as plt\n",
    "from tensorflow import keras\n",
    "\n",
    "from tensorflow.keras.models import Sequential\n",
    "from tensorflow.keras.layers import Dense, DenseFeatures\n",
    "from tensorflow.keras.callbacks import TensorBoard\n",
    "\n",
    "print(tf.__version__)\n",
    "%matplotlib inline"
   ]
  },
  {
   "cell_type": "code",
   "execution_count": 18,
   "metadata": {},
   "outputs": [],
   "source": [
    "BUCKET =  \"qwiklabs-gcp-04-8722038efd75\"\n",
    "PROJECT = \"qwiklabs-gcp-04-8722038efd75\"\n",
    "REGION = \"us-west1\""
   ]
  },
  {
   "cell_type": "code",
   "execution_count": 19,
   "metadata": {},
   "outputs": [],
   "source": [
    "# For Bash Code\n",
    "os.environ['PROJECT'] = PROJECT\n",
    "os.environ['BUCKET'] = BUCKET\n",
    "os.environ['REGION'] = REGION"
   ]
  },
  {
   "cell_type": "code",
   "execution_count": 20,
   "metadata": {},
   "outputs": [
    {
     "name": "stderr",
     "output_type": "stream",
     "text": [
      "Updated property [core/project].\n",
      "Updated property [compute/region].\n"
     ]
    }
   ],
   "source": [
    "%%bash\n",
    "gcloud config set project $PROJECT\n",
    "gcloud config set compute/region $REGION"
   ]
  },
  {
   "cell_type": "markdown",
   "metadata": {},
   "source": [
    "## Load raw data"
   ]
  },
  {
   "cell_type": "code",
   "execution_count": 21,
   "metadata": {},
   "outputs": [
    {
     "name": "stdout",
     "output_type": "stream",
     "text": [
      "-rw-r--r-- 1 jupyter jupyter 2186310 Nov 29 03:14 ../data/taxi-traffic-test.csv\n",
      "-rw-r--r-- 1 jupyter jupyter 9713118 Nov 29 03:14 ../data/taxi-traffic-train.csv\n",
      "-rw-r--r-- 1 jupyter jupyter 2036826 Nov 29 03:14 ../data/taxi-traffic-valid.csv\n"
     ]
    }
   ],
   "source": [
    "!ls -l ../data/taxi-traffic*"
   ]
  },
  {
   "cell_type": "code",
   "execution_count": 22,
   "metadata": {},
   "outputs": [
    {
     "name": "stdout",
     "output_type": "stream",
     "text": [
      "==> ../data/taxi-traffic-test.csv <==\n",
      "15.7,6,12,-73.990072,40.758199,-73.974686,40.742004,2089\n",
      "6.1,7,2,-73.95647,40.771226,-73.971845,40.750089,1738\n",
      "4.1,6,18,-73.987871,40.759855,-73.996375,40.763728,2971\n",
      "5.7,2,18,-73.974177,40.761154,-73.980953,40.769357,2320\n",
      "7.4,4,23,-73.924908,40.741879,-73.897524,40.747867,1491\n",
      "20.5,1,15,-73.957528,40.766847,-73.870813,40.774044,1794\n",
      "6.5,6,9,-73.996553,40.725558,-73.992503,40.737248,2341\n",
      "4.1,4,11,-73.98353,40.746821000000004,-73.976831,40.751082000000004,2329\n",
      "10.5,3,18,-73.863998,40.770439,-73.91671099999999,40.773011,2318\n",
      "10.1,6,1,-73.979685,40.727247999999996,-73.952508,40.772492,1455\n",
      "\n",
      "==> ../data/taxi-traffic-train.csv <==\n",
      "6.1,2,0,-73.98689499999999,40.729723,-74.00631,40.739407,1129\n",
      "9.7,7,0,-73.94578299999999,40.777807,-73.97539,40.757712,2876\n",
      "5.3,6,0,-74.00644,40.739349,-73.999379,40.731804,3950\n",
      "7.3,5,0,-73.96611800000001,40.753983000000005,-73.945605,40.782802000000004,1334\n",
      "6.5,7,0,-73.974153,40.762767,-73.989152,40.742727,2623\n",
      "22.9,1,0,-73.977188,40.774063,-73.962647,40.654768,2833\n",
      "22.9,2,0,-74.00188,40.745946999999994,-73.968497,40.639375,2002\n",
      "6.1,3,0,-73.994051,40.751077,-73.977333,40.778875,661\n",
      "5.3,5,0,-73.980898,40.744515,-73.973383,40.753496999999996,1938\n",
      "6.5,7,0,-74.00540600000001,40.708533,-74.005498,40.725617,2781\n",
      "\n",
      "==> ../data/taxi-traffic-valid.csv <==\n",
      "7.7,2,11,-73.97463,40.742118,-73.98544,40.760585999999996,1059\n",
      "30.1,7,1,-73.956921,40.777588,-73.965109,40.673271,2225\n",
      "7.7,6,13,-73.98073199999999,40.742109,-73.96415400000001,40.764891999999996,1994\n",
      "24.67,4,4,-73.953387,40.822733,-73.878697,40.755373,321\n",
      "7.7,2,1,-73.982304,40.723572,-73.972778,40.74928,1115\n",
      "8.1,5,18,-73.98474300000001,40.749171999999994,-74.00232,40.72825,2697\n",
      "6.1,4,1,-73.983588,40.72224,-73.997302,40.720786,868\n",
      "19.07,3,1,-73.94446500000001,40.807284,-73.876339,40.763073999999996,711\n",
      "12.5,4,10,-73.98696899999999,40.722343,-74.01621,40.715067,1990\n",
      "5.7,7,18,-74.007972,40.738759,-73.991973,40.73704,2048\n"
     ]
    }
   ],
   "source": [
    "!head ../data/taxi-traffic*"
   ]
  },
  {
   "cell_type": "markdown",
   "metadata": {},
   "source": [
    "## Use tf.data to read the CSV files\n",
    "\n",
    "These functions for reading data from the csv files are similar to what we used in the Introduction to Tensorflow module. Note that here we have an addtional feature `traffic_last_5min`."
   ]
  },
  {
   "cell_type": "code",
   "execution_count": 23,
   "metadata": {},
   "outputs": [],
   "source": [
    "CSV_COLUMNS = [\n",
    "    'fare_amount',\n",
    "    'dayofweek',\n",
    "    'hourofday',\n",
    "    'pickup_longitude',\n",
    "    'pickup_latitude',\n",
    "    'dropoff_longitude',\n",
    "    'dropoff_latitude',\n",
    "    'traffic_last_5min'\n",
    "]\n",
    "LABEL_COLUMN = 'fare_amount'\n",
    "DEFAULTS = [[0.0], [0.0], [0.0], [0.0], [0.0], [0.0], [0.0], [0.0]]\n",
    "\n",
    "\n",
    "def features_and_labels(row_data):\n",
    "    label = row_data.pop(LABEL_COLUMN)\n",
    "    features = row_data\n",
    "\n",
    "    return features, label\n",
    "\n",
    "\n",
    "def create_dataset(pattern, batch_size=1, mode=tf.estimator.ModeKeys.EVAL):\n",
    "    dataset = tf.data.experimental.make_csv_dataset(\n",
    "        pattern, batch_size, CSV_COLUMNS, DEFAULTS)\n",
    "\n",
    "    dataset = dataset.map(features_and_labels)\n",
    "\n",
    "    if mode == tf.estimator.ModeKeys.TRAIN:\n",
    "        dataset = dataset.shuffle(buffer_size=1000).repeat()\n",
    "\n",
    "    # take advantage of multi-threading; 1=AUTOTUNE\n",
    "    dataset = dataset.prefetch(1)\n",
    "    return dataset"
   ]
  },
  {
   "cell_type": "code",
   "execution_count": 25,
   "metadata": {},
   "outputs": [],
   "source": [
    "INPUT_COLS = [\n",
    "    'dayofweek',\n",
    "    'hourofday',\n",
    "    'pickup_longitude',\n",
    "    'pickup_latitude',\n",
    "    'dropoff_longitude',\n",
    "    'dropoff_latitude',\n",
    "    'traffic_last_5min'\n",
    "]\n",
    "\n",
    "# Create input layer of feature columns\n",
    "feature_columns = {\n",
    "    colname: tf.feature_column.numeric_column(colname)\n",
    "    for colname in INPUT_COLS\n",
    "    }"
   ]
  },
  {
   "cell_type": "markdown",
   "metadata": {},
   "source": [
    "## Build a simple keras DNN model"
   ]
  },
  {
   "cell_type": "code",
   "execution_count": 26,
   "metadata": {},
   "outputs": [],
   "source": [
    "# Build a keras DNN model using Sequential API\n",
    "def build_model(dnn_hidden_units):\n",
    "    model = Sequential(DenseFeatures(feature_columns=feature_columns.values()))\n",
    "    \n",
    "    for num_nodes in dnn_hidden_units:\n",
    "        model.add(Dense(units=num_nodes, activation=\"relu\"))\n",
    "    \n",
    "    model.add(Dense(units=1, activation=\"linear\"))    \n",
    "    \n",
    "    # Create a custom evalution metric\n",
    "    def rmse(y_true, y_pred):\n",
    "        return tf.sqrt(tf.reduce_mean(tf.square(y_pred - y_true)))\n",
    "\n",
    "    # Compile the keras model\n",
    "    model.compile(optimizer=\"adam\", loss=\"mse\", metrics=[rmse, \"mse\"])\n",
    "    \n",
    "    return model"
   ]
  },
  {
   "cell_type": "markdown",
   "metadata": {},
   "source": [
    "Next, we can call the `build_model` to create the model. Here we'll have two hidden layers before our final output layer. And we'll train with the same parameters we used before."
   ]
  },
  {
   "cell_type": "code",
   "execution_count": 27,
   "metadata": {},
   "outputs": [],
   "source": [
    "HIDDEN_UNITS = [32, 8]\n",
    "\n",
    "model = build_model(dnn_hidden_units=HIDDEN_UNITS)"
   ]
  },
  {
   "cell_type": "code",
   "execution_count": 28,
   "metadata": {},
   "outputs": [],
   "source": [
    "BATCH_SIZE = 1000\n",
    "NUM_TRAIN_EXAMPLES = 10000 * 6  # training dataset will repeat, wrap around\n",
    "NUM_EVALS = 60  # how many times to evaluate\n",
    "NUM_EVAL_EXAMPLES = 10000  # enough to get a reasonable sample\n",
    "\n",
    "trainds = create_dataset(\n",
    "    pattern='../data/taxi-traffic-train*',\n",
    "    batch_size=BATCH_SIZE,\n",
    "    mode=tf.estimator.ModeKeys.TRAIN)\n",
    "\n",
    "evalds = create_dataset(\n",
    "    pattern='../data/taxi-traffic-valid*',\n",
    "    batch_size=BATCH_SIZE,\n",
    "    mode=tf.estimator.ModeKeys.EVAL).take(NUM_EVAL_EXAMPLES//1000)"
   ]
  },
  {
   "cell_type": "code",
   "execution_count": 29,
   "metadata": {},
   "outputs": [
    {
     "name": "stdout",
     "output_type": "stream",
     "text": [
      "Train for 1 steps, validate for 10 steps\n",
      "Epoch 1/60\n",
      "1/1 [==============================] - 16s 16s/step - loss: 423586.7500 - rmse: 650.8354 - mse: 423586.7500 - val_loss: 379166.0156 - val_rmse: 615.6774 - val_mse: 379166.0000\n",
      "Epoch 2/60\n",
      "WARNING:tensorflow:Method (on_train_batch_end) is slow compared to the batch update (0.720280). Check your callbacks.\n",
      "1/1 [==============================] - 1s 1s/step - loss: 394578.4062 - rmse: 628.1548 - mse: 394578.4062 - val_loss: 354315.8844 - val_rmse: 595.1910 - val_mse: 354315.8750\n",
      "Epoch 3/60\n",
      "1/1 [==============================] - 1s 716ms/step - loss: 502715.7188 - rmse: 709.0245 - mse: 502715.7188 - val_loss: 327593.0750 - val_rmse: 572.2736 - val_mse: 327593.0312\n",
      "Epoch 4/60\n",
      "1/1 [==============================] - 1s 666ms/step - loss: 542916.2500 - rmse: 736.8285 - mse: 542916.2500 - val_loss: 300725.2031 - val_rmse: 548.3168 - val_mse: 300725.1875\n",
      "Epoch 5/60\n",
      "1/1 [==============================] - 1s 551ms/step - loss: 316079.6250 - rmse: 562.2096 - mse: 316079.6250 - val_loss: 273455.5375 - val_rmse: 522.8859 - val_mse: 273455.5312\n",
      "Epoch 6/60\n",
      "1/1 [==============================] - 1s 573ms/step - loss: 285275.5938 - rmse: 534.1119 - mse: 285275.5938 - val_loss: 250813.1266 - val_rmse: 500.7548 - val_mse: 250813.1250\n",
      "Epoch 7/60\n",
      "1/1 [==============================] - 1s 637ms/step - loss: 423323.6875 - rmse: 650.6333 - mse: 423323.6875 - val_loss: 225058.5219 - val_rmse: 474.3201 - val_mse: 225058.5312\n",
      "Epoch 8/60\n",
      "1/1 [==============================] - 1s 538ms/step - loss: 136427.4219 - rmse: 369.3608 - mse: 136427.4219 - val_loss: 205301.6781 - val_rmse: 453.0158 - val_mse: 205301.6562\n",
      "Epoch 9/60\n",
      "1/1 [==============================] - 1s 560ms/step - loss: 317151.4375 - rmse: 563.1620 - mse: 317151.4375 - val_loss: 183913.0391 - val_rmse: 428.8000 - val_mse: 183913.0312\n",
      "Epoch 10/60\n",
      "1/1 [==============================] - 1s 599ms/step - loss: 190068.7656 - rmse: 435.9688 - mse: 190068.7656 - val_loss: 164650.1094 - val_rmse: 405.7276 - val_mse: 164650.0938\n",
      "Epoch 11/60\n",
      "1/1 [==============================] - 1s 528ms/step - loss: 163601.7031 - rmse: 404.4771 - mse: 163601.7031 - val_loss: 147547.8359 - val_rmse: 384.0690 - val_mse: 147547.8438\n",
      "Epoch 12/60\n",
      "1/1 [==============================] - 1s 582ms/step - loss: 142660.4688 - rmse: 377.7042 - mse: 142660.4688 - val_loss: 129796.3750 - val_rmse: 360.2229 - val_mse: 129796.3672\n",
      "Epoch 13/60\n",
      "1/1 [==============================] - 1s 655ms/step - loss: 133409.5469 - rmse: 365.2527 - mse: 133409.5469 - val_loss: 114383.6070 - val_rmse: 338.1827 - val_mse: 114383.6016\n",
      "Epoch 14/60\n",
      "1/1 [==============================] - 1s 543ms/step - loss: 193587.2812 - rmse: 439.9855 - mse: 193587.2812 - val_loss: 100541.2156 - val_rmse: 317.0533 - val_mse: 100541.2188\n",
      "Epoch 15/60\n",
      "1/1 [==============================] - 1s 573ms/step - loss: 169850.3438 - rmse: 412.1290 - mse: 169850.3438 - val_loss: 86656.5047 - val_rmse: 294.3448 - val_mse: 86656.5078\n",
      "Epoch 16/60\n",
      "1/1 [==============================] - 1s 569ms/step - loss: 85017.8672 - rmse: 291.5782 - mse: 85017.8672 - val_loss: 74523.6789 - val_rmse: 272.9417 - val_mse: 74523.6719\n",
      "Epoch 17/60\n",
      "1/1 [==============================] - 1s 629ms/step - loss: 73274.3203 - rmse: 270.6923 - mse: 73274.3203 - val_loss: 62982.2523 - val_rmse: 250.9218 - val_mse: 62982.2578\n",
      "Epoch 18/60\n",
      "1/1 [==============================] - 0s 451ms/step - loss: 62004.7031 - rmse: 249.0074 - mse: 62004.7031 - val_loss: 53509.8746 - val_rmse: 231.3105 - val_mse: 53509.8711\n",
      "Epoch 19/60\n",
      "1/1 [==============================] - 1s 540ms/step - loss: 56426.3633 - rmse: 237.5423 - mse: 56426.3633 - val_loss: 44765.0684 - val_rmse: 211.5556 - val_mse: 44765.0703\n",
      "Epoch 20/60\n",
      "1/1 [==============================] - 1s 511ms/step - loss: 43483.9297 - rmse: 208.5280 - mse: 43483.9297 - val_loss: 36762.7246 - val_rmse: 191.7032 - val_mse: 36762.7188\n",
      "Epoch 21/60\n",
      "1/1 [==============================] - 1s 735ms/step - loss: 34880.0234 - rmse: 186.7619 - mse: 34880.0234 - val_loss: 30249.1684 - val_rmse: 173.8951 - val_mse: 30249.1680\n",
      "Epoch 22/60\n",
      "1/1 [==============================] - 1s 540ms/step - loss: 53205.2539 - rmse: 230.6626 - mse: 53205.2539 - val_loss: 24091.0975 - val_rmse: 155.2002 - val_mse: 24091.0957\n",
      "Epoch 23/60\n",
      "1/1 [==============================] - 1s 566ms/step - loss: 39777.3047 - rmse: 199.4425 - mse: 39777.3047 - val_loss: 18584.9984 - val_rmse: 136.2973 - val_mse: 18584.9980\n",
      "Epoch 24/60\n",
      "1/1 [==============================] - 1s 549ms/step - loss: 18333.6289 - rmse: 135.4017 - mse: 18333.6289 - val_loss: 14069.8023 - val_rmse: 118.5977 - val_mse: 14069.8018\n",
      "Epoch 25/60\n",
      "1/1 [==============================] - 1s 582ms/step - loss: 22021.9883 - rmse: 148.3981 - mse: 22021.9883 - val_loss: 10252.7272 - val_rmse: 101.2378 - val_mse: 10252.7275\n",
      "Epoch 26/60\n",
      "1/1 [==============================] - 1s 666ms/step - loss: 19058.7773 - rmse: 138.0535 - mse: 19058.7773 - val_loss: 7216.8874 - val_rmse: 84.9491 - val_mse: 7216.8872\n",
      "Epoch 27/60\n",
      "1/1 [==============================] - 1s 562ms/step - loss: 6800.0327 - rmse: 82.4623 - mse: 6800.0327 - val_loss: 4808.3732 - val_rmse: 69.3275 - val_mse: 4808.3735\n",
      "Epoch 28/60\n",
      "1/1 [==============================] - 1s 588ms/step - loss: 9084.8438 - rmse: 95.3144 - mse: 9084.8438 - val_loss: 2959.2820 - val_rmse: 54.3865 - val_mse: 2959.2820\n",
      "Epoch 29/60\n",
      "1/1 [==============================] - 1s 601ms/step - loss: 2680.6370 - rmse: 51.7749 - mse: 2680.6370 - val_loss: 1638.5263 - val_rmse: 40.4724 - val_mse: 1638.5264\n",
      "Epoch 30/60\n",
      "1/1 [==============================] - 1s 710ms/step - loss: 3099.9519 - rmse: 55.6772 - mse: 3099.9519 - val_loss: 777.6866 - val_rmse: 27.8849 - val_mse: 777.6865\n",
      "Epoch 31/60\n",
      "1/1 [==============================] - 1s 534ms/step - loss: 712.8726 - rmse: 26.6997 - mse: 712.8726 - val_loss: 318.3117 - val_rmse: 17.8355 - val_mse: 318.3117\n",
      "Epoch 32/60\n",
      "1/1 [==============================] - 0s 494ms/step - loss: 229.7948 - rmse: 15.1590 - mse: 229.7948 - val_loss: 156.7076 - val_rmse: 12.5046 - val_mse: 156.7076\n",
      "Epoch 33/60\n",
      "1/1 [==============================] - 1s 528ms/step - loss: 121.9291 - rmse: 11.0422 - mse: 121.9291 - val_loss: 236.7859 - val_rmse: 15.3751 - val_mse: 236.7859\n",
      "Epoch 34/60\n",
      "1/1 [==============================] - 1s 512ms/step - loss: 279.5438 - rmse: 16.7196 - mse: 279.5438 - val_loss: 493.5174 - val_rmse: 22.2123 - val_mse: 493.5174\n",
      "Epoch 35/60\n",
      "1/1 [==============================] - 1s 674ms/step - loss: 537.5452 - rmse: 23.1850 - mse: 537.5452 - val_loss: 866.8073 - val_rmse: 29.4402 - val_mse: 866.8074\n",
      "Epoch 36/60\n",
      "1/1 [==============================] - 1s 625ms/step - loss: 807.4150 - rmse: 28.4150 - mse: 807.4150 - val_loss: 1299.1065 - val_rmse: 36.0410 - val_mse: 1299.1064\n",
      "Epoch 37/60\n",
      "1/1 [==============================] - 1s 577ms/step - loss: 1420.0688 - rmse: 37.6838 - mse: 1420.0688 - val_loss: 1765.1224 - val_rmse: 42.0100 - val_mse: 1765.1224\n",
      "Epoch 38/60\n",
      "1/1 [==============================] - 1s 643ms/step - loss: 2092.2690 - rmse: 45.7413 - mse: 2092.2690 - val_loss: 2202.5391 - val_rmse: 46.9295 - val_mse: 2202.5393\n",
      "Epoch 39/60\n",
      "1/1 [==============================] - 1s 631ms/step - loss: 2517.1152 - rmse: 50.1709 - mse: 2517.1152 - val_loss: 2618.9782 - val_rmse: 51.1730 - val_mse: 2618.9783\n",
      "Epoch 40/60\n",
      "1/1 [==============================] - 1s 652ms/step - loss: 3316.8552 - rmse: 57.5921 - mse: 3316.8552 - val_loss: 2955.8806 - val_rmse: 54.3630 - val_mse: 2955.8804\n",
      "Epoch 41/60\n",
      "1/1 [==============================] - 1s 576ms/step - loss: 3821.1770 - rmse: 61.8157 - mse: 3821.1770 - val_loss: 3214.8486 - val_rmse: 56.6938 - val_mse: 3214.8484\n",
      "Epoch 42/60\n",
      "1/1 [==============================] - 1s 619ms/step - loss: 3703.1340 - rmse: 60.8534 - mse: 3703.1340 - val_loss: 3384.4583 - val_rmse: 58.1726 - val_mse: 3384.4580\n",
      "Epoch 43/60\n",
      "1/1 [==============================] - 1s 734ms/step - loss: 2632.6843 - rmse: 51.3097 - mse: 2632.6843 - val_loss: 3561.0021 - val_rmse: 59.6659 - val_mse: 3561.0020\n",
      "Epoch 44/60\n",
      "1/1 [==============================] - 1s 645ms/step - loss: 3701.0071 - rmse: 60.8359 - mse: 3701.0071 - val_loss: 3589.5176 - val_rmse: 59.9085 - val_mse: 3589.5176\n",
      "Epoch 45/60\n",
      "1/1 [==============================] - 1s 667ms/step - loss: 4006.7996 - rmse: 63.2993 - mse: 4006.7996 - val_loss: 3637.5732 - val_rmse: 60.3073 - val_mse: 3637.5732\n",
      "Epoch 46/60\n",
      "1/1 [==============================] - 1s 542ms/step - loss: 3864.2185 - rmse: 62.1628 - mse: 3864.2185 - val_loss: 3581.2232 - val_rmse: 59.8403 - val_mse: 3581.2231\n",
      "Epoch 47/60\n",
      "1/1 [==============================] - 1s 505ms/step - loss: 3922.9961 - rmse: 62.6338 - mse: 3922.9961 - val_loss: 3495.9714 - val_rmse: 59.1216 - val_mse: 3495.9712\n",
      "Epoch 48/60\n",
      "1/1 [==============================] - 1s 516ms/step - loss: 4586.6528 - rmse: 67.7248 - mse: 4586.6528 - val_loss: 3382.7117 - val_rmse: 58.1560 - val_mse: 3382.7117\n",
      "Epoch 49/60\n",
      "1/1 [==============================] - 1s 569ms/step - loss: 4307.2129 - rmse: 65.6294 - mse: 4307.2129 - val_loss: 3185.5106 - val_rmse: 56.4381 - val_mse: 3185.5105\n",
      "Epoch 50/60\n",
      "1/1 [==============================] - 1s 568ms/step - loss: 3577.6958 - rmse: 59.8138 - mse: 3577.6958 - val_loss: 2980.2871 - val_rmse: 54.5902 - val_mse: 2980.2871\n",
      "Epoch 51/60\n",
      "1/1 [==============================] - 1s 508ms/step - loss: 3280.0515 - rmse: 57.2717 - mse: 3280.0515 - val_loss: 2742.6299 - val_rmse: 52.3663 - val_mse: 2742.6299\n",
      "Epoch 52/60\n",
      "1/1 [==============================] - 1s 552ms/step - loss: 2066.4851 - rmse: 45.4586 - mse: 2066.4851 - val_loss: 2529.9623 - val_rmse: 50.2967 - val_mse: 2529.9624\n",
      "Epoch 53/60\n",
      "1/1 [==============================] - 1s 710ms/step - loss: 2660.8420 - rmse: 51.5834 - mse: 2660.8420 - val_loss: 2295.8894 - val_rmse: 47.9119 - val_mse: 2295.8892\n",
      "Epoch 54/60\n",
      "1/1 [==============================] - 1s 510ms/step - loss: 2793.6414 - rmse: 52.8549 - mse: 2793.6414 - val_loss: 2041.3641 - val_rmse: 45.1781 - val_mse: 2041.3643\n",
      "Epoch 55/60\n",
      "1/1 [==============================] - 1s 703ms/step - loss: 2453.3770 - rmse: 49.5316 - mse: 2453.3770 - val_loss: 1801.4679 - val_rmse: 42.4390 - val_mse: 1801.4680\n",
      "Epoch 56/60\n",
      "1/1 [==============================] - 1s 731ms/step - loss: 2025.6855 - rmse: 45.0076 - mse: 2025.6855 - val_loss: 1579.3651 - val_rmse: 39.7382 - val_mse: 1579.3651\n",
      "Epoch 57/60\n",
      "1/1 [==============================] - 1s 669ms/step - loss: 1882.2565 - rmse: 43.3850 - mse: 1882.2565 - val_loss: 1334.3139 - val_rmse: 36.5264 - val_mse: 1334.3140\n",
      "Epoch 58/60\n",
      "1/1 [==============================] - 1s 657ms/step - loss: 1625.7228 - rmse: 40.3203 - mse: 1625.7228 - val_loss: 1122.6393 - val_rmse: 33.5021 - val_mse: 1122.6393\n",
      "Epoch 59/60\n",
      "1/1 [==============================] - 1s 552ms/step - loss: 1266.4919 - rmse: 35.5878 - mse: 1266.4919 - val_loss: 931.0459 - val_rmse: 30.5117 - val_mse: 931.0458\n",
      "Epoch 60/60\n",
      "1/1 [==============================] - 0s 477ms/step - loss: 1021.6508 - rmse: 31.9633 - mse: 1021.6508 - val_loss: 754.8029 - val_rmse: 27.4683 - val_mse: 754.8030\n",
      "CPU times: user 1min 37s, sys: 1min 12s, total: 2min 50s\n",
      "Wall time: 1min 6s\n"
     ]
    }
   ],
   "source": [
    "%%time\n",
    "steps_per_epoch = NUM_TRAIN_EXAMPLES // (BATCH_SIZE * NUM_EVALS)\n",
    "\n",
    "LOGDIR = \"./taxi_trained\"\n",
    "history = model.fit(x=trainds,\n",
    "                    steps_per_epoch=steps_per_epoch,\n",
    "                    epochs=NUM_EVALS,\n",
    "                    validation_data=evalds,\n",
    "                    callbacks=[TensorBoard(LOGDIR)])"
   ]
  },
  {
   "cell_type": "code",
   "execution_count": 30,
   "metadata": {},
   "outputs": [
    {
     "data": {
      "text/plain": [
       "<AxesSubplot:>"
      ]
     },
     "execution_count": 30,
     "metadata": {},
     "output_type": "execute_result"
    },
    {
     "data": {
      "image/png": "[encoded data removed]",
      "text/plain": [
       "<Figure size 432x288 with 1 Axes>"
      ]
     },
     "metadata": {
      "needs_background": "light"
     },
     "output_type": "display_data"
    }
   ],
   "source": [
    "RMSE_COLS = ['rmse', 'val_rmse']\n",
    "\n",
    "pd.DataFrame(history.history)[RMSE_COLS].plot()"
   ]
  },
  {
   "cell_type": "code",
   "execution_count": 31,
   "metadata": {},
   "outputs": [
    {
     "data": {
      "text/plain": [
       "array([[-2.4741225]], dtype=float32)"
      ]
     },
     "execution_count": 31,
     "metadata": {},
     "output_type": "execute_result"
    }
   ],
   "source": [
    "model.predict(x={\"dayofweek\": tf.convert_to_tensor([6]),\n",
    "                 \"hourofday\": tf.convert_to_tensor([17]),\n",
    "                 \"pickup_longitude\": tf.convert_to_tensor([-73.982683]),\n",
    "                 \"pickup_latitude\": tf.convert_to_tensor([40.742104]),\n",
    "                 \"dropoff_longitude\": tf.convert_to_tensor([-73.983766]),\n",
    "                 \"dropoff_latitude\": tf.convert_to_tensor([40.755174]),\n",
    "                \"traffic_last_5min\": tf.convert_to_tensor([114])},\n",
    "              steps=1)"
   ]
  },
  {
   "cell_type": "markdown",
   "metadata": {},
   "source": [
    "## Export and deploy model"
   ]
  },
  {
   "cell_type": "code",
   "execution_count": 32,
   "metadata": {},
   "outputs": [
    {
     "name": "stdout",
     "output_type": "stream",
     "text": [
      "INFO:tensorflow:Assets written to: ./export/savedmodel/20201208135219/assets\n"
     ]
    }
   ],
   "source": [
    "OUTPUT_DIR = \"./export/savedmodel\"\n",
    "shutil.rmtree(OUTPUT_DIR, ignore_errors=True)\n",
    "EXPORT_PATH = os.path.join(OUTPUT_DIR,\n",
    "                           datetime.datetime.now().strftime(\"%Y%m%d%H%M%S\"))\n",
    "tf.saved_model.save(model, EXPORT_PATH)  # with default serving function\n",
    "os.environ['EXPORT_PATH'] = EXPORT_PATH"
   ]
  },
  {
   "cell_type": "code",
   "execution_count": 33,
   "metadata": {},
   "outputs": [
    {
     "name": "stdout",
     "output_type": "stream",
     "text": [
      "taxifare already exists\n",
      "Creating taxifare:traffic\n"
     ]
    },
    {
     "name": "stderr",
     "output_type": "stream",
     "text": [
      "Using endpoint [https://ml.googleapis.com/]\n",
      "Using endpoint [https://ml.googleapis.com/]\n",
      "Using endpoint [https://ml.googleapis.com/]\n"
     ]
    }
   ],
   "source": [
    "%%bash\n",
    "PROJECT=${PROJECT}\n",
    "BUCKET=${BUCKET}\n",
    "REGION=${REGION}\n",
    "MODEL_NAME=taxifare\n",
    "VERSION_NAME=traffic\n",
    "\n",
    "if [[ $(gcloud ai-platform models list --format='value(name)' | grep $MODEL_NAME) ]]; then\n",
    "    echo \"$MODEL_NAME already exists\"\n",
    "else\n",
    "    # create model\n",
    "    echo \"Creating $MODEL_NAME\"\n",
    "    gcloud ai-platform models create --regions=$REGION $MODEL_NAME\n",
    "fi\n",
    "\n",
    "if [[ $(gcloud ai-platform versions list --model $MODEL_NAME --format='value(name)' | grep $VERSION_NAME) ]]; then\n",
    "    echo \"Deleting already existing $MODEL_NAME:$VERSION_NAME ... \"\n",
    "    gcloud ai-platform versions delete --model=$MODEL_NAME $VERSION_NAME\n",
    "    echo \"Please run this cell again if you don't see a Creating message ... \"\n",
    "    sleep 2\n",
    "fi\n",
    "\n",
    "# create model\n",
    "echo \"Creating $MODEL_NAME:$VERSION_NAME\"\n",
    "gcloud ai-platform versions create --model=$MODEL_NAME $VERSION_NAME --async \\\n",
    "       --framework=tensorflow --python-version=3.7 --runtime-version=2.1 \\\n",
    "       --origin=${EXPORT_PATH} --staging-bucket=gs://$BUCKET"
   ]
  },
  {
   "cell_type": "markdown",
   "metadata": {},
   "source": [
    "Copyright 2019 Google Inc. Licensed under the Apache License, Version 2.0 (the \"License\"); you may not use this file except in compliance with the License. You may obtain a copy of the License at http://www.apache.org/licenses/LICENSE-2.0 Unless required by applicable law or agreed to in writing, software distributed under the License is distributed on an \"AS IS\" BASIS, WITHOUT WARRANTIES OR CONDITIONS OF ANY KIND, either express or implied. See the License for the specific language governing permissions and limitations under the License"
   ]
  }
 ],
 "metadata": {
  "environment": {
   "name": "tf2-gpu.2-1.m59",
   "type": "gcloud",
   "uri": "gcr.io/deeplearning-platform-release/tf2-gpu.2-1:m59"
  },
  "kernelspec": {
   "display_name": "Python 3",
   "language": "python",
   "name": "python3"
  },
  "language_info": {
   "codemirror_mode": {
    "name": "ipython",
    "version": 3
   },
   "file_extension": ".py",
   "mimetype": "text/x-python",
   "name": "python",
   "nbconvert_exporter": "python",
   "pygments_lexer": "ipython3",
   "version": "3.7.8"
  }
 },
 "nbformat": 4,
 "nbformat_minor": 4
}
